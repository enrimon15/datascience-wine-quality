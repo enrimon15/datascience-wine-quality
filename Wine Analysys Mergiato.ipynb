{
 "cells": [
  {
   "cell_type": "markdown",
   "id": "09c6385f",
   "metadata": {},
   "source": [
    "# Notebook - Analisi della qualità del vino \n",
    "\n",
    "Il dataset sulla qualità del vino contiene informazioni su varie proprietà fisico-chimiche dei vini. É associato un set di dati alla sua varietà di colore: vino rosso e vino bianco. Ad ogni vino è assegnata un'etichetta riguardante la qualità.\n",
    "\n",
    "![](http://pasticceriedelite.it/wp-content/uploads/2021/02/rossibianchi.jpg)"
   ]
  },
  {
   "cell_type": "markdown",
   "id": "90a15309",
   "metadata": {},
   "source": [
    "### Indice:\n",
    "1. <a href=\"#1---Manipolazioni-dei-dati\">Manipolazione dei Dati</a> \n",
    "2. <a href=\"#2---Statistica-Descrittiva-e-Analisi-Esplorativa-tramite-Tecniche-di-Visualizzazione\">Analisi Statistica Descrittiva e Visualizzazione</a>  \n",
    "3. <a href=\"#3---Machine-learnging\">Machine Learning</a>"
   ]
  },
  {
   "cell_type": "markdown",
   "id": "12f81b9d",
   "metadata": {},
   "source": [
    "### Import delle librerie necessarie"
   ]
  },
  {
   "cell_type": "code",
   "execution_count": 1,
   "id": "9c7823c9",
   "metadata": {},
   "outputs": [],
   "source": [
    "import numpy as np\n",
    "import pandas as pd\n",
    "import matplotlib.pyplot as plt\n",
    "import seaborn as sns\n",
    "import numpy as np\n",
    "import pandas as pd\n",
    "import matplotlib.pyplot as plt\n",
    "import seaborn as sns\n",
    "from sklearn.model_selection import train_test_split\n",
    "from sklearn.preprocessing import MinMaxScaler\n",
    "from sklearn.linear_model import LinearRegression\n",
    "from sklearn.metrics import accuracy_score\n",
    "from sklearn.model_selection import cross_val_score\n",
    "from sklearn.preprocessing import MinMaxScaler\n",
    "from sklearn import neighbors\n",
    "from sklearn.metrics import mean_squared_error\n",
    "from sklearn.model_selection import LeaveOneOut\n",
    "from sklearn.model_selection import GridSearchCV\n",
    "from sklearn.svm import SVC\n",
    "from sklearn.metrics import ConfusionMatrixDisplay\n",
    "\n",
    "sns.set()"
   ]
  },
  {
   "cell_type": "markdown",
   "id": "aafc66a8",
   "metadata": {},
   "source": [
    "### Caricamento dei dataset <a href=\"https://archive.ics.uci.edu/ml/datasets/Wine+Quality\" target=\"_blank\">LINK</a>"
   ]
  },
  {
   "cell_type": "code",
   "execution_count": 2,
   "id": "fbdb976b",
   "metadata": {},
   "outputs": [],
   "source": [
    "# utilizzo il separatore ';'\n",
    "df_white_wine = pd.read_csv('./winequality-white.csv', sep=';')\n",
    "df_red_wine = pd.read_csv('./winequality-red.csv', sep=';')"
   ]
  },
  {
   "cell_type": "markdown",
   "id": "9d2678e1",
   "metadata": {},
   "source": [
    "## 1 - Manipolazioni dei dati"
   ]
  },
  {
   "cell_type": "markdown",
   "id": "7e0bc92f",
   "metadata": {},
   "source": [
    "Una prima vista dei dataset"
   ]
  },
  {
   "cell_type": "code",
   "execution_count": 3,
   "id": "cfa276aa",
   "metadata": {},
   "outputs": [
    {
     "name": "stdout",
     "output_type": "stream",
     "text": [
      "Dataset vini rossi: (1599, 12)\n"
     ]
    },
    {
     "data": {
      "text/html": [
       "<div>\n",
       "<style scoped>\n",
       "    .dataframe tbody tr th:only-of-type {\n",
       "        vertical-align: middle;\n",
       "    }\n",
       "\n",
       "    .dataframe tbody tr th {\n",
       "        vertical-align: top;\n",
       "    }\n",
       "\n",
       "    .dataframe thead th {\n",
       "        text-align: right;\n",
       "    }\n",
       "</style>\n",
       "<table border=\"1\" class=\"dataframe\">\n",
       "  <thead>\n",
       "    <tr style=\"text-align: right;\">\n",
       "      <th></th>\n",
       "      <th>fixed acidity</th>\n",
       "      <th>volatile acidity</th>\n",
       "      <th>citric acid</th>\n",
       "      <th>residual sugar</th>\n",
       "      <th>chlorides</th>\n",
       "      <th>free sulfur dioxide</th>\n",
       "      <th>total sulfur dioxide</th>\n",
       "      <th>density</th>\n",
       "      <th>pH</th>\n",
       "      <th>sulphates</th>\n",
       "      <th>alcohol</th>\n",
       "      <th>quality</th>\n",
       "    </tr>\n",
       "  </thead>\n",
       "  <tbody>\n",
       "    <tr>\n",
       "      <th>0</th>\n",
       "      <td>7.4</td>\n",
       "      <td>0.700</td>\n",
       "      <td>0.00</td>\n",
       "      <td>1.9</td>\n",
       "      <td>0.076</td>\n",
       "      <td>11.0</td>\n",
       "      <td>34.0</td>\n",
       "      <td>0.99780</td>\n",
       "      <td>3.51</td>\n",
       "      <td>0.56</td>\n",
       "      <td>9.4</td>\n",
       "      <td>5</td>\n",
       "    </tr>\n",
       "    <tr>\n",
       "      <th>1</th>\n",
       "      <td>7.8</td>\n",
       "      <td>0.880</td>\n",
       "      <td>0.00</td>\n",
       "      <td>2.6</td>\n",
       "      <td>0.098</td>\n",
       "      <td>25.0</td>\n",
       "      <td>67.0</td>\n",
       "      <td>0.99680</td>\n",
       "      <td>3.20</td>\n",
       "      <td>0.68</td>\n",
       "      <td>9.8</td>\n",
       "      <td>5</td>\n",
       "    </tr>\n",
       "    <tr>\n",
       "      <th>2</th>\n",
       "      <td>7.8</td>\n",
       "      <td>0.760</td>\n",
       "      <td>0.04</td>\n",
       "      <td>2.3</td>\n",
       "      <td>0.092</td>\n",
       "      <td>15.0</td>\n",
       "      <td>54.0</td>\n",
       "      <td>0.99700</td>\n",
       "      <td>3.26</td>\n",
       "      <td>0.65</td>\n",
       "      <td>9.8</td>\n",
       "      <td>5</td>\n",
       "    </tr>\n",
       "    <tr>\n",
       "      <th>3</th>\n",
       "      <td>11.2</td>\n",
       "      <td>0.280</td>\n",
       "      <td>0.56</td>\n",
       "      <td>1.9</td>\n",
       "      <td>0.075</td>\n",
       "      <td>17.0</td>\n",
       "      <td>60.0</td>\n",
       "      <td>0.99800</td>\n",
       "      <td>3.16</td>\n",
       "      <td>0.58</td>\n",
       "      <td>9.8</td>\n",
       "      <td>6</td>\n",
       "    </tr>\n",
       "    <tr>\n",
       "      <th>4</th>\n",
       "      <td>7.4</td>\n",
       "      <td>0.700</td>\n",
       "      <td>0.00</td>\n",
       "      <td>1.9</td>\n",
       "      <td>0.076</td>\n",
       "      <td>11.0</td>\n",
       "      <td>34.0</td>\n",
       "      <td>0.99780</td>\n",
       "      <td>3.51</td>\n",
       "      <td>0.56</td>\n",
       "      <td>9.4</td>\n",
       "      <td>5</td>\n",
       "    </tr>\n",
       "    <tr>\n",
       "      <th>...</th>\n",
       "      <td>...</td>\n",
       "      <td>...</td>\n",
       "      <td>...</td>\n",
       "      <td>...</td>\n",
       "      <td>...</td>\n",
       "      <td>...</td>\n",
       "      <td>...</td>\n",
       "      <td>...</td>\n",
       "      <td>...</td>\n",
       "      <td>...</td>\n",
       "      <td>...</td>\n",
       "      <td>...</td>\n",
       "    </tr>\n",
       "    <tr>\n",
       "      <th>1594</th>\n",
       "      <td>6.2</td>\n",
       "      <td>0.600</td>\n",
       "      <td>0.08</td>\n",
       "      <td>2.0</td>\n",
       "      <td>0.090</td>\n",
       "      <td>32.0</td>\n",
       "      <td>44.0</td>\n",
       "      <td>0.99490</td>\n",
       "      <td>3.45</td>\n",
       "      <td>0.58</td>\n",
       "      <td>10.5</td>\n",
       "      <td>5</td>\n",
       "    </tr>\n",
       "    <tr>\n",
       "      <th>1595</th>\n",
       "      <td>5.9</td>\n",
       "      <td>0.550</td>\n",
       "      <td>0.10</td>\n",
       "      <td>2.2</td>\n",
       "      <td>0.062</td>\n",
       "      <td>39.0</td>\n",
       "      <td>51.0</td>\n",
       "      <td>0.99512</td>\n",
       "      <td>3.52</td>\n",
       "      <td>0.76</td>\n",
       "      <td>11.2</td>\n",
       "      <td>6</td>\n",
       "    </tr>\n",
       "    <tr>\n",
       "      <th>1596</th>\n",
       "      <td>6.3</td>\n",
       "      <td>0.510</td>\n",
       "      <td>0.13</td>\n",
       "      <td>2.3</td>\n",
       "      <td>0.076</td>\n",
       "      <td>29.0</td>\n",
       "      <td>40.0</td>\n",
       "      <td>0.99574</td>\n",
       "      <td>3.42</td>\n",
       "      <td>0.75</td>\n",
       "      <td>11.0</td>\n",
       "      <td>6</td>\n",
       "    </tr>\n",
       "    <tr>\n",
       "      <th>1597</th>\n",
       "      <td>5.9</td>\n",
       "      <td>0.645</td>\n",
       "      <td>0.12</td>\n",
       "      <td>2.0</td>\n",
       "      <td>0.075</td>\n",
       "      <td>32.0</td>\n",
       "      <td>44.0</td>\n",
       "      <td>0.99547</td>\n",
       "      <td>3.57</td>\n",
       "      <td>0.71</td>\n",
       "      <td>10.2</td>\n",
       "      <td>5</td>\n",
       "    </tr>\n",
       "    <tr>\n",
       "      <th>1598</th>\n",
       "      <td>6.0</td>\n",
       "      <td>0.310</td>\n",
       "      <td>0.47</td>\n",
       "      <td>3.6</td>\n",
       "      <td>0.067</td>\n",
       "      <td>18.0</td>\n",
       "      <td>42.0</td>\n",
       "      <td>0.99549</td>\n",
       "      <td>3.39</td>\n",
       "      <td>0.66</td>\n",
       "      <td>11.0</td>\n",
       "      <td>6</td>\n",
       "    </tr>\n",
       "  </tbody>\n",
       "</table>\n",
       "<p>1599 rows × 12 columns</p>\n",
       "</div>"
      ],
      "text/plain": [
       "      fixed acidity  volatile acidity  citric acid  residual sugar  chlorides  \\\n",
       "0               7.4             0.700         0.00             1.9      0.076   \n",
       "1               7.8             0.880         0.00             2.6      0.098   \n",
       "2               7.8             0.760         0.04             2.3      0.092   \n",
       "3              11.2             0.280         0.56             1.9      0.075   \n",
       "4               7.4             0.700         0.00             1.9      0.076   \n",
       "...             ...               ...          ...             ...        ...   \n",
       "1594            6.2             0.600         0.08             2.0      0.090   \n",
       "1595            5.9             0.550         0.10             2.2      0.062   \n",
       "1596            6.3             0.510         0.13             2.3      0.076   \n",
       "1597            5.9             0.645         0.12             2.0      0.075   \n",
       "1598            6.0             0.310         0.47             3.6      0.067   \n",
       "\n",
       "      free sulfur dioxide  total sulfur dioxide  density    pH  sulphates  \\\n",
       "0                    11.0                  34.0  0.99780  3.51       0.56   \n",
       "1                    25.0                  67.0  0.99680  3.20       0.68   \n",
       "2                    15.0                  54.0  0.99700  3.26       0.65   \n",
       "3                    17.0                  60.0  0.99800  3.16       0.58   \n",
       "4                    11.0                  34.0  0.99780  3.51       0.56   \n",
       "...                   ...                   ...      ...   ...        ...   \n",
       "1594                 32.0                  44.0  0.99490  3.45       0.58   \n",
       "1595                 39.0                  51.0  0.99512  3.52       0.76   \n",
       "1596                 29.0                  40.0  0.99574  3.42       0.75   \n",
       "1597                 32.0                  44.0  0.99547  3.57       0.71   \n",
       "1598                 18.0                  42.0  0.99549  3.39       0.66   \n",
       "\n",
       "      alcohol  quality  \n",
       "0         9.4        5  \n",
       "1         9.8        5  \n",
       "2         9.8        5  \n",
       "3         9.8        6  \n",
       "4         9.4        5  \n",
       "...       ...      ...  \n",
       "1594     10.5        5  \n",
       "1595     11.2        6  \n",
       "1596     11.0        6  \n",
       "1597     10.2        5  \n",
       "1598     11.0        6  \n",
       "\n",
       "[1599 rows x 12 columns]"
      ]
     },
     "execution_count": 3,
     "metadata": {},
     "output_type": "execute_result"
    }
   ],
   "source": [
    "print('Dataset vini rossi:', df_red_wine.shape)\n",
    "df_red_wine"
   ]
  },
  {
   "cell_type": "code",
   "execution_count": 4,
   "id": "26201624",
   "metadata": {},
   "outputs": [
    {
     "name": "stdout",
     "output_type": "stream",
     "text": [
      "Dataset vini bianchi: (1599, 12)\n"
     ]
    },
    {
     "data": {
      "text/html": [
       "<div>\n",
       "<style scoped>\n",
       "    .dataframe tbody tr th:only-of-type {\n",
       "        vertical-align: middle;\n",
       "    }\n",
       "\n",
       "    .dataframe tbody tr th {\n",
       "        vertical-align: top;\n",
       "    }\n",
       "\n",
       "    .dataframe thead th {\n",
       "        text-align: right;\n",
       "    }\n",
       "</style>\n",
       "<table border=\"1\" class=\"dataframe\">\n",
       "  <thead>\n",
       "    <tr style=\"text-align: right;\">\n",
       "      <th></th>\n",
       "      <th>fixed acidity</th>\n",
       "      <th>volatile acidity</th>\n",
       "      <th>citric acid</th>\n",
       "      <th>residual sugar</th>\n",
       "      <th>chlorides</th>\n",
       "      <th>free sulfur dioxide</th>\n",
       "      <th>total sulfur dioxide</th>\n",
       "      <th>density</th>\n",
       "      <th>pH</th>\n",
       "      <th>sulphates</th>\n",
       "      <th>alcohol</th>\n",
       "      <th>quality</th>\n",
       "    </tr>\n",
       "  </thead>\n",
       "  <tbody>\n",
       "    <tr>\n",
       "      <th>0</th>\n",
       "      <td>7.0</td>\n",
       "      <td>0.27</td>\n",
       "      <td>0.36</td>\n",
       "      <td>20.7</td>\n",
       "      <td>0.045</td>\n",
       "      <td>45.0</td>\n",
       "      <td>170.0</td>\n",
       "      <td>1.00100</td>\n",
       "      <td>3.00</td>\n",
       "      <td>0.45</td>\n",
       "      <td>8.8</td>\n",
       "      <td>6</td>\n",
       "    </tr>\n",
       "    <tr>\n",
       "      <th>1</th>\n",
       "      <td>6.3</td>\n",
       "      <td>0.30</td>\n",
       "      <td>0.34</td>\n",
       "      <td>1.6</td>\n",
       "      <td>0.049</td>\n",
       "      <td>14.0</td>\n",
       "      <td>132.0</td>\n",
       "      <td>0.99400</td>\n",
       "      <td>3.30</td>\n",
       "      <td>0.49</td>\n",
       "      <td>9.5</td>\n",
       "      <td>6</td>\n",
       "    </tr>\n",
       "    <tr>\n",
       "      <th>2</th>\n",
       "      <td>8.1</td>\n",
       "      <td>0.28</td>\n",
       "      <td>0.40</td>\n",
       "      <td>6.9</td>\n",
       "      <td>0.050</td>\n",
       "      <td>30.0</td>\n",
       "      <td>97.0</td>\n",
       "      <td>0.99510</td>\n",
       "      <td>3.26</td>\n",
       "      <td>0.44</td>\n",
       "      <td>10.1</td>\n",
       "      <td>6</td>\n",
       "    </tr>\n",
       "    <tr>\n",
       "      <th>3</th>\n",
       "      <td>7.2</td>\n",
       "      <td>0.23</td>\n",
       "      <td>0.32</td>\n",
       "      <td>8.5</td>\n",
       "      <td>0.058</td>\n",
       "      <td>47.0</td>\n",
       "      <td>186.0</td>\n",
       "      <td>0.99560</td>\n",
       "      <td>3.19</td>\n",
       "      <td>0.40</td>\n",
       "      <td>9.9</td>\n",
       "      <td>6</td>\n",
       "    </tr>\n",
       "    <tr>\n",
       "      <th>4</th>\n",
       "      <td>7.2</td>\n",
       "      <td>0.23</td>\n",
       "      <td>0.32</td>\n",
       "      <td>8.5</td>\n",
       "      <td>0.058</td>\n",
       "      <td>47.0</td>\n",
       "      <td>186.0</td>\n",
       "      <td>0.99560</td>\n",
       "      <td>3.19</td>\n",
       "      <td>0.40</td>\n",
       "      <td>9.9</td>\n",
       "      <td>6</td>\n",
       "    </tr>\n",
       "    <tr>\n",
       "      <th>...</th>\n",
       "      <td>...</td>\n",
       "      <td>...</td>\n",
       "      <td>...</td>\n",
       "      <td>...</td>\n",
       "      <td>...</td>\n",
       "      <td>...</td>\n",
       "      <td>...</td>\n",
       "      <td>...</td>\n",
       "      <td>...</td>\n",
       "      <td>...</td>\n",
       "      <td>...</td>\n",
       "      <td>...</td>\n",
       "    </tr>\n",
       "    <tr>\n",
       "      <th>4893</th>\n",
       "      <td>6.2</td>\n",
       "      <td>0.21</td>\n",
       "      <td>0.29</td>\n",
       "      <td>1.6</td>\n",
       "      <td>0.039</td>\n",
       "      <td>24.0</td>\n",
       "      <td>92.0</td>\n",
       "      <td>0.99114</td>\n",
       "      <td>3.27</td>\n",
       "      <td>0.50</td>\n",
       "      <td>11.2</td>\n",
       "      <td>6</td>\n",
       "    </tr>\n",
       "    <tr>\n",
       "      <th>4894</th>\n",
       "      <td>6.6</td>\n",
       "      <td>0.32</td>\n",
       "      <td>0.36</td>\n",
       "      <td>8.0</td>\n",
       "      <td>0.047</td>\n",
       "      <td>57.0</td>\n",
       "      <td>168.0</td>\n",
       "      <td>0.99490</td>\n",
       "      <td>3.15</td>\n",
       "      <td>0.46</td>\n",
       "      <td>9.6</td>\n",
       "      <td>5</td>\n",
       "    </tr>\n",
       "    <tr>\n",
       "      <th>4895</th>\n",
       "      <td>6.5</td>\n",
       "      <td>0.24</td>\n",
       "      <td>0.19</td>\n",
       "      <td>1.2</td>\n",
       "      <td>0.041</td>\n",
       "      <td>30.0</td>\n",
       "      <td>111.0</td>\n",
       "      <td>0.99254</td>\n",
       "      <td>2.99</td>\n",
       "      <td>0.46</td>\n",
       "      <td>9.4</td>\n",
       "      <td>6</td>\n",
       "    </tr>\n",
       "    <tr>\n",
       "      <th>4896</th>\n",
       "      <td>5.5</td>\n",
       "      <td>0.29</td>\n",
       "      <td>0.30</td>\n",
       "      <td>1.1</td>\n",
       "      <td>0.022</td>\n",
       "      <td>20.0</td>\n",
       "      <td>110.0</td>\n",
       "      <td>0.98869</td>\n",
       "      <td>3.34</td>\n",
       "      <td>0.38</td>\n",
       "      <td>12.8</td>\n",
       "      <td>7</td>\n",
       "    </tr>\n",
       "    <tr>\n",
       "      <th>4897</th>\n",
       "      <td>6.0</td>\n",
       "      <td>0.21</td>\n",
       "      <td>0.38</td>\n",
       "      <td>0.8</td>\n",
       "      <td>0.020</td>\n",
       "      <td>22.0</td>\n",
       "      <td>98.0</td>\n",
       "      <td>0.98941</td>\n",
       "      <td>3.26</td>\n",
       "      <td>0.32</td>\n",
       "      <td>11.8</td>\n",
       "      <td>6</td>\n",
       "    </tr>\n",
       "  </tbody>\n",
       "</table>\n",
       "<p>4898 rows × 12 columns</p>\n",
       "</div>"
      ],
      "text/plain": [
       "      fixed acidity  volatile acidity  citric acid  residual sugar  chlorides  \\\n",
       "0               7.0              0.27         0.36            20.7      0.045   \n",
       "1               6.3              0.30         0.34             1.6      0.049   \n",
       "2               8.1              0.28         0.40             6.9      0.050   \n",
       "3               7.2              0.23         0.32             8.5      0.058   \n",
       "4               7.2              0.23         0.32             8.5      0.058   \n",
       "...             ...               ...          ...             ...        ...   \n",
       "4893            6.2              0.21         0.29             1.6      0.039   \n",
       "4894            6.6              0.32         0.36             8.0      0.047   \n",
       "4895            6.5              0.24         0.19             1.2      0.041   \n",
       "4896            5.5              0.29         0.30             1.1      0.022   \n",
       "4897            6.0              0.21         0.38             0.8      0.020   \n",
       "\n",
       "      free sulfur dioxide  total sulfur dioxide  density    pH  sulphates  \\\n",
       "0                    45.0                 170.0  1.00100  3.00       0.45   \n",
       "1                    14.0                 132.0  0.99400  3.30       0.49   \n",
       "2                    30.0                  97.0  0.99510  3.26       0.44   \n",
       "3                    47.0                 186.0  0.99560  3.19       0.40   \n",
       "4                    47.0                 186.0  0.99560  3.19       0.40   \n",
       "...                   ...                   ...      ...   ...        ...   \n",
       "4893                 24.0                  92.0  0.99114  3.27       0.50   \n",
       "4894                 57.0                 168.0  0.99490  3.15       0.46   \n",
       "4895                 30.0                 111.0  0.99254  2.99       0.46   \n",
       "4896                 20.0                 110.0  0.98869  3.34       0.38   \n",
       "4897                 22.0                  98.0  0.98941  3.26       0.32   \n",
       "\n",
       "      alcohol  quality  \n",
       "0         8.8        6  \n",
       "1         9.5        6  \n",
       "2        10.1        6  \n",
       "3         9.9        6  \n",
       "4         9.9        6  \n",
       "...       ...      ...  \n",
       "4893     11.2        6  \n",
       "4894      9.6        5  \n",
       "4895      9.4        6  \n",
       "4896     12.8        7  \n",
       "4897     11.8        6  \n",
       "\n",
       "[4898 rows x 12 columns]"
      ]
     },
     "execution_count": 4,
     "metadata": {},
     "output_type": "execute_result"
    }
   ],
   "source": [
    "print('Dataset vini bianchi:', df_red_wine.shape)\n",
    "df_white_wine"
   ]
  },
  {
   "cell_type": "markdown",
   "id": "03840e8c",
   "metadata": {},
   "source": [
    "### Modifica dei dataset aggiungendo la colonna relativa al colore del vino"
   ]
  },
  {
   "cell_type": "code",
   "execution_count": 5,
   "id": "d8b46279",
   "metadata": {},
   "outputs": [],
   "source": [
    "df_red_wine['wine color'] = 'red'   \n",
    "df_white_wine['wine color'] = 'white'"
   ]
  },
  {
   "cell_type": "code",
   "execution_count": 6,
   "id": "2efdbe84",
   "metadata": {},
   "outputs": [
    {
     "name": "stdout",
     "output_type": "stream",
     "text": [
      "Verifica della colonna del colore per vini rossi:\n"
     ]
    },
    {
     "data": {
      "text/html": [
       "<div>\n",
       "<style scoped>\n",
       "    .dataframe tbody tr th:only-of-type {\n",
       "        vertical-align: middle;\n",
       "    }\n",
       "\n",
       "    .dataframe tbody tr th {\n",
       "        vertical-align: top;\n",
       "    }\n",
       "\n",
       "    .dataframe thead th {\n",
       "        text-align: right;\n",
       "    }\n",
       "</style>\n",
       "<table border=\"1\" class=\"dataframe\">\n",
       "  <thead>\n",
       "    <tr style=\"text-align: right;\">\n",
       "      <th></th>\n",
       "      <th>fixed acidity</th>\n",
       "      <th>volatile acidity</th>\n",
       "      <th>citric acid</th>\n",
       "      <th>residual sugar</th>\n",
       "      <th>chlorides</th>\n",
       "      <th>free sulfur dioxide</th>\n",
       "      <th>total sulfur dioxide</th>\n",
       "      <th>density</th>\n",
       "      <th>pH</th>\n",
       "      <th>sulphates</th>\n",
       "      <th>alcohol</th>\n",
       "      <th>quality</th>\n",
       "      <th>wine color</th>\n",
       "    </tr>\n",
       "  </thead>\n",
       "  <tbody>\n",
       "    <tr>\n",
       "      <th>0</th>\n",
       "      <td>7.4</td>\n",
       "      <td>0.70</td>\n",
       "      <td>0.00</td>\n",
       "      <td>1.9</td>\n",
       "      <td>0.076</td>\n",
       "      <td>11.0</td>\n",
       "      <td>34.0</td>\n",
       "      <td>0.9978</td>\n",
       "      <td>3.51</td>\n",
       "      <td>0.56</td>\n",
       "      <td>9.4</td>\n",
       "      <td>5</td>\n",
       "      <td>red</td>\n",
       "    </tr>\n",
       "    <tr>\n",
       "      <th>1</th>\n",
       "      <td>7.8</td>\n",
       "      <td>0.88</td>\n",
       "      <td>0.00</td>\n",
       "      <td>2.6</td>\n",
       "      <td>0.098</td>\n",
       "      <td>25.0</td>\n",
       "      <td>67.0</td>\n",
       "      <td>0.9968</td>\n",
       "      <td>3.20</td>\n",
       "      <td>0.68</td>\n",
       "      <td>9.8</td>\n",
       "      <td>5</td>\n",
       "      <td>red</td>\n",
       "    </tr>\n",
       "    <tr>\n",
       "      <th>2</th>\n",
       "      <td>7.8</td>\n",
       "      <td>0.76</td>\n",
       "      <td>0.04</td>\n",
       "      <td>2.3</td>\n",
       "      <td>0.092</td>\n",
       "      <td>15.0</td>\n",
       "      <td>54.0</td>\n",
       "      <td>0.9970</td>\n",
       "      <td>3.26</td>\n",
       "      <td>0.65</td>\n",
       "      <td>9.8</td>\n",
       "      <td>5</td>\n",
       "      <td>red</td>\n",
       "    </tr>\n",
       "    <tr>\n",
       "      <th>3</th>\n",
       "      <td>11.2</td>\n",
       "      <td>0.28</td>\n",
       "      <td>0.56</td>\n",
       "      <td>1.9</td>\n",
       "      <td>0.075</td>\n",
       "      <td>17.0</td>\n",
       "      <td>60.0</td>\n",
       "      <td>0.9980</td>\n",
       "      <td>3.16</td>\n",
       "      <td>0.58</td>\n",
       "      <td>9.8</td>\n",
       "      <td>6</td>\n",
       "      <td>red</td>\n",
       "    </tr>\n",
       "    <tr>\n",
       "      <th>4</th>\n",
       "      <td>7.4</td>\n",
       "      <td>0.70</td>\n",
       "      <td>0.00</td>\n",
       "      <td>1.9</td>\n",
       "      <td>0.076</td>\n",
       "      <td>11.0</td>\n",
       "      <td>34.0</td>\n",
       "      <td>0.9978</td>\n",
       "      <td>3.51</td>\n",
       "      <td>0.56</td>\n",
       "      <td>9.4</td>\n",
       "      <td>5</td>\n",
       "      <td>red</td>\n",
       "    </tr>\n",
       "  </tbody>\n",
       "</table>\n",
       "</div>"
      ],
      "text/plain": [
       "   fixed acidity  volatile acidity  citric acid  residual sugar  chlorides  \\\n",
       "0            7.4              0.70         0.00             1.9      0.076   \n",
       "1            7.8              0.88         0.00             2.6      0.098   \n",
       "2            7.8              0.76         0.04             2.3      0.092   \n",
       "3           11.2              0.28         0.56             1.9      0.075   \n",
       "4            7.4              0.70         0.00             1.9      0.076   \n",
       "\n",
       "   free sulfur dioxide  total sulfur dioxide  density    pH  sulphates  \\\n",
       "0                 11.0                  34.0   0.9978  3.51       0.56   \n",
       "1                 25.0                  67.0   0.9968  3.20       0.68   \n",
       "2                 15.0                  54.0   0.9970  3.26       0.65   \n",
       "3                 17.0                  60.0   0.9980  3.16       0.58   \n",
       "4                 11.0                  34.0   0.9978  3.51       0.56   \n",
       "\n",
       "   alcohol  quality wine color  \n",
       "0      9.4        5        red  \n",
       "1      9.8        5        red  \n",
       "2      9.8        5        red  \n",
       "3      9.8        6        red  \n",
       "4      9.4        5        red  "
      ]
     },
     "execution_count": 6,
     "metadata": {},
     "output_type": "execute_result"
    }
   ],
   "source": [
    "print('Verifica della colonna del colore per vini rossi:')\n",
    "df_red_wine.head()"
   ]
  },
  {
   "cell_type": "code",
   "execution_count": 7,
   "id": "41ebe1ce",
   "metadata": {},
   "outputs": [
    {
     "name": "stdout",
     "output_type": "stream",
     "text": [
      "Verifica della colonna del colore per vini bianchi:\n"
     ]
    },
    {
     "data": {
      "text/html": [
       "<div>\n",
       "<style scoped>\n",
       "    .dataframe tbody tr th:only-of-type {\n",
       "        vertical-align: middle;\n",
       "    }\n",
       "\n",
       "    .dataframe tbody tr th {\n",
       "        vertical-align: top;\n",
       "    }\n",
       "\n",
       "    .dataframe thead th {\n",
       "        text-align: right;\n",
       "    }\n",
       "</style>\n",
       "<table border=\"1\" class=\"dataframe\">\n",
       "  <thead>\n",
       "    <tr style=\"text-align: right;\">\n",
       "      <th></th>\n",
       "      <th>fixed acidity</th>\n",
       "      <th>volatile acidity</th>\n",
       "      <th>citric acid</th>\n",
       "      <th>residual sugar</th>\n",
       "      <th>chlorides</th>\n",
       "      <th>free sulfur dioxide</th>\n",
       "      <th>total sulfur dioxide</th>\n",
       "      <th>density</th>\n",
       "      <th>pH</th>\n",
       "      <th>sulphates</th>\n",
       "      <th>alcohol</th>\n",
       "      <th>quality</th>\n",
       "      <th>wine color</th>\n",
       "    </tr>\n",
       "  </thead>\n",
       "  <tbody>\n",
       "    <tr>\n",
       "      <th>0</th>\n",
       "      <td>7.0</td>\n",
       "      <td>0.27</td>\n",
       "      <td>0.36</td>\n",
       "      <td>20.7</td>\n",
       "      <td>0.045</td>\n",
       "      <td>45.0</td>\n",
       "      <td>170.0</td>\n",
       "      <td>1.0010</td>\n",
       "      <td>3.00</td>\n",
       "      <td>0.45</td>\n",
       "      <td>8.8</td>\n",
       "      <td>6</td>\n",
       "      <td>white</td>\n",
       "    </tr>\n",
       "    <tr>\n",
       "      <th>1</th>\n",
       "      <td>6.3</td>\n",
       "      <td>0.30</td>\n",
       "      <td>0.34</td>\n",
       "      <td>1.6</td>\n",
       "      <td>0.049</td>\n",
       "      <td>14.0</td>\n",
       "      <td>132.0</td>\n",
       "      <td>0.9940</td>\n",
       "      <td>3.30</td>\n",
       "      <td>0.49</td>\n",
       "      <td>9.5</td>\n",
       "      <td>6</td>\n",
       "      <td>white</td>\n",
       "    </tr>\n",
       "    <tr>\n",
       "      <th>2</th>\n",
       "      <td>8.1</td>\n",
       "      <td>0.28</td>\n",
       "      <td>0.40</td>\n",
       "      <td>6.9</td>\n",
       "      <td>0.050</td>\n",
       "      <td>30.0</td>\n",
       "      <td>97.0</td>\n",
       "      <td>0.9951</td>\n",
       "      <td>3.26</td>\n",
       "      <td>0.44</td>\n",
       "      <td>10.1</td>\n",
       "      <td>6</td>\n",
       "      <td>white</td>\n",
       "    </tr>\n",
       "    <tr>\n",
       "      <th>3</th>\n",
       "      <td>7.2</td>\n",
       "      <td>0.23</td>\n",
       "      <td>0.32</td>\n",
       "      <td>8.5</td>\n",
       "      <td>0.058</td>\n",
       "      <td>47.0</td>\n",
       "      <td>186.0</td>\n",
       "      <td>0.9956</td>\n",
       "      <td>3.19</td>\n",
       "      <td>0.40</td>\n",
       "      <td>9.9</td>\n",
       "      <td>6</td>\n",
       "      <td>white</td>\n",
       "    </tr>\n",
       "    <tr>\n",
       "      <th>4</th>\n",
       "      <td>7.2</td>\n",
       "      <td>0.23</td>\n",
       "      <td>0.32</td>\n",
       "      <td>8.5</td>\n",
       "      <td>0.058</td>\n",
       "      <td>47.0</td>\n",
       "      <td>186.0</td>\n",
       "      <td>0.9956</td>\n",
       "      <td>3.19</td>\n",
       "      <td>0.40</td>\n",
       "      <td>9.9</td>\n",
       "      <td>6</td>\n",
       "      <td>white</td>\n",
       "    </tr>\n",
       "  </tbody>\n",
       "</table>\n",
       "</div>"
      ],
      "text/plain": [
       "   fixed acidity  volatile acidity  citric acid  residual sugar  chlorides  \\\n",
       "0            7.0              0.27         0.36            20.7      0.045   \n",
       "1            6.3              0.30         0.34             1.6      0.049   \n",
       "2            8.1              0.28         0.40             6.9      0.050   \n",
       "3            7.2              0.23         0.32             8.5      0.058   \n",
       "4            7.2              0.23         0.32             8.5      0.058   \n",
       "\n",
       "   free sulfur dioxide  total sulfur dioxide  density    pH  sulphates  \\\n",
       "0                 45.0                 170.0   1.0010  3.00       0.45   \n",
       "1                 14.0                 132.0   0.9940  3.30       0.49   \n",
       "2                 30.0                  97.0   0.9951  3.26       0.44   \n",
       "3                 47.0                 186.0   0.9956  3.19       0.40   \n",
       "4                 47.0                 186.0   0.9956  3.19       0.40   \n",
       "\n",
       "   alcohol  quality wine color  \n",
       "0      8.8        6      white  \n",
       "1      9.5        6      white  \n",
       "2     10.1        6      white  \n",
       "3      9.9        6      white  \n",
       "4      9.9        6      white  "
      ]
     },
     "execution_count": 7,
     "metadata": {},
     "output_type": "execute_result"
    }
   ],
   "source": [
    "print('Verifica della colonna del colore per vini bianchi:')\n",
    "df_white_wine.head()"
   ]
  },
  {
   "cell_type": "markdown",
   "id": "0cf2c26b",
   "metadata": {},
   "source": [
    "### Verifica preliminare di righe e colonna per unire i due dataset"
   ]
  },
  {
   "cell_type": "code",
   "execution_count": 8,
   "id": "bf2d03af",
   "metadata": {},
   "outputs": [
    {
     "name": "stdout",
     "output_type": "stream",
     "text": [
      "fixed acidity           1599\n",
      "volatile acidity        1599\n",
      "citric acid             1599\n",
      "residual sugar          1599\n",
      "chlorides               1599\n",
      "free sulfur dioxide     1599\n",
      "total sulfur dioxide    1599\n",
      "density                 1599\n",
      "pH                      1599\n",
      "sulphates               1599\n",
      "alcohol                 1599\n",
      "quality                 1599\n",
      "wine color              1599\n",
      "dtype: int64\n",
      "\n",
      "fixed acidity           4898\n",
      "volatile acidity        4898\n",
      "citric acid             4898\n",
      "residual sugar          4898\n",
      "chlorides               4898\n",
      "free sulfur dioxide     4898\n",
      "total sulfur dioxide    4898\n",
      "density                 4898\n",
      "pH                      4898\n",
      "sulphates               4898\n",
      "alcohol                 4898\n",
      "quality                 4898\n",
      "wine color              4898\n",
      "dtype: int64\n"
     ]
    }
   ],
   "source": [
    "print(df_red_wine.count())\n",
    "print()\n",
    "print(df_white_wine.count())"
   ]
  },
  {
   "cell_type": "markdown",
   "id": "19670e05",
   "metadata": {},
   "source": [
    "***\n",
    "\n",
    "*I vini rossi sono 1599 mentre i vini bianchi sono 4898. Da una prima analisi notiamo che non ci sono anomalie su valori nulli. Inoltre, i dataset hanno le stesse colonne quindi sono concatenabili orizzontalmente.*"
   ]
  },
  {
   "cell_type": "markdown",
   "id": "5df202c3",
   "metadata": {},
   "source": [
    "### Concatenamento dei due dataset in un unico dataset (orizzontalmente)"
   ]
  },
  {
   "cell_type": "code",
   "execution_count": 9,
   "id": "be36bc64",
   "metadata": {},
   "outputs": [
    {
     "name": "stdout",
     "output_type": "stream",
     "text": [
      "<class 'pandas.core.frame.DataFrame'>\n",
      "RangeIndex: 6497 entries, 0 to 6496\n",
      "Data columns (total 13 columns):\n",
      " #   Column                Non-Null Count  Dtype  \n",
      "---  ------                --------------  -----  \n",
      " 0   fixed acidity         6497 non-null   float64\n",
      " 1   volatile acidity      6497 non-null   float64\n",
      " 2   citric acid           6497 non-null   float64\n",
      " 3   residual sugar        6497 non-null   float64\n",
      " 4   chlorides             6497 non-null   float64\n",
      " 5   free sulfur dioxide   6497 non-null   float64\n",
      " 6   total sulfur dioxide  6497 non-null   float64\n",
      " 7   density               6497 non-null   float64\n",
      " 8   pH                    6497 non-null   float64\n",
      " 9   sulphates             6497 non-null   float64\n",
      " 10  alcohol               6497 non-null   float64\n",
      " 11  quality               6497 non-null   int64  \n",
      " 12  wine color            6497 non-null   object \n",
      "dtypes: float64(11), int64(1), object(1)\n",
      "memory usage: 660.0+ KB\n"
     ]
    }
   ],
   "source": [
    "# axis = 0 --> orizzontalmente\n",
    "df_wines = pd.concat([df_red_wine, df_white_wine], axis=0)\n",
    "\n",
    "# mescolamento delle righe (axis = 0), ritorna tutte le righe (frac = 1)\n",
    "df_wines = df_wines.sample(frac=1, axis=0)\n",
    "\n",
    "# reset degli indici, elimina la colonna degli indici precedente (drop=true)\n",
    "# lavora sullo stesso DF (inplace=true)\n",
    "df_wines.reset_index(inplace=True, drop=True)\n",
    "\n",
    "df_wines.info()"
   ]
  },
  {
   "cell_type": "markdown",
   "id": "04e2388d",
   "metadata": {},
   "source": [
    "***\n",
    "\n",
    "*Si ottengono 6497 entries con indici che vanno da 0 a 6496*"
   ]
  },
  {
   "cell_type": "code",
   "execution_count": 10,
   "id": "5bcb1cd7",
   "metadata": {},
   "outputs": [
    {
     "data": {
      "text/html": [
       "<div>\n",
       "<style scoped>\n",
       "    .dataframe tbody tr th:only-of-type {\n",
       "        vertical-align: middle;\n",
       "    }\n",
       "\n",
       "    .dataframe tbody tr th {\n",
       "        vertical-align: top;\n",
       "    }\n",
       "\n",
       "    .dataframe thead th {\n",
       "        text-align: right;\n",
       "    }\n",
       "</style>\n",
       "<table border=\"1\" class=\"dataframe\">\n",
       "  <thead>\n",
       "    <tr style=\"text-align: right;\">\n",
       "      <th></th>\n",
       "      <th>fixed acidity</th>\n",
       "      <th>volatile acidity</th>\n",
       "      <th>citric acid</th>\n",
       "      <th>residual sugar</th>\n",
       "      <th>chlorides</th>\n",
       "      <th>free sulfur dioxide</th>\n",
       "      <th>total sulfur dioxide</th>\n",
       "      <th>density</th>\n",
       "      <th>pH</th>\n",
       "      <th>sulphates</th>\n",
       "      <th>alcohol</th>\n",
       "      <th>quality</th>\n",
       "      <th>wine color</th>\n",
       "    </tr>\n",
       "  </thead>\n",
       "  <tbody>\n",
       "    <tr>\n",
       "      <th>6492</th>\n",
       "      <td>8.7</td>\n",
       "      <td>0.30</td>\n",
       "      <td>0.59</td>\n",
       "      <td>1.7</td>\n",
       "      <td>0.046</td>\n",
       "      <td>10.0</td>\n",
       "      <td>70.0</td>\n",
       "      <td>0.99373</td>\n",
       "      <td>3.06</td>\n",
       "      <td>0.56</td>\n",
       "      <td>10.8</td>\n",
       "      <td>4</td>\n",
       "      <td>white</td>\n",
       "    </tr>\n",
       "    <tr>\n",
       "      <th>6493</th>\n",
       "      <td>10.6</td>\n",
       "      <td>0.50</td>\n",
       "      <td>0.45</td>\n",
       "      <td>2.6</td>\n",
       "      <td>0.119</td>\n",
       "      <td>34.0</td>\n",
       "      <td>68.0</td>\n",
       "      <td>0.99708</td>\n",
       "      <td>3.23</td>\n",
       "      <td>0.72</td>\n",
       "      <td>10.9</td>\n",
       "      <td>6</td>\n",
       "      <td>red</td>\n",
       "    </tr>\n",
       "    <tr>\n",
       "      <th>6494</th>\n",
       "      <td>6.4</td>\n",
       "      <td>0.15</td>\n",
       "      <td>0.36</td>\n",
       "      <td>1.8</td>\n",
       "      <td>0.034</td>\n",
       "      <td>43.0</td>\n",
       "      <td>150.0</td>\n",
       "      <td>0.99220</td>\n",
       "      <td>3.42</td>\n",
       "      <td>0.69</td>\n",
       "      <td>11.0</td>\n",
       "      <td>8</td>\n",
       "      <td>white</td>\n",
       "    </tr>\n",
       "    <tr>\n",
       "      <th>6495</th>\n",
       "      <td>8.5</td>\n",
       "      <td>0.44</td>\n",
       "      <td>0.50</td>\n",
       "      <td>1.9</td>\n",
       "      <td>0.369</td>\n",
       "      <td>15.0</td>\n",
       "      <td>38.0</td>\n",
       "      <td>0.99634</td>\n",
       "      <td>3.01</td>\n",
       "      <td>1.10</td>\n",
       "      <td>9.4</td>\n",
       "      <td>5</td>\n",
       "      <td>red</td>\n",
       "    </tr>\n",
       "    <tr>\n",
       "      <th>6496</th>\n",
       "      <td>6.5</td>\n",
       "      <td>0.52</td>\n",
       "      <td>0.11</td>\n",
       "      <td>1.8</td>\n",
       "      <td>0.073</td>\n",
       "      <td>13.0</td>\n",
       "      <td>38.0</td>\n",
       "      <td>0.99550</td>\n",
       "      <td>3.34</td>\n",
       "      <td>0.52</td>\n",
       "      <td>9.3</td>\n",
       "      <td>5</td>\n",
       "      <td>red</td>\n",
       "    </tr>\n",
       "  </tbody>\n",
       "</table>\n",
       "</div>"
      ],
      "text/plain": [
       "      fixed acidity  volatile acidity  citric acid  residual sugar  chlorides  \\\n",
       "6492            8.7              0.30         0.59             1.7      0.046   \n",
       "6493           10.6              0.50         0.45             2.6      0.119   \n",
       "6494            6.4              0.15         0.36             1.8      0.034   \n",
       "6495            8.5              0.44         0.50             1.9      0.369   \n",
       "6496            6.5              0.52         0.11             1.8      0.073   \n",
       "\n",
       "      free sulfur dioxide  total sulfur dioxide  density    pH  sulphates  \\\n",
       "6492                 10.0                  70.0  0.99373  3.06       0.56   \n",
       "6493                 34.0                  68.0  0.99708  3.23       0.72   \n",
       "6494                 43.0                 150.0  0.99220  3.42       0.69   \n",
       "6495                 15.0                  38.0  0.99634  3.01       1.10   \n",
       "6496                 13.0                  38.0  0.99550  3.34       0.52   \n",
       "\n",
       "      alcohol  quality wine color  \n",
       "6492     10.8        4      white  \n",
       "6493     10.9        6        red  \n",
       "6494     11.0        8      white  \n",
       "6495      9.4        5        red  \n",
       "6496      9.3        5        red  "
      ]
     },
     "execution_count": 10,
     "metadata": {},
     "output_type": "execute_result"
    }
   ],
   "source": [
    "df_wines.tail()"
   ]
  },
  {
   "cell_type": "markdown",
   "id": "641715db",
   "metadata": {},
   "source": [
    "***\n",
    "\n",
    "*Si noti come gli indici vengono resettati in modo predefinito dopo la concatenazione ed il mescolamento*"
   ]
  },
  {
   "cell_type": "markdown",
   "id": "9cd2cbdc",
   "metadata": {},
   "source": [
    "### Verifica dei valori null sul nuovo dataset"
   ]
  },
  {
   "cell_type": "code",
   "execution_count": 11,
   "id": "8d9e669c",
   "metadata": {},
   "outputs": [
    {
     "data": {
      "text/plain": [
       "fixed acidity           False\n",
       "volatile acidity        False\n",
       "citric acid             False\n",
       "residual sugar          False\n",
       "chlorides               False\n",
       "free sulfur dioxide     False\n",
       "total sulfur dioxide    False\n",
       "density                 False\n",
       "pH                      False\n",
       "sulphates               False\n",
       "alcohol                 False\n",
       "quality                 False\n",
       "wine color              False\n",
       "dtype: bool"
      ]
     },
     "execution_count": 11,
     "metadata": {},
     "output_type": "execute_result"
    }
   ],
   "source": [
    "df_wines.isnull().any()"
   ]
  },
  {
   "cell_type": "markdown",
   "id": "2921d241",
   "metadata": {},
   "source": [
    "***\n",
    "\n",
    "*Non ci sono valori mancanti/nulli e tutte le colonne (al netto della colonna descrittiva aggiunta: colore) hanno un valore numerico*"
   ]
  },
  {
   "cell_type": "markdown",
   "id": "ff8fd14e",
   "metadata": {},
   "source": [
    "### Aggiunta della colonna testuale descrittiva sulla qualità del vino"
   ]
  },
  {
   "cell_type": "code",
   "execution_count": 12,
   "id": "8007754a",
   "metadata": {},
   "outputs": [
    {
     "name": "stdout",
     "output_type": "stream",
     "text": [
      "Possibili valori (in ordine crescente) della qualità del vino: [3 4 5 6 7 8 9]\n",
      "\n",
      "Minimo valore della qualità del vino: 3\n",
      "\n",
      "Massimo valore della qualità del vino: 9\n"
     ]
    }
   ],
   "source": [
    "unique_quality = df_wines['quality'].unique();\n",
    "\n",
    "print('Possibili valori (in ordine crescente) della qualità del vino:', np.sort(unique_quality))\n",
    "print()\n",
    "print('Minimo valore della qualità del vino:', unique_quality.min())\n",
    "print()      \n",
    "print('Massimo valore della qualità del vino:', unique_quality.max())"
   ]
  },
  {
   "cell_type": "markdown",
   "id": "15bb7582",
   "metadata": {},
   "source": [
    "**In base ai risultati della precedente istruzione si utilizzano tre metodi diversi per aggiungere la nuova colonna e viene confrontata l'efficienza tramite il profiling del tempo**"
   ]
  },
  {
   "cell_type": "markdown",
   "id": "89cc669d",
   "metadata": {},
   "source": [
    "*Analisi performance funzione \"cut\":*"
   ]
  },
  {
   "cell_type": "code",
   "execution_count": 13,
   "id": "3f6bb742",
   "metadata": {},
   "outputs": [
    {
     "name": "stdout",
     "output_type": "stream",
     "text": [
      "369 µs ± 12.2 µs per loop (mean ± std. dev. of 7 runs, 1,000 loops each)\n"
     ]
    }
   ],
   "source": [
    "%%timeit\n",
    "step = (0, 5, 7, 9)\n",
    "labels = ['low', 'medium', 'high']\n",
    "df_wines['quality description'] = pd.cut(x = df_wines['quality'], bins = step, labels = labels)"
   ]
  },
  {
   "cell_type": "markdown",
   "id": "1a4bb221",
   "metadata": {},
   "source": [
    "***\n",
    "*Analisi performance funzione \"apply\":*"
   ]
  },
  {
   "cell_type": "code",
   "execution_count": 14,
   "id": "4e51d3ae",
   "metadata": {},
   "outputs": [
    {
     "name": "stdout",
     "output_type": "stream",
     "text": [
      "558 µs ± 4.6 µs per loop (mean ± std. dev. of 7 runs, 1,000 loops each)\n"
     ]
    }
   ],
   "source": [
    "%%timeit\n",
    "df_wines['quality description'] = df_wines['quality'].apply(\n",
    "    lambda value: 'low' if value <= 5 \n",
    "    else 'medium' if value <= 7 \n",
    "    else 'high')"
   ]
  },
  {
   "cell_type": "markdown",
   "id": "dae19084",
   "metadata": {},
   "source": [
    "***\n",
    "*Analisi performance funzione \"for loop\":*"
   ]
  },
  {
   "cell_type": "code",
   "execution_count": 15,
   "id": "8e18ca58",
   "metadata": {},
   "outputs": [
    {
     "name": "stdout",
     "output_type": "stream",
     "text": [
      "744 µs ± 4.91 µs per loop (mean ± std. dev. of 7 runs, 1,000 loops each)\n"
     ]
    }
   ],
   "source": [
    "%%timeit\n",
    "newRow=[]\n",
    "for row in df_wines['quality']:\n",
    "    if (row<=5):\n",
    "        val='low'\n",
    "    elif (row <= 7):\n",
    "        val='medium'\n",
    "    else:\n",
    "        val='high'\n",
    "    newRow.append(val)\n",
    "df_wines['quality description'] = newRow"
   ]
  },
  {
   "cell_type": "markdown",
   "id": "90c0a63a",
   "metadata": {},
   "source": [
    "***\n",
    "\n",
    "**Controlliamo i risultati:**"
   ]
  },
  {
   "cell_type": "code",
   "execution_count": 16,
   "id": "caed7ec5",
   "metadata": {},
   "outputs": [
    {
     "name": "stdout",
     "output_type": "stream",
     "text": [
      "    quality quality description\n",
      "3         5                 low\n",
      "7         5                 low\n",
      "13        5                 low\n",
      "16        5                 low\n",
      "19        4                 low\n",
      "\n",
      "   quality quality description\n",
      "0        6              medium\n",
      "1        7              medium\n",
      "2        7              medium\n",
      "4        6              medium\n",
      "5        6              medium\n",
      "\n",
      "     quality quality description\n",
      "9          8                high\n",
      "34         8                high\n",
      "97         8                high\n",
      "158        8                high\n",
      "199        8                high\n"
     ]
    }
   ],
   "source": [
    "print(df_wines.loc[df_wines['quality'] <= 5, ['quality','quality description']].head())\n",
    "print()\n",
    "print(df_wines.loc[df_wines['quality'].between(6, 7),['quality','quality description']].head())\n",
    "print()\n",
    "print(df_wines.loc[df_wines['quality'] > 7,['quality','quality description']].head())\n"
   ]
  },
  {
   "cell_type": "markdown",
   "id": "cc192efa",
   "metadata": {},
   "source": [
    "### Aggiunta della colonna sulle KCAL\n",
    "\n",
    "L’alcol sviluppa circa 7 kcal per grammo ed ha un peso specifico di 79 quindi pesa 0.79 kg/litro. Un litro di vino con 12° di gradazione contiene 120 ml di alcol, pari a 120×0.79=94.8 grammi. Quindi in termini di calorie: 95×7=**665 kcal**\n",
    "\n",
    "Lo zucchero nel vino, ha un apporto calorico di 4 kcal per grammo. Per cui, un vino con 2.4 g di zucchero contiene 2.4x4=**9.6 kcal**\n",
    "\n",
    "In totale un litro del vino in questione conterrà 665+9.6=**674.6 kcal** \n",
    "\n",
    "<a href=\"https://www.quattrocalici.it/articoli/quante-calorie-nel-bicchiere-di-vino/\" target=\"_blank\">fonte</a>"
   ]
  },
  {
   "cell_type": "markdown",
   "id": "8f28d231",
   "metadata": {},
   "source": [
    "**Si utilizzano tre metodi diversi per aggiungere la nuova colonna e viene confrontata l'efficienza tramite il profiling del tempo.**"
   ]
  },
  {
   "cell_type": "markdown",
   "id": "e4ef2ed9",
   "metadata": {},
   "source": [
    "***\n",
    "*Analisi performance versione \"ufunc\":*"
   ]
  },
  {
   "cell_type": "code",
   "execution_count": null,
   "id": "638df549",
   "metadata": {},
   "outputs": [],
   "source": [
    "%%timeit\n",
    "kcal_alcohol = ((df_wines['alcohol'] * 10) * 0.79) * 7\n",
    "kcal_sugar = df_wines['residual sugar'] * 4\n",
    "df_wines['kcal'] = round(kcal_alcohol + kcal_sugar)"
   ]
  },
  {
   "cell_type": "markdown",
   "id": "c2d2a46b",
   "metadata": {},
   "source": [
    "***\n",
    "*Analisi performance versione \"eval\":*"
   ]
  },
  {
   "cell_type": "code",
   "execution_count": null,
   "id": "627b86c6",
   "metadata": {
    "scrolled": true
   },
   "outputs": [],
   "source": [
    "%timeit df_wines.eval('kcal = (alcohol * 10 * 0.79 * 7) + (`residual sugar` * 4)', inplace=True)"
   ]
  },
  {
   "cell_type": "markdown",
   "id": "98445d0f",
   "metadata": {},
   "source": [
    "***\n",
    "*Analisi performance versione \"for loop\":*"
   ]
  },
  {
   "cell_type": "code",
   "execution_count": null,
   "id": "5489cd0b",
   "metadata": {},
   "outputs": [],
   "source": [
    "%%timeit\n",
    "newRow=[]\n",
    "for rowNumer in df_wines.index:\n",
    "    kcal_alcohol = df_wines['alcohol'][rowNumer] * 10 * 0.79 * 7\n",
    "    kcal_sugar = df_wines['residual sugar'][rowNumer] * 4\n",
    "    newRow.append(round(kcal_alcohol + kcal_sugar))\n",
    "                  \n",
    "df_wines['kcal'] = newRow                  "
   ]
  },
  {
   "cell_type": "code",
   "execution_count": null,
   "id": "dcdb331d",
   "metadata": {},
   "outputs": [],
   "source": [
    "print('Verifica della colonna aggiunta:')\n",
    "df_wines.head()"
   ]
  },
  {
   "cell_type": "markdown",
   "id": "56585a94",
   "metadata": {},
   "source": [
    "## 2 - Statistica Descrittiva e Analisi Esplorativa tramite Tecniche di Visualizzazione"
   ]
  },
  {
   "cell_type": "markdown",
   "id": "230b68a3",
   "metadata": {},
   "source": [
    "### Attributi e proprietà del dataset:\n",
    "\n",
    "* **Fixed Acidity**: Quantità di acido non volatile (non evapora facilmente) nel vino. La riduzione significativa di questa componente potrebbe portare a vini dal sapore piatto.\n",
    "\n",
    "* **Volatile Acidity**: Indica la quantità di acido acetico nel vino. Un eccesso di questa compoenente porta a un sapore sgradevole.\n",
    "\n",
    "* **Citric Acid**: Indica la quantità di acido citrico nel vino. Questa componente presente in piccole quantità conferisce freschezza al vino.\n",
    "\n",
    "* **Residual Sugar**: Indica la quantità di zucchero rimasta nel vino al termine del processo di fermentazione.\n",
    "\n",
    "* **Chlorides**: Indica la quantità di sale nel vino.\n",
    "\n",
    "* **Free Sulfur Dioxide**: Indica la quantità di anidride solforosa in forma libera (che non si lega). Eccessive quantità potrebbero fornire un odore pungente.\n",
    "\n",
    "* **Total Sulfur Dioxide**: misura la quantità totale di anidride solforosa nel vino. Questa sostanza chimica funziona come un agente antiossidante e antimicrobico.\n",
    "\n",
    "* **Density**: Indica la misura della conversione dello zucchero in alcol. Vini più dolci hanno una densità maggiore.\n",
    "\n",
    "* **PH**: Indica quanto è acido o basico un vino su una scala da 0 (molto acido) a 14 (molto basico). La maggior parte dei vini ha un pH compreso tra 2,9 e 3,9 e sono quindi acidi. La *Fixed Acidity* contribuisce alla variazione di PH dei vini.\n",
    "\n",
    "* **Sulphates**: Indica la quantità di solfato di potassio nel vino. Sono collegati al processo di fermentazione e influenzano l'aroma e il sapore del vino.\n",
    "\n",
    "* **Alcohol**: Conversione dello zucchero durante il processo di fermentazione. Indica la gradazione alcolica. Misurato in percentuale.\n",
    "\n",
    "* **Quality**: Indica la qualità del vino, che va da 1 a 9. Più alto è il valore, migliore è il vino.\n",
    "\n",
    "* **Wine Color**: Attributo introdotto che indica il colore del vino. Un vino può essere \"rosso\" o \"bianco\".\n",
    "\n",
    "* **Quality Description**: Attributo derivato dall'attributo *Quality*. Raggruppato in tre segmenti qualitativi: low, medium e high. I vini con un punteggio di qualità di 3, 4 e 5 sono di bassa qualità, quelli con un punteggio di 6 e 7 sono di media qualità e quelli superiori a 7 sono di alta qualità.\n",
    "\n",
    "* **kcal**: Attributo derivato dagli attributi *Alcohol* e *Residual Sugar*. Indica le kcal/l possedute dal vino."
   ]
  },
  {
   "cell_type": "markdown",
   "id": "2468e734",
   "metadata": {},
   "source": [
    "### Analisi numerica dei vini in base colore"
   ]
  },
  {
   "cell_type": "code",
   "execution_count": null,
   "id": "f4627e41",
   "metadata": {},
   "outputs": [],
   "source": [
    "pd.set_option(\"display.max_columns\", None)\n",
    "\n",
    "rs = round(df_wines[df_wines['wine color'] == 'red'].describe(),2).T\n",
    "ws = round(df_wines[df_wines['wine color'] == 'white'].describe(),2).T\n",
    "pd.concat([rs, ws], axis=1, keys=['Red Wine Stats', 'White Wine Stats'])"
   ]
  },
  {
   "cell_type": "markdown",
   "id": "55d2e17e",
   "metadata": {},
   "source": [
    "***\n",
    "*Si noti ad esempio come, nonostante i vini rossi abbiano il valore massimo di alcohol più alto rispetto ai vini bianci, in media questi ultimi sono leggermente più alcolici*\n",
    "\n",
    "*Si può studiare il fenomeno tramite un grafico che mostri la **Kernel Density Estimation**, cercando di approssimare la funzione continua di probabilità ignorando eventuali picchi che potrebbero rappresentare valori anomali.*"
   ]
  },
  {
   "cell_type": "code",
   "execution_count": null,
   "id": "e832272e",
   "metadata": {},
   "outputs": [],
   "source": [
    "fig, (ax1, ax2) = plt.subplots(1,2, figsize=(15, 6))\n",
    "\n",
    "red_alcohol = df_wines[(df_wines['wine color'] == 'red')]['alcohol']\n",
    "sns.kdeplot(red_alcohol, color='#FF9999', ax=ax1, shade = True)\n",
    "ax1.set_title('KDE Alcohol Vini Rossi', fontsize=15)\n",
    "\n",
    "white_alcohol = df_wines[(df_wines['wine color'] == 'white')]['alcohol']\n",
    "sns.kdeplot(white_alcohol, color='#ffd633', ax=ax2, shade = True)\n",
    "ax2.set_title('KDE Alcohol Vini Bianchi', fontsize=15)\n",
    "\n",
    "plt.show()\n",
    "\n",
    "fig, ax1 = plt.subplots(1,1, figsize=(15, 6))\n",
    "sns.histplot(x='alcohol', data=df_wines, hue='wine color', palette={\"red\": \"#FF9999\", \"white\": \"#ffd633\"}, ax=ax1, alpha=0.4, kde=True)\n",
    "ax2.set_title('Distribuzione qualità del vino in percentuale', fontsize=15)\n",
    "\n",
    "plt.show()\n",
    "\n"
   ]
  },
  {
   "cell_type": "markdown",
   "id": "de19d501",
   "metadata": {},
   "source": [
    "*Si nota che le funzioni sono simili ma i vini bianchi hanno un picco, non presente nei vini rossi, tra i 12 e i 13 gradi di alcohol.*"
   ]
  },
  {
   "cell_type": "markdown",
   "id": "a590b1ce",
   "metadata": {},
   "source": [
    "### Analisi numerica dei vini in base alla qualità"
   ]
  },
  {
   "cell_type": "code",
   "execution_count": null,
   "id": "9fbaa2e6",
   "metadata": {},
   "outputs": [],
   "source": [
    "pd.set_option(\"display.max_columns\", None)\n",
    "\n",
    "ls = round(df_wines[df_wines['quality description'] == 'low'].describe(),2).T\n",
    "ms = round(df_wines[df_wines['quality description'] == 'medium'].describe(),2).T\n",
    "hs = round(df_wines[df_wines['quality description'] == 'high'].describe(),2).T\n",
    "pd.concat([ls, ms, hs], axis=1, keys=['Low Quality', 'Medium Quality', 'High Quality'])"
   ]
  },
  {
   "cell_type": "markdown",
   "id": "a37ddb23",
   "metadata": {},
   "source": [
    "### Distribuzione qualità dei vini"
   ]
  },
  {
   "cell_type": "code",
   "execution_count": null,
   "id": "034920b4",
   "metadata": {},
   "outputs": [],
   "source": [
    "quality = df_wines['quality']\n",
    "count_quality = quality.value_counts()\n",
    "mean_quality = round(quality.mean(),2)\n",
    "\n",
    "print('Conteggio dei valori univoci sulla qualità del vino:')\n",
    "print(count_quality)\n",
    "print()\n",
    "\n",
    "print('Media dei valori della qualità del vino:', mean_quality)\n",
    "\n",
    "\n",
    "fig, (ax1, ax2) = plt.subplots(1,2, figsize=(15, 6))\n",
    "\n",
    "sns.histplot(quality, color='green', ax=ax1)\n",
    "ax1.axvline(mean_quality, linestyle='dashed', label='media', color='blue')\n",
    "ax1.legend(loc='upper right')\n",
    "ax1.set_xlabel('quality (1 to 9)')\n",
    "ax1.set_ylabel('count')\n",
    "ax1.set_title('Distribuzione qualità del vino in percentuale', fontsize=15)\n",
    "\n",
    "count_quality_desc = df_wines['quality description'].value_counts()\n",
    "label_quality_desc = count_quality_desc.index.values\n",
    "colors = sns.color_palette('pastel')\n",
    "ax2.set_title('Distribuzione qualità del vino in percentuale', fontsize=14)\n",
    "ax2.pie(count_quality_desc, autopct=\"%1.1f%%\", colors=colors, labels = label_quality_desc)\n",
    "#pie.legend(labels=label_quality_desc, loc=\"upper right\", fontsize=10);\n",
    "\n",
    "plt.show()"
   ]
  },
  {
   "cell_type": "markdown",
   "id": "28ebd1ae",
   "metadata": {},
   "source": [
    "***\n",
    "\n",
    "*Si noti che la maggior parte dei vini ha una qualità intorno al 6, per la precisione la media è di 5.82. La maggior parte dei vini quindi ha una qualità media, buona parte ha una qualità bassa e solo una minima parte ha una qualità elevata.*"
   ]
  },
  {
   "cell_type": "markdown",
   "id": "e998942a",
   "metadata": {},
   "source": [
    "### Distribuzione della qualità in base al colore dei vini"
   ]
  },
  {
   "cell_type": "markdown",
   "id": "b51ba110",
   "metadata": {},
   "source": [
    "Si crea un dataframe raggruppato per colore del vino, con la colonna descrittiva della qualità e con le occorrenze normalizzate in percentuale rispetto al colore. "
   ]
  },
  {
   "cell_type": "code",
   "execution_count": null,
   "id": "c8f63f77",
   "metadata": {},
   "outputs": [],
   "source": [
    "df_percentage_wines = df_wines.groupby('wine color')['quality description'].value_counts(normalize=True).rename('percentage').mul(100).reset_index()\n",
    "# rendo la colonna di tipo category per oridnare i valori testuali\n",
    "df_percentage_wines['quality description'] = pd.Categorical(df_percentage_wines['quality description'], \n",
    "                                             categories=['low', 'medium', 'high'], ordered=True)\n",
    "\n",
    "df_percentage_wines"
   ]
  },
  {
   "cell_type": "code",
   "execution_count": null,
   "id": "894884f2",
   "metadata": {},
   "outputs": [],
   "source": [
    "palette_red_white={\"red\": \"#FF9999\", \"white\": \"#ffd633\"}\n",
    "\n",
    "fig, ax = plt.subplots(1, 1, figsize=(16, 6))\n",
    "ax.set_title('Distribuzione della qualità in base al colore (in percentuale)', fontsize=14)\n",
    "countplot = sns.barplot(x=\"quality description\", y=\"percentage\", hue=\"wine color\",  data=df_percentage_wines, palette=palette_red_white)\n",
    "countplot.set_xlabel('quality (low > medium > high)')\n",
    "\n",
    "plt.show()\n",
    "\n",
    "\n",
    "# rendo la colonna quality description di tipo category per oridnare i valori testuali\n",
    "df_wines['quality description'] = pd.Categorical(df_wines['quality description'], \n",
    "                                                 categories=['low', 'medium', 'high'], ordered=True)"
   ]
  },
  {
   "cell_type": "markdown",
   "id": "7e8b6706",
   "metadata": {},
   "source": [
    "***\n",
    "\n",
    "*La differenza sulla qualità, in base al colore dei vini, risulta essere che i vini bianchi sono in netta maggioranza vini di media qualità, mentre in quelli di colore rosso la differenza in numero tra vini di qualità bassa e media è minima.*"
   ]
  },
  {
   "cell_type": "markdown",
   "id": "a0593b88",
   "metadata": {},
   "source": [
    "### Verifica delle potenziali correlazioni tra i vari attributi del dataset"
   ]
  },
  {
   "cell_type": "code",
   "execution_count": null,
   "id": "c5b18b97",
   "metadata": {},
   "outputs": [],
   "source": [
    "plt.figure(figsize = (15,8))\n",
    "corr = df_wines.corr()\n",
    "ax = sns.heatmap(corr, annot=True, cmap=\"coolwarm\", fmt='1.2f', linewidths=1)\n",
    "ax.set_title('Correlazione attributi', fontsize=14)\n",
    "\n",
    "plt.show()\n",
    "\n",
    "print('Riportiamo i valori della correlazione dei varti attributi con la qualità in forma testuale:')\n",
    "corr['quality'].sort_values(ascending=False)"
   ]
  },
  {
   "cell_type": "markdown",
   "id": "cc5b54bb",
   "metadata": {},
   "source": [
    "### Analisi  del rapporto tra le varie proprietà con la qualità"
   ]
  },
  {
   "cell_type": "markdown",
   "id": "afe55acb",
   "metadata": {},
   "source": [
    "Analisi grafica"
   ]
  },
  {
   "cell_type": "code",
   "execution_count": null,
   "id": "98156d72",
   "metadata": {
    "scrolled": true
   },
   "outputs": [],
   "source": [
    "cols = 3\n",
    "rows = 4\n",
    "fig, ax = plt.subplots(ncols=cols, nrows=rows, figsize=(20,20))\n",
    "\n",
    "subset_columns = df_wines.loc[:, df_wines.columns != 'quality'].select_dtypes(np.number).columns\n",
    "\n",
    "counter=0\n",
    "for i in range(rows):\n",
    "    for j in range(cols):\n",
    "        sns.lineplot(x='quality', y=subset_columns[counter], data=df_wines, markers=True, ax=ax[i][j], color='green')\n",
    "        counter+=1\n",
    "        if counter==len(subset_columns):\n",
    "            break\n",
    "            \n",
    "plt.show()            "
   ]
  },
  {
   "cell_type": "markdown",
   "id": "54889121",
   "metadata": {},
   "source": [
    "Analisi numerica"
   ]
  },
  {
   "cell_type": "code",
   "execution_count": null,
   "id": "1a1769cc",
   "metadata": {},
   "outputs": [],
   "source": [
    "df_wines.groupby('quality').mean()"
   ]
  },
  {
   "cell_type": "markdown",
   "id": "92758a70",
   "metadata": {},
   "source": [
    "***\n",
    "\n",
    "*Si ottiene una visuale su quali attributi influiscono positivamente/negativamente sulla qualità*\n",
    "\n",
    "Come ad esempio:\n",
    "* Alcohol (**positivamente**)\n",
    "* Kcal (**positivamente**)\n",
    "* Citric Acid (**positivamente**)\n",
    "* Chlorides (**negativamente**)\n",
    "* Volatile Acidity (**negativamente**)\n",
    "* Density (**negativamente**)"
   ]
  },
  {
   "cell_type": "markdown",
   "id": "089c6dfd",
   "metadata": {},
   "source": [
    "**Verifica del rapporto *Kcal-Alcohol-Qualità* (tridimensionalmente)**"
   ]
  },
  {
   "cell_type": "code",
   "execution_count": null,
   "id": "3b83498c",
   "metadata": {},
   "outputs": [],
   "source": [
    "palette={\"low\": \"#33cc33\", \"medium\": \"#ff9999\", \"high\": \"#660033\"}\n",
    "\n",
    "fig = sns.jointplot(x='alcohol', y='kcal', ratio=5, data=df_wines, hue=\"quality description\", palette=palette)\n",
    "fig.fig.set_figwidth(15)\n",
    "fig.fig.set_figheight(8)\n",
    "plt.show()"
   ]
  },
  {
   "cell_type": "markdown",
   "id": "c5a9e57c",
   "metadata": {},
   "source": [
    "***\n",
    "*Mettendo le tre proprietà in relazione si evince che in un vino di alta qualità c'è maggiore quantità di alcohol e maggiore è il contributo calorico, quindi Alcohol e Kcal influenzano positivamente la qualità del vino. Inoltre, l'apporto calorico è direttamente proporzionale alla gradazione alcolica.*\n",
    "\n",
    "*Dall'analisi si nota che per un vino di buona qualità il livello ottimale di alcohol sarebbe compreso tra 11 e 14.*"
   ]
  },
  {
   "cell_type": "markdown",
   "id": "fbfeb462",
   "metadata": {},
   "source": [
    "**Verifica del rapporto *Acido Citrico - Qualità***"
   ]
  },
  {
   "cell_type": "code",
   "execution_count": null,
   "id": "fd41325f",
   "metadata": {},
   "outputs": [],
   "source": [
    "fig, (ax1, ax2) = plt.subplots(1, 2, figsize=(16, 6))\n",
    "fig.suptitle('Colore del vino - Qualità - Acido Citrico', fontsize=14)\n",
    "\n",
    "sns.lineplot(x=\"quality\", y=\"citric acid\", markers=True, dashes=False, data=df_wines, style=\"wine color\", \n",
    "             hue='wine color', ax=ax1, palette=palette_red_white)\n",
    "\n",
    "sns.boxplot(x=\"quality description\", y=\"citric acid\", hue=\"wine color\", data=df_wines, showfliers = False,\n",
    "               palette=palette_red_white, ax=ax2)\n",
    "ax2.set_xlabel(\"quality\")\n",
    "\n",
    "plt.show()"
   ]
  },
  {
   "cell_type": "markdown",
   "id": "23d68cfc",
   "metadata": {},
   "source": [
    "***\n",
    "\n",
    "*Notiamo che in generale maggiore è la quantità di acidio citrico e maggiore sarà la qualità del vino. Ma a dire il vero nel vino bianco l'influenza è abbastanza piatta, l'evidenza viene fuori studiando il vino di colore rosso. Questo perchè l'acido citrico aiuta il processo di fermentazione e donerà al vino freschezza.*\n",
    "\n",
    "*Quindi, in media, per un vino rosso di buona qualità il livello ottimale sarebbe compreso tra 0,30 e 0,42.*"
   ]
  },
  {
   "cell_type": "markdown",
   "id": "3ff83315",
   "metadata": {},
   "source": [
    "**Verifica del rapporto *Acidità Volatile - Qualità***"
   ]
  },
  {
   "cell_type": "code",
   "execution_count": null,
   "id": "b966e396",
   "metadata": {},
   "outputs": [],
   "source": [
    "fig, (ax1, ax2) = plt.subplots(1, 2, figsize=(16, 6))\n",
    "fig.suptitle('Colore del vino - Qualità - Acidità volatile', fontsize=14)\n",
    "\n",
    "sns.lineplot(x=\"quality\", y=\"volatile acidity\", markers=True, dashes=False, data=df_wines, style=\"wine color\", \n",
    "             hue='wine color', ax=ax1, palette=palette_red_white)\n",
    "\n",
    "sns.violinplot(x=\"quality description\", y=\"volatile acidity\", hue=\"wine color\", data=df_wines, split=True, \n",
    "               inner=\"quartile\", linewidth=1, palette=palette_red_white, ax=ax2)\n",
    "ax2.set_xlabel(\"quality\")\n",
    "\n",
    "plt.show()"
   ]
  },
  {
   "cell_type": "markdown",
   "id": "eee67b16",
   "metadata": {},
   "source": [
    "***\n",
    "\n",
    "*Si noti che in generale in maggiori quantità è presente l'acidità volatile e minore sarà la qualità del vino. Ma a dire il vero nel vino bianco l'influenza è abbastanza piatta, l'evidenza viene fuori studiando il vino di colore rosso. Questo perchè la principale componente dell'acido valotaile è l'acido acetico (associato all'odore e al gusto dell'aceto), in grandi quantità può fornire un gusto sgradevole al vino.*\n",
    "\n",
    "*Prendendo in considerazione l'analisi si può dire che il livello ottimale, per un vino rosso di buona qualità, sarebbe compreso tra 0,4 e 0,6.*"
   ]
  },
  {
   "cell_type": "markdown",
   "id": "dd9d997c",
   "metadata": {},
   "source": [
    "**Verifica del rapporto *Cloruri - Qualità***"
   ]
  },
  {
   "cell_type": "code",
   "execution_count": null,
   "id": "f56d5065",
   "metadata": {},
   "outputs": [],
   "source": [
    "fig, (ax1, ax2) = plt.subplots(1, 2, figsize=(16, 6))\n",
    "fig.suptitle('Colore del vino - Qualità - Cloruri', fontsize=14)\n",
    "\n",
    "sns.lineplot(x=\"quality\", y=\"chlorides\", markers=True, dashes=False, data=df_wines, style=\"wine color\", \n",
    "             hue='wine color', ax=ax1, palette=palette_red_white)\n",
    "\n",
    "sns.boxplot(x=\"quality description\", y=\"chlorides\", hue=\"wine color\", data=df_wines, showfliers = False, \n",
    "            linewidth=1, palette=palette_red_white, ax=ax2)\n",
    "ax2.set_xlabel(\"quality\")\n",
    "\n",
    "plt.show()"
   ]
  },
  {
   "cell_type": "markdown",
   "id": "ec6c3000",
   "metadata": {},
   "source": [
    "***\n",
    "\n",
    "*Notiamo che in generale maggiore è la quantità di cloruri e minore sarà la qualità del vino sia nei vini rossi che nei bianchi. I vini bianchi contengono meno sali dei vini rossi.*\n",
    "\n",
    "*Quindi un vino di buona qualità contiene meno sale.*"
   ]
  },
  {
   "cell_type": "markdown",
   "id": "ddd752df",
   "metadata": {},
   "source": [
    "**Verifica del rapporto *Density-Alcohol-Quality* (in 4 dimensioni)**"
   ]
  },
  {
   "cell_type": "code",
   "execution_count": null,
   "id": "5013be09",
   "metadata": {},
   "outputs": [],
   "source": [
    "plt.figure(figsize = (20,10))\n",
    "\n",
    "ax = sns.scatterplot(x = \"alcohol\", y = \"density\", hue = \"wine color\", data = df_wines, alpha = 0.7, palette = palette_red_white, size=df_wines['quality description'], sizes=(20, 200))\n",
    "#ax.set_xlim(left=0, right=30)\n",
    "ax.set_ylim(bottom=0.98, top=1.01)\n",
    "ax.set_title(\"Influenza Alcohol - Densità - Qualità\", size = 20)\n",
    "\n",
    "plt.show()"
   ]
  },
  {
   "cell_type": "markdown",
   "id": "3a15d02d",
   "metadata": {},
   "source": [
    "***\n",
    "\n",
    "*Si è già appurato che la presenza di elevate quantità di alcohol influenza positivamente la qualità del vino. Analizzando l'influenza della densità sulla qualità si noti che maggiore è la densità e minore sarà la qualità del vino. Questo potrebbe essere dovuto all'aggiunta di altri ingredienti nel vino per migliorare la qualità e questi ingredienti supplementari potrebbero far diminuire la densità del liquido.*\n",
    "\n",
    "*Inoltre, studiando il grafico anche in base al colore del vino, si può notre che vini rossi hanno maggiore densità dei vini bianchi.*"
   ]
  },
  {
   "cell_type": "markdown",
   "id": "ada6af29",
   "metadata": {},
   "source": [
    "### Analisi sull'anidride solforosa\n",
    "L'anidride solforosa agisce come antiossidante ma, in grandi quantità, può essere tossica per l'uomo. La normativa europea pone i limiti massimi per anidride solforosa di 160 mg/lt per i rossi e di 210 mg/lt per i bianchi, con deroghe che permettono allo Stato membro di elevare il valore massimo di 40 mg/lt in annate sfavorevoli.\n",
    "Quindi 210 per i rossi e 260 per i bianchi. Di solito i vini Rossi hanno bisogno di meno anidride solforosa perchè sono già naturalmente protetti dalle ossidazioni dall'azione di componenti presenti nelle bucce delle uve a bacca rossa.\n",
    "\n",
    "<a href=\"https://winenews.it/it/troppa-anidride-solforosa-rovina-gli-aromi-dei-vini_319809/\" target=\"_blank\">fonte</a>"
   ]
  },
  {
   "cell_type": "code",
   "execution_count": null,
   "id": "9a3452eb",
   "metadata": {},
   "outputs": [],
   "source": [
    "fig, (ax1, ax2) = plt.subplots(ncols=2, nrows=1, figsize=(15,6))\n",
    "\n",
    "print('Media anidride solforosa in base al colore del vino:')\n",
    "print(df_wines.groupby('wine color')['total sulfur dioxide'].mean())\n",
    "\n",
    "condition_over_limit = ((df_wines['total sulfur dioxide'] > 210) & (df_wines['wine color'] == 'red')) | ((df_wines['total sulfur dioxide'] > 260) & (df_wines['wine color'] == 'white'))\n",
    "print()\n",
    "sulfur_dioxide_over_limit = df_wines[condition_over_limit]\n",
    "print('Numero di vini che non rispettano le leggi:', len(sulfur_dioxide_over_limit))\n",
    "\n",
    "sns.boxplot(x='total sulfur dioxide', y='wine color', data=df_wines, palette=palette_red_white, ax=ax1)\n",
    "ax1.set_title('Anidride solforosa rispetto al colore del vino', fontsize=15)\n",
    "\n",
    "sns.histplot(x='total sulfur dioxide', data=sulfur_dioxide_over_limit, hue='wine color', ax=ax2, bins=10, palette=palette_red_white, element=\"step\")\n",
    "ax2.set_title('Distribuzione anidride solforosa sopra i limiti rispetto al colore del vino', fontsize=15)\n",
    "\n",
    "plt.show()"
   ]
  },
  {
   "cell_type": "markdown",
   "id": "47ea2fe2",
   "metadata": {},
   "source": [
    "***\n",
    "\n",
    "*Si noti che i vini bianchi risultano contenere più anidride solforosa rispetto ai rossi e in media vengono rispettate le leggi Europee sui limiti, ma 12 casi su 6496 non rientrano nei limiti*"
   ]
  },
  {
   "cell_type": "markdown",
   "id": "0ca4464b",
   "metadata": {},
   "source": [
    "### Analisi del pH\n",
    "La maggior parte dei vini ha un valore di pH compreso tra 3.0 e 4.0. I vini bianchi tendono ad avere valori di pH tra pH 3.0 e 3.3, mentre un pH più alto, valori compresi tra 3,3 e 3,5, sono più comuni per i rossi.\n",
    "I vini rossi tendono ad avere un pH più alto, in parte, a causa del tempo di contatto più lungo con le bucce del mosto.\n",
    "\n",
    "<a href=\"https://hanna.it/analisi-del-vino\" target=\"_blank\">fonte</a>"
   ]
  },
  {
   "cell_type": "code",
   "execution_count": null,
   "id": "a6b66511",
   "metadata": {},
   "outputs": [],
   "source": [
    "print('Media pH:', round(df_wines['pH'].mean(),2))\n",
    "print('\\nStatistiche vino rosso:')\n",
    "print(df_wines.loc[df_wines['wine color'] == 'red', 'pH'].describe())\n",
    "print('\\nStatistiche vino bianco:')\n",
    "print(df_wines.loc[df_wines['wine color'] == 'white', 'pH'].describe())\n",
    "\n",
    "plt.figure(figsize = (15,6))\n",
    "ax = sns.violinplot(x='pH', y='wine color', data=df_wines, palette=palette_red_white)\n",
    "ax.set_title('PH rispetto al colore del vino', fontsize=15)\n",
    "\n",
    "plt.show()"
   ]
  },
  {
   "cell_type": "markdown",
   "id": "6e064817",
   "metadata": {},
   "source": [
    "### Analisi Solfiti\n",
    "\n",
    "I solfiti sono componenti chimiche aggiunte artificialmente come conservanti. I produttori di vino usano spesso i solfiti per ridurre al minimo l'ossidazione e aiutare nel processo di fermentazione.\n",
    "\n",
    "Alcune ricerche mediche mostrano che una piccola percentuale della popolazione è sensibile ai solfiti e può manifestare effetti collaterali/allergici. Tuttavia, il vino di solito contiene un intervallo da 5 mg/L a 200 mg/L di solfiti e un vino rosso secco ben fatto ha in genere circa 50 mg/L di solfiti. Dall'analisi risulta chiaro che i vini di alta qualità mantengono un livello di 50 mg/L di solfiti.\n",
    "\n",
    "<a href=\"https://www.webmd.com/diet/what-to-know-sulfites-in-wine#:~:text=Effects%20of%20Sulfites,-Most%20people%20can&text=It%20is%20unclear%20what%20percentage,of%20ingesting%20too%20many%20sulfites\" target=\"_blank\">fonte</a>\n",
    "\n",
    "Alla luce di ciò, si confrontare l'influenza di questa compoenente con la qualità e relazionare anche con acido citrico e densità che sono correlate al processo di fermentazione."
   ]
  },
  {
   "cell_type": "code",
   "execution_count": null,
   "id": "b1c24aaf",
   "metadata": {},
   "outputs": [],
   "source": [
    "sns.set_style('ticks')\n",
    "\n",
    "plt.rcParams[\"axes.grid\"] = False\n",
    "fig = plt.figure(figsize=(20, 10))\n",
    "ax = fig.add_subplot(1, 1, 1, projection='3d')\n",
    "\n",
    "xs = df_wines['sulphates']\n",
    "ys = df_wines['density']\n",
    "zs = df_wines['citric acid']\n",
    "col = df_wines['quality']\n",
    "gf = ax.scatter(xs, ys, zs, s=150, alpha=0.7, edgecolors='w', linewidth=0.7, c=col, cmap='plasma')\n",
    "fig.colorbar(gf, label='Quality')\n",
    "\n",
    "ax.set_xlabel('sulphates')\n",
    "ax.set_ylabel('density')\n",
    "ax.set_zlabel('citric acid')\n",
    "\n",
    "plt.show()\n",
    "\n",
    "sns.set()"
   ]
  },
  {
   "cell_type": "markdown",
   "id": "81b2fd64",
   "metadata": {},
   "source": [
    "***\n",
    "\n",
    "*Dal grafico non si notano particolari relazioni del solfiti con qualità - densità e acido citrico*"
   ]
  },
  {
   "cell_type": "markdown",
   "id": "87612221",
   "metadata": {},
   "source": [
    "## 3 - Machine Learning"
   ]
  },
  {
   "cell_type": "code",
   "execution_count": null,
   "id": "1f2d0bdb",
   "metadata": {},
   "outputs": [],
   "source": []
  },
  {
   "cell_type": "markdown",
   "id": "5646a5e8",
   "metadata": {},
   "source": [
    "### Modelli supervisionati di classificazione per *colore* del vino"
   ]
  },
  {
   "cell_type": "markdown",
   "id": "8a610200",
   "metadata": {},
   "source": [
    "### Preparazione dei dataset"
   ]
  },
  {
   "cell_type": "code",
   "execution_count": null,
   "id": "239f39a8",
   "metadata": {},
   "outputs": [],
   "source": [
    "#Divido le features dalla label\n",
    "#Deinifisco features e label per il dataset di vini bianchi e rossi\n",
    "df_wines_color_classification = df_wines.copy().drop(columns=['quality','quality description'])\n",
    "y_color = df_wines_color_classification.pop('wine color')\n",
    "X_color = df_wines_color_classification"
   ]
  },
  {
   "cell_type": "markdown",
   "id": "a23eba28",
   "metadata": {},
   "source": [
    "#### Normalizzazione dei dati"
   ]
  },
  {
   "cell_type": "code",
   "execution_count": null,
   "id": "9eb1e8e9",
   "metadata": {},
   "outputs": [],
   "source": [
    "#Normalizzatoredei dati\n",
    "color_scaler = MinMaxScaler(feature_range = (0,1))"
   ]
  },
  {
   "cell_type": "code",
   "execution_count": null,
   "id": "25332969",
   "metadata": {},
   "outputs": [],
   "source": [
    "#Effettuo la normalizzazione\n",
    "X_color = color_scaler.fit_transform(X_color)"
   ]
  },
  {
   "cell_type": "markdown",
   "id": "4ebaec22",
   "metadata": {},
   "source": [
    "### Classificazione K-Neighbors"
   ]
  },
  {
   "cell_type": "markdown",
   "id": "39ebf0e6",
   "metadata": {},
   "source": [
    "#### Inizializzazione del classificatore"
   ]
  },
  {
   "cell_type": "code",
   "execution_count": null,
   "id": "4d26a8e1",
   "metadata": {},
   "outputs": [],
   "source": [
    "#Preparo il classificatore\n",
    "color_neighbors_classifier = neighbors.KNeighborsClassifier(n_neighbors = 1)"
   ]
  },
  {
   "cell_type": "markdown",
   "id": "a44b050d",
   "metadata": {},
   "source": [
    "#### Validazione HoldOut"
   ]
  },
  {
   "cell_type": "code",
   "execution_count": null,
   "id": "4eea9c6d",
   "metadata": {},
   "outputs": [],
   "source": [
    "#Preparo i dataset per validazione con holdout\n",
    "X_color_train,X_color_test,y_color_train,y_color_test=train_test_split(X_color,y_color,test_size=0.3,random_state=1)"
   ]
  },
  {
   "cell_type": "code",
   "execution_count": null,
   "id": "43e01825",
   "metadata": {},
   "outputs": [],
   "source": [
    "#Addestro il modello\n",
    "color_neighbors_classifier.fit(X_color_train,y_color_train)"
   ]
  },
  {
   "cell_type": "code",
   "execution_count": null,
   "id": "3e5fc235",
   "metadata": {},
   "outputs": [],
   "source": [
    "#Effettuo la predizione sui dati di test\n",
    "y_color_prediction = color_neighbors_classifier.predict(X_color_test)"
   ]
  },
  {
   "cell_type": "code",
   "execution_count": null,
   "id": "edd2c287",
   "metadata": {},
   "outputs": [],
   "source": [
    "#Visualizzo la predizione\n",
    "y_color_prediction"
   ]
  },
  {
   "cell_type": "code",
   "execution_count": null,
   "id": "c4d8c644",
   "metadata": {},
   "outputs": [],
   "source": [
    "#Calcolo l'accouracy\n",
    "accuracy_score(y_color_test,y_color_prediction)"
   ]
  },
  {
   "cell_type": "markdown",
   "id": "4b58c549",
   "metadata": {},
   "source": [
    "#### Validazione 5 Fold Cross"
   ]
  },
  {
   "cell_type": "code",
   "execution_count": null,
   "id": "53ca711d",
   "metadata": {},
   "outputs": [],
   "source": [
    "y_color_prediction_leave_5_fold = cross_val_score(color_neighbors_classifier,X_color,y_color,cv=5)"
   ]
  },
  {
   "cell_type": "code",
   "execution_count": null,
   "id": "95ae21ff",
   "metadata": {},
   "outputs": [],
   "source": [
    "y_color_prediction_leave_5_fold.mean()"
   ]
  },
  {
   "cell_type": "markdown",
   "id": "71c831d8",
   "metadata": {},
   "source": [
    "#### Validazione Leave One out"
   ]
  },
  {
   "cell_type": "code",
   "execution_count": null,
   "id": "3cf3dc7e",
   "metadata": {},
   "outputs": [],
   "source": [
    "#Provo con tecnica Leave One Out\n",
    "y_color_prediction_leave_one_out = cross_val_score(color_neighbors_classifier,X_color,y_color,cv=LeaveOneOut())"
   ]
  },
  {
   "cell_type": "code",
   "execution_count": null,
   "id": "e8a414e6",
   "metadata": {},
   "outputs": [],
   "source": [
    "y_color_prediction_leave_one_out.mean()"
   ]
  },
  {
   "cell_type": "markdown",
   "id": "fa932179",
   "metadata": {},
   "source": [
    "#### Grid Search CV per cercare di migliorare il modello"
   ]
  },
  {
   "cell_type": "code",
   "execution_count": null,
   "id": "a862ca8a",
   "metadata": {},
   "outputs": [],
   "source": [
    "#Cerco di calibrare il modello variando gli iper parametri con tecnica Grid Search CV\n",
    "color_param_grid = {'n_neighbors' : np.arange(1,10), 'weights' : ['uniform','distance']}"
   ]
  },
  {
   "cell_type": "code",
   "execution_count": null,
   "id": "f5a1105f",
   "metadata": {},
   "outputs": [],
   "source": [
    "#Prepare il Grid e lo eseguo su\n",
    "color_grid = GridSearchCV(color_neighbors_classifier,color_param_grid,cv=5)"
   ]
  },
  {
   "cell_type": "code",
   "execution_count": null,
   "id": "96490ae0",
   "metadata": {},
   "outputs": [],
   "source": [
    "#Addestro il modello sulle varue combinazioni degli iperparametri (VA FATTO SU X e y oppure su X_test e y_test) ???\n",
    "color_grid.fit(X_color_train,y_color_train);"
   ]
  },
  {
   "cell_type": "code",
   "execution_count": null,
   "id": "2a22f7eb",
   "metadata": {},
   "outputs": [],
   "source": [
    "# Cerco il risultato migliore: aggiungere un peso pari all'inverso della distanza fra i nodi \n",
    "# insieme ad un numero di neighbors differente da 1\n",
    "# permette di ottenere un miglioramento sul modello\n",
    "color_grid.best_params_"
   ]
  },
  {
   "cell_type": "code",
   "execution_count": null,
   "id": "126c3edf",
   "metadata": {},
   "outputs": [],
   "source": [
    "#Effettuo una verifica\n",
    "y_color_prediction_by_grid = color_grid.best_estimator_.predict(X_color_test)"
   ]
  },
  {
   "cell_type": "code",
   "execution_count": null,
   "id": "3b9fa41a",
   "metadata": {},
   "outputs": [],
   "source": [
    "#Verifico l'accuratezza\n",
    "accuracy_score(y_color_test,y_color_prediction_by_grid)"
   ]
  },
  {
   "cell_type": "code",
   "execution_count": null,
   "id": "880a63b5",
   "metadata": {},
   "outputs": [],
   "source": [
    "np.set_printoptions()\n",
    "\n",
    "# Plot non-normalized confusion matrix\n",
    "titles_options = [\n",
    "    (\"Confusion matrix, without normalization\", None),\n",
    "   ##(\"Normalized confusion matrix\", \"true\"),\n",
    "]\n",
    "for title, normalize in titles_options:\n",
    "    disp = ConfusionMatrixDisplay.from_estimator(\n",
    "        color_grid.best_estimator_,\n",
    "        X_color_test,\n",
    "        y_color_test,\n",
    "        display_labels= ['red','white'],\n",
    "        cmap=plt.cm.Blues,\n",
    "        normalize=normalize,\n",
    "    )\n",
    "    disp.ax_.set_title(title)\n",
    "    plt.grid(False)\n",
    "plt.show()"
   ]
  },
  {
   "cell_type": "markdown",
   "id": "46d85042",
   "metadata": {},
   "source": [
    "### Classificazione con SVC"
   ]
  },
  {
   "cell_type": "markdown",
   "id": "b9ed4a76",
   "metadata": {},
   "source": [
    "#### Inizializzazione del classificatore"
   ]
  },
  {
   "cell_type": "code",
   "execution_count": null,
   "id": "c06c989a",
   "metadata": {},
   "outputs": [],
   "source": [
    "color_svc_classifier = SVC(kernel= 'linear')"
   ]
  },
  {
   "cell_type": "markdown",
   "id": "5860794c",
   "metadata": {},
   "source": [
    "#### Holdout Validazione"
   ]
  },
  {
   "cell_type": "code",
   "execution_count": null,
   "id": "7579ee98",
   "metadata": {},
   "outputs": [],
   "source": [
    "color_svc_classifier.fit(X_color_train,y_color_train)"
   ]
  },
  {
   "cell_type": "code",
   "execution_count": null,
   "id": "9fef1941",
   "metadata": {},
   "outputs": [],
   "source": [
    "y_color_prediction_svc = color_svc_classifier.predict(X_color_test)"
   ]
  },
  {
   "cell_type": "code",
   "execution_count": null,
   "id": "9b6d5ec1",
   "metadata": {},
   "outputs": [],
   "source": [
    "accuracy_score(y_color_test,y_color_prediction_svc)"
   ]
  },
  {
   "cell_type": "markdown",
   "id": "f9ecf937",
   "metadata": {},
   "source": [
    "#### 5 fold cross validation"
   ]
  },
  {
   "cell_type": "code",
   "execution_count": null,
   "id": "770c2417",
   "metadata": {},
   "outputs": [],
   "source": [
    "y_color_prediction_svc_5_fold = cross_val_score(color_svc_classifier,X_color,y_color,cv=5)"
   ]
  },
  {
   "cell_type": "code",
   "execution_count": null,
   "id": "6824d5ea",
   "metadata": {},
   "outputs": [],
   "source": [
    "y_color_prediction_svc_5_fold.mean()"
   ]
  },
  {
   "cell_type": "code",
   "execution_count": null,
   "id": "88a6a939",
   "metadata": {},
   "outputs": [],
   "source": [
    "np.set_printoptions()\n",
    "\n",
    "# Plot non-normalized confusion matrix\n",
    "titles_options = [\n",
    "    (\"Confusion matrix, without normalization\", None),\n",
    "   ##(\"Normalized confusion matrix\", \"true\"),\n",
    "]\n",
    "for title, normalize in titles_options:\n",
    "    disp = ConfusionMatrixDisplay.from_estimator(\n",
    "        color_svc_classifier,\n",
    "        X_color_test,\n",
    "        y_color_test,\n",
    "        display_labels= ['red','white'],\n",
    "        cmap=plt.cm.Blues,\n",
    "        normalize=normalize,\n",
    "    )\n",
    "    disp.ax_.set_title(title)\n",
    "    plt.grid(False)\n",
    "plt.show()"
   ]
  },
  {
   "cell_type": "markdown",
   "id": "529a4aaa",
   "metadata": {},
   "source": [
    "### Modelli supervisionati di classificazione per la *qualità in 10 classi* del vino"
   ]
  },
  {
   "cell_type": "markdown",
   "id": "e949cf72",
   "metadata": {},
   "source": [
    "### Preparazione dei dataset"
   ]
  },
  {
   "cell_type": "code",
   "execution_count": null,
   "id": "32cc948e",
   "metadata": {},
   "outputs": [],
   "source": [
    "#Divido le features dalla label\n",
    "#Deinifisco features e label per il dataset di vini bianchi e rossi\n",
    "df_wines_quality_classification = df_wines.copy().drop(columns=['wine color','quality description'])\n",
    "y_quality = df_wines_quality_classification.pop('quality')\n",
    "X_quality = df_wines_quality_classification"
   ]
  },
  {
   "cell_type": "markdown",
   "id": "17662d57",
   "metadata": {},
   "source": [
    "### Classificazione K-Neighbors"
   ]
  },
  {
   "cell_type": "markdown",
   "id": "e7832603",
   "metadata": {},
   "source": [
    "#### Normalizzazione dei dati"
   ]
  },
  {
   "cell_type": "code",
   "execution_count": null,
   "id": "650b5674",
   "metadata": {},
   "outputs": [],
   "source": [
    "#Normalizzatoredei dati\n",
    "quality_scaler = MinMaxScaler(feature_range = (0,1))"
   ]
  },
  {
   "cell_type": "code",
   "execution_count": null,
   "id": "61620925",
   "metadata": {},
   "outputs": [],
   "source": [
    "#Effettuo la normalizzazione\n",
    "X_quality = quality_scaler.fit_transform(X_quality)"
   ]
  },
  {
   "cell_type": "markdown",
   "id": "e178aa1e",
   "metadata": {},
   "source": [
    "#### Inizializzazione del classificatore"
   ]
  },
  {
   "cell_type": "code",
   "execution_count": null,
   "id": "1c4b2b3a",
   "metadata": {},
   "outputs": [],
   "source": [
    "#Preparo il classificatore\n",
    "quality_classifier = neighbors.KNeighborsClassifier(n_neighbors = 1)"
   ]
  },
  {
   "cell_type": "markdown",
   "id": "b204b5b1",
   "metadata": {},
   "source": [
    "#### Validazione HoldOut"
   ]
  },
  {
   "cell_type": "code",
   "execution_count": null,
   "id": "702918dc",
   "metadata": {},
   "outputs": [],
   "source": [
    "#Preparo i dataset per validazione con holdout\n",
    "X_quality_train,X_quality_test,y_quality_train,y_quality_test = \\\n",
    "train_test_split(X_quality,y_quality,test_size=0.3)"
   ]
  },
  {
   "cell_type": "code",
   "execution_count": null,
   "id": "f84c0bb9",
   "metadata": {},
   "outputs": [],
   "source": [
    "#Addestro il modello\n",
    "quality_classifier.fit(X_quality_train,y_quality_train)"
   ]
  },
  {
   "cell_type": "code",
   "execution_count": null,
   "id": "a82f073a",
   "metadata": {},
   "outputs": [],
   "source": [
    "#Effettuo la predizione sui dati di test\n",
    "y_quality_prediction = quality_classifier.predict(X_quality_test)"
   ]
  },
  {
   "cell_type": "code",
   "execution_count": null,
   "id": "09a9b051",
   "metadata": {},
   "outputs": [],
   "source": [
    "#Visualizzo la predizione\n",
    "y_quality_prediction"
   ]
  },
  {
   "cell_type": "code",
   "execution_count": null,
   "id": "7e0e8821",
   "metadata": {},
   "outputs": [],
   "source": [
    "#Calcolo l'accouracy\n",
    "accuracy_score(y_quality_test,y_quality_prediction)"
   ]
  },
  {
   "cell_type": "markdown",
   "id": "0f89a42d",
   "metadata": {},
   "source": [
    "#### Validazione 5 Fold Cross"
   ]
  },
  {
   "cell_type": "code",
   "execution_count": null,
   "id": "ae137ea5",
   "metadata": {},
   "outputs": [],
   "source": [
    "y_quality_prediction_leave_5_fold = cross_val_score(quality_classifier,X_quality,y_quality,cv=5)"
   ]
  },
  {
   "cell_type": "code",
   "execution_count": null,
   "id": "7391f80a",
   "metadata": {},
   "outputs": [],
   "source": [
    "y_quality_prediction_leave_5_fold.mean()"
   ]
  },
  {
   "cell_type": "markdown",
   "id": "6f5b5c86",
   "metadata": {},
   "source": [
    "#### Validazione Leave One out"
   ]
  },
  {
   "cell_type": "code",
   "execution_count": null,
   "id": "519744aa",
   "metadata": {},
   "outputs": [],
   "source": [
    "#Provo con tecnica Leave One Out\n",
    "y_quality_prediction_leave_one_out = cross_val_score(quality_classifier,X_quality,y_quality,cv=LeaveOneOut())"
   ]
  },
  {
   "cell_type": "code",
   "execution_count": null,
   "id": "37a90153",
   "metadata": {},
   "outputs": [],
   "source": [
    "y_quality_prediction_leave_one_out.mean()"
   ]
  },
  {
   "cell_type": "markdown",
   "id": "1d4171e0",
   "metadata": {},
   "source": [
    "#### Grid Search CV per cercare di migliorare il modello"
   ]
  },
  {
   "cell_type": "code",
   "execution_count": null,
   "id": "a96666b9",
   "metadata": {},
   "outputs": [],
   "source": [
    "#Cerco di calibrare il modello variando gli iper parametri con tecnica Grid Search CV\n",
    "quality_param_grid = {'n_neighbors' : np.arange(1,10), 'weights' : ['uniform','distance']}"
   ]
  },
  {
   "cell_type": "code",
   "execution_count": null,
   "id": "5238e67f",
   "metadata": {},
   "outputs": [],
   "source": [
    "#Prepare il Grid e lo eseguo su\n",
    "quality_grid = GridSearchCV(quality_classifier,quality_param_grid,cv=5)"
   ]
  },
  {
   "cell_type": "code",
   "execution_count": null,
   "id": "1be17f1a",
   "metadata": {},
   "outputs": [],
   "source": [
    "#Addestro il modello sulle varue combinazioni degli iperparametri\n",
    "quality_grid.fit(X_quality_train,y_quality_train);"
   ]
  },
  {
   "cell_type": "code",
   "execution_count": null,
   "id": "9be03d24",
   "metadata": {},
   "outputs": [],
   "source": [
    "#Iperparametri migliori\n",
    "quality_grid.best_params_"
   ]
  },
  {
   "cell_type": "code",
   "execution_count": null,
   "id": "13c8bc0f",
   "metadata": {},
   "outputs": [],
   "source": [
    "#Effettuo una verifica\n",
    "y_quality_prediction_by_grid = quality_grid.best_estimator_.predict(X_quality_test)"
   ]
  },
  {
   "cell_type": "code",
   "execution_count": null,
   "id": "8afd451a",
   "metadata": {},
   "outputs": [],
   "source": [
    "#Verifico l'accuratezza\n",
    "accuracy_score(y_quality_test,y_quality_prediction_by_grid)"
   ]
  },
  {
   "cell_type": "code",
   "execution_count": null,
   "id": "0f213eb2",
   "metadata": {},
   "outputs": [],
   "source": [
    "np.set_printoptions()\n",
    "\n",
    "# Plot non-normalized confusion matrix\n",
    "titles_options = [\n",
    "    (\"Confusion matrix, without normalization\", None),\n",
    "    ##(\"Normalized confusion matrix\", \"true\"),\n",
    "]\n",
    "for title, normalize in titles_options:\n",
    "    disp = ConfusionMatrixDisplay.from_estimator(\n",
    "        quality_grid.best_estimator_,\n",
    "        X_quality_test,\n",
    "        y_quality_test,\n",
    "        display_labels= np.arange(3,10),\n",
    "        cmap=plt.cm.Blues,\n",
    "        normalize=normalize,\n",
    "    )\n",
    "    disp.ax_.set_title(title)\n",
    "    plt.grid(False)\n",
    "plt.show()"
   ]
  },
  {
   "cell_type": "markdown",
   "id": "add9c04b",
   "metadata": {},
   "source": [
    "### Classificazoine con SVC"
   ]
  },
  {
   "cell_type": "markdown",
   "id": "47a07deb",
   "metadata": {},
   "source": [
    "#### Inizializzazione del classificatore"
   ]
  },
  {
   "cell_type": "code",
   "execution_count": null,
   "id": "2b1af980",
   "metadata": {},
   "outputs": [],
   "source": [
    "quality_svc_classifier = SVC(kernel= 'linear')"
   ]
  },
  {
   "cell_type": "markdown",
   "id": "6a58dae8",
   "metadata": {},
   "source": [
    "#### Holdout Validazione"
   ]
  },
  {
   "cell_type": "code",
   "execution_count": null,
   "id": "5ef88bd5",
   "metadata": {},
   "outputs": [],
   "source": [
    "quality_svc_classifier.fit(X_quality_train,y_quality_train)"
   ]
  },
  {
   "cell_type": "code",
   "execution_count": null,
   "id": "87bc51dd",
   "metadata": {},
   "outputs": [],
   "source": [
    "y_quality_prediction_svc = quality_svc_classifier.predict(X_quality_test)"
   ]
  },
  {
   "cell_type": "code",
   "execution_count": null,
   "id": "a200355a",
   "metadata": {},
   "outputs": [],
   "source": [
    "accuracy_score(y_quality_test,y_quality_prediction_svc)"
   ]
  },
  {
   "cell_type": "markdown",
   "id": "7ae2b473",
   "metadata": {},
   "source": [
    "#### 5 fold cross validation"
   ]
  },
  {
   "cell_type": "code",
   "execution_count": null,
   "id": "18a7ce36",
   "metadata": {},
   "outputs": [],
   "source": [
    "y_quality_prediction_svc_5_fold = cross_val_score(quality_svc_classifier,X_quality,y_quality,cv=5)"
   ]
  },
  {
   "cell_type": "code",
   "execution_count": null,
   "id": "bfeffca9",
   "metadata": {},
   "outputs": [],
   "source": [
    "y_quality_prediction_svc_5_fold.mean()"
   ]
  },
  {
   "cell_type": "markdown",
   "id": "bc925e2c",
   "metadata": {},
   "source": [
    "#### Grid search CV"
   ]
  },
  {
   "cell_type": "code",
   "execution_count": null,
   "id": "f220bfaf",
   "metadata": {},
   "outputs": [],
   "source": [
    "#Cerco di calibrare il modello variando gli iper parametri con tecnica Grid Search CV\n",
    "param_grid = {'kernel' : ['linear', 'rbf'], 'C' : [1,30,33]}"
   ]
  },
  {
   "cell_type": "code",
   "execution_count": null,
   "id": "f5f690c3",
   "metadata": {},
   "outputs": [],
   "source": [
    "#Prepare il Grid e lo eseguo su\n",
    "grid = GridSearchCV(quality_svc_classifier,param_grid,cv=5)"
   ]
  },
  {
   "cell_type": "code",
   "execution_count": null,
   "id": "d9f6173b",
   "metadata": {},
   "outputs": [],
   "source": [
    "#Addestro il modello sulle varue combinazioni degli iperparametri\n",
    "grid.fit(X_quality_train,y_quality_train);"
   ]
  },
  {
   "cell_type": "code",
   "execution_count": null,
   "id": "19864099",
   "metadata": {},
   "outputs": [],
   "source": [
    "#Iperparametri migliori\n",
    "grid.best_params_"
   ]
  },
  {
   "cell_type": "code",
   "execution_count": null,
   "id": "5569f69b",
   "metadata": {},
   "outputs": [],
   "source": [
    "#Effettuo una verifica\n",
    "y_quality_prediction_by_grid = grid.best_estimator_.predict(X_quality_test)"
   ]
  },
  {
   "cell_type": "code",
   "execution_count": null,
   "id": "f2149342",
   "metadata": {},
   "outputs": [],
   "source": [
    "#Verifico l'accuratezza\n",
    "accuracy_score(y_quality_test,y_quality_prediction_by_grid)"
   ]
  },
  {
   "cell_type": "code",
   "execution_count": null,
   "id": "972abd70",
   "metadata": {},
   "outputs": [],
   "source": [
    "np.set_printoptions()\n",
    "\n",
    "# Plot non-normalized confusion matrix\n",
    "titles_options = [\n",
    "    (\"Confusion matrix, without normalization\", None),\n",
    "    ##(\"Normalized confusion matrix\", \"true\"),\n",
    "]\n",
    "for title, normalize in titles_options:\n",
    "    disp = ConfusionMatrixDisplay.from_estimator(\n",
    "        grid.best_estimator_,\n",
    "        X_quality_test,\n",
    "        y_quality_test,\n",
    "        display_labels= np.arange(3,10),\n",
    "        cmap=plt.cm.Blues,\n",
    "        normalize=normalize,\n",
    "    )\n",
    "    disp.ax_.set_title(title)\n",
    "    plt.grid(False)\n",
    "plt.show()"
   ]
  },
  {
   "cell_type": "markdown",
   "id": "fdbbcdea",
   "metadata": {},
   "source": [
    "### Modelli supervisionati di classificazione per *qualità in tre step* del vino"
   ]
  },
  {
   "cell_type": "markdown",
   "id": "075a5b9a",
   "metadata": {},
   "source": [
    "### Preparazione dei dataset"
   ]
  },
  {
   "cell_type": "code",
   "execution_count": null,
   "id": "381bd117",
   "metadata": {},
   "outputs": [],
   "source": [
    "#Divido le features dalla label\n",
    "#Deinifisco features e label per il dataset di vini bianchi e rossi\n",
    "df_wines_quality_step_classification = df_wines.copy().drop(columns=['wine color','quality'])\n",
    "y_step_quality = df_wines_quality_step_classification.pop('quality description')\n",
    "X_step_quality = df_wines_quality_step_classification"
   ]
  },
  {
   "cell_type": "markdown",
   "id": "2117626d",
   "metadata": {},
   "source": [
    "### Classificazione K-Neighbors"
   ]
  },
  {
   "cell_type": "markdown",
   "id": "74b074bc",
   "metadata": {},
   "source": [
    "#### Normalizzazione dei dati"
   ]
  },
  {
   "cell_type": "code",
   "execution_count": null,
   "id": "7f2b86ad",
   "metadata": {},
   "outputs": [],
   "source": [
    "#Normalizzatoredei dati\n",
    "step_quality_scaler = MinMaxScaler(feature_range = (0,1))"
   ]
  },
  {
   "cell_type": "code",
   "execution_count": null,
   "id": "49e96991",
   "metadata": {},
   "outputs": [],
   "source": [
    "#Effettuo la normalizzazione\n",
    "X_step_quality = step_quality_scaler.fit_transform(X_step_quality)"
   ]
  },
  {
   "cell_type": "markdown",
   "id": "61662a25",
   "metadata": {},
   "source": [
    "#### Inizializzazione del classificatore"
   ]
  },
  {
   "cell_type": "code",
   "execution_count": null,
   "id": "b1b5beda",
   "metadata": {},
   "outputs": [],
   "source": [
    "#Preparo il classificatore\n",
    "step_quality_neighbors_classifier = neighbors.KNeighborsClassifier(n_neighbors = 1)"
   ]
  },
  {
   "cell_type": "markdown",
   "id": "e3ad9dee",
   "metadata": {},
   "source": [
    "#### Validazione HoldOut"
   ]
  },
  {
   "cell_type": "code",
   "execution_count": null,
   "id": "76c1721e",
   "metadata": {},
   "outputs": [],
   "source": [
    "#Preparo i dataset per validazione con holdout\n",
    "X_step_quality_train,X_step_quality_test,y_step_quality_train,y_step_quality_test = \\\n",
    "train_test_split(X_step_quality,y_step_quality,test_size=0.3)"
   ]
  },
  {
   "cell_type": "code",
   "execution_count": null,
   "id": "b6b7c8d1",
   "metadata": {},
   "outputs": [],
   "source": [
    "#Addestro il modello\n",
    "step_quality_neighbors_classifier.fit(X_step_quality_train,y_step_quality_train)"
   ]
  },
  {
   "cell_type": "code",
   "execution_count": null,
   "id": "e95788c4",
   "metadata": {},
   "outputs": [],
   "source": [
    "#Effettuo la predizione sui dati di test\n",
    "y_step_quality_prediction = step_quality_neighbors_classifier.predict(X_step_quality_test)"
   ]
  },
  {
   "cell_type": "code",
   "execution_count": null,
   "id": "31da2284",
   "metadata": {},
   "outputs": [],
   "source": [
    "#Visualizzo la predizione\n",
    "y_step_quality_prediction"
   ]
  },
  {
   "cell_type": "code",
   "execution_count": null,
   "id": "e1f1a100",
   "metadata": {},
   "outputs": [],
   "source": [
    "#Calcolo l'accouracy\n",
    "accuracy_score(y_step_quality_test,y_step_quality_prediction)"
   ]
  },
  {
   "cell_type": "markdown",
   "id": "282e85dd",
   "metadata": {},
   "source": [
    "#### Validazione 5 Fold Cross"
   ]
  },
  {
   "cell_type": "code",
   "execution_count": null,
   "id": "c96e8c1e",
   "metadata": {},
   "outputs": [],
   "source": [
    "y_step_quality_prediction_leave_5_fold = \\\n",
    "cross_val_score(step_quality_neighbors_classifier,X_step_quality,y_step_quality,cv=5)"
   ]
  },
  {
   "cell_type": "code",
   "execution_count": null,
   "id": "db74e304",
   "metadata": {},
   "outputs": [],
   "source": [
    "y_step_quality_prediction_leave_5_fold.mean()"
   ]
  },
  {
   "cell_type": "markdown",
   "id": "35235eda",
   "metadata": {},
   "source": [
    "#### Validazione Leave One out"
   ]
  },
  {
   "cell_type": "code",
   "execution_count": null,
   "id": "e03a74f0",
   "metadata": {},
   "outputs": [],
   "source": [
    "#Provo con tecnica Leave One Out\n",
    "y_step_quality_prediction_leave_one_out = \\\n",
    "cross_val_score(step_quality_neighbors_classifier,X_step_quality,y_step_quality,cv=LeaveOneOut())"
   ]
  },
  {
   "cell_type": "code",
   "execution_count": null,
   "id": "9ec303d5",
   "metadata": {},
   "outputs": [],
   "source": [
    "y_step_quality_prediction_leave_one_out.mean()"
   ]
  },
  {
   "cell_type": "markdown",
   "id": "ef932df2",
   "metadata": {},
   "source": [
    "#### Grid Search CV per cercare di migliorare il modello"
   ]
  },
  {
   "cell_type": "code",
   "execution_count": null,
   "id": "9e58b9b2",
   "metadata": {},
   "outputs": [],
   "source": [
    "#Cerco di calibrare il modello variando gli iper parametri con tecnica Grid Search CV\n",
    "step_quality_param_grid = {'n_neighbors' : np.arange(1,10), 'weights' : ['uniform','distance']}"
   ]
  },
  {
   "cell_type": "code",
   "execution_count": null,
   "id": "63b79e7d",
   "metadata": {},
   "outputs": [],
   "source": [
    "#Prepare il Grid e lo eseguo su\n",
    "step_quality_grid = GridSearchCV(step_quality_neighbors_classifier,step_quality_param_grid,cv=5)"
   ]
  },
  {
   "cell_type": "code",
   "execution_count": null,
   "id": "8b708e4c",
   "metadata": {},
   "outputs": [],
   "source": [
    "#Addestro il modello sulle varue combinazioni degli iperparametri\n",
    "step_quality_grid.fit(X_step_quality_train,y_step_quality_train);"
   ]
  },
  {
   "cell_type": "code",
   "execution_count": null,
   "id": "3e95b806",
   "metadata": {},
   "outputs": [],
   "source": [
    "#Iperparametri migliori\n",
    "step_quality_grid.best_params_"
   ]
  },
  {
   "cell_type": "code",
   "execution_count": null,
   "id": "155c0ddb",
   "metadata": {},
   "outputs": [],
   "source": [
    "#Effettuo una verifica\n",
    "y_step_quality_prediction_by_grid = step_quality_grid.best_estimator_.predict(X_step_quality_test)"
   ]
  },
  {
   "cell_type": "code",
   "execution_count": null,
   "id": "2acd2427",
   "metadata": {},
   "outputs": [],
   "source": [
    "#Verifico l'accuratezza\n",
    "accuracy_score(y_step_quality_test,y_step_quality_prediction_by_grid)"
   ]
  },
  {
   "cell_type": "code",
   "execution_count": null,
   "id": "5b2217fe",
   "metadata": {},
   "outputs": [],
   "source": [
    "np.set_printoptions()\n",
    "\n",
    "# Plot non-normalized confusion matrix\n",
    "titles_options = [\n",
    "    (\"Confusion matrix, without normalization\", None),\n",
    "    ##(\"Normalized confusion matrix\", \"true\"),\n",
    "]\n",
    "for title, normalize in titles_options:\n",
    "    disp = ConfusionMatrixDisplay.from_estimator(\n",
    "        step_quality_grid.best_estimator_,\n",
    "        X_step_quality_test,\n",
    "        y_step_quality_test,\n",
    "        display_labels= ['LOW',\"MEDIUM\",'HIGH'],\n",
    "        cmap=plt.cm.Blues,\n",
    "        normalize=normalize,\n",
    "    )\n",
    "    disp.ax_.set_title(title)\n",
    "    plt.grid(False)\n",
    "plt.show()"
   ]
  },
  {
   "cell_type": "markdown",
   "id": "1fdf2b07",
   "metadata": {},
   "source": [
    "### Classificazoine con SVC"
   ]
  },
  {
   "cell_type": "markdown",
   "id": "77bcf11e",
   "metadata": {},
   "source": [
    "#### Inizializzazione del classificatore"
   ]
  },
  {
   "cell_type": "code",
   "execution_count": null,
   "id": "589a0eed",
   "metadata": {},
   "outputs": [],
   "source": [
    "step_quality_svc_classifier = SVC(kernel= 'linear')"
   ]
  },
  {
   "cell_type": "markdown",
   "id": "64a67d75",
   "metadata": {},
   "source": [
    "#### Holdout Validazione"
   ]
  },
  {
   "cell_type": "code",
   "execution_count": null,
   "id": "17d4f5d9",
   "metadata": {},
   "outputs": [],
   "source": [
    "step_quality_svc_classifier.fit(X_step_quality_train,y_step_quality_train)"
   ]
  },
  {
   "cell_type": "code",
   "execution_count": null,
   "id": "929dbb23",
   "metadata": {},
   "outputs": [],
   "source": [
    "y_step_quality_prediction_svc = step_quality_svc_classifier.predict(X_step_quality_test)"
   ]
  },
  {
   "cell_type": "code",
   "execution_count": null,
   "id": "4da85f32",
   "metadata": {},
   "outputs": [],
   "source": [
    "accuracy_score(y_step_quality_test,y_step_quality_prediction_svc)"
   ]
  },
  {
   "cell_type": "markdown",
   "id": "3deb43e2",
   "metadata": {},
   "source": [
    "#### 5 fold cross validation"
   ]
  },
  {
   "cell_type": "code",
   "execution_count": null,
   "id": "b2462705",
   "metadata": {},
   "outputs": [],
   "source": [
    "y_step_quality_prediction_svc_5_fold = \\\n",
    "cross_val_score(step_quality_svc_classifier,X_step_quality,y_step_quality,cv=5)"
   ]
  },
  {
   "cell_type": "code",
   "execution_count": null,
   "id": "20d0d4d9",
   "metadata": {},
   "outputs": [],
   "source": [
    "y_step_quality_prediction_leave_5_fold.mean()"
   ]
  },
  {
   "cell_type": "markdown",
   "id": "f4a93198",
   "metadata": {},
   "source": [
    "#### Grid search CV"
   ]
  },
  {
   "cell_type": "code",
   "execution_count": null,
   "id": "27979229",
   "metadata": {},
   "outputs": [],
   "source": [
    "#Cerco di calibrare il modello variando gli iper parametri con tecnica Grid Search CV\n",
    "param_grid = {'kernel' : ['linear', 'poly', 'rbf', 'sigmoid'], 'C' : [1,30,33]}"
   ]
  },
  {
   "cell_type": "code",
   "execution_count": null,
   "id": "39c1b0ed",
   "metadata": {},
   "outputs": [],
   "source": [
    "#Prepare il Grid e lo eseguo su\n",
    "grid = GridSearchCV(step_quality_svc_classifier,param_grid,cv=5)"
   ]
  },
  {
   "cell_type": "code",
   "execution_count": null,
   "id": "9c0da15a",
   "metadata": {},
   "outputs": [],
   "source": [
    "#Addestro il modello sulle varue combinazioni degli iperparametri\n",
    "grid.fit(X_step_quality_train,y_step_quality_train);"
   ]
  },
  {
   "cell_type": "code",
   "execution_count": null,
   "id": "6b20fa93",
   "metadata": {},
   "outputs": [],
   "source": [
    "#Iperparametri migliori\n",
    "grid.best_params_"
   ]
  },
  {
   "cell_type": "code",
   "execution_count": null,
   "id": "8f575644",
   "metadata": {},
   "outputs": [],
   "source": [
    "#Effettuo una verifica\n",
    "y_step_quality_prediction_by_grid = grid.best_estimator_.predict(X_step_quality_test)"
   ]
  },
  {
   "cell_type": "code",
   "execution_count": null,
   "id": "e4024814",
   "metadata": {},
   "outputs": [],
   "source": [
    "#Verifico l'accuratezza\n",
    "accuracy_score(y_step_quality_test,y_step_quality_prediction_by_grid)"
   ]
  },
  {
   "cell_type": "code",
   "execution_count": null,
   "id": "609e876b",
   "metadata": {
    "scrolled": true
   },
   "outputs": [],
   "source": [
    "np.set_printoptions()\n",
    "\n",
    "# Plot non-normalized confusion matrix\n",
    "titles_options = [\n",
    "    (\"Confusion matrix, without normalization\", None),\n",
    "    ##(\"Normalized confusion matrix\", \"true\"),\n",
    "]\n",
    "for title, normalize in titles_options:\n",
    "    disp = ConfusionMatrixDisplay.from_estimator(\n",
    "        grid.best_estimator_,\n",
    "        X_step_quality_test,\n",
    "        y_step_quality_test,\n",
    "        display_labels= ['LOW',\"MEDIUM\",'HIGH'],\n",
    "        cmap=plt.cm.Blues,\n",
    "        normalize=normalize,\n",
    "    )\n",
    "    disp.ax_.set_title(title)\n",
    "    plt.grid(False)\n",
    "plt.show()"
   ]
  }
 ],
 "metadata": {
  "kernelspec": {
   "display_name": "Python 3 (ipykernel)",
   "language": "python",
   "name": "python3"
  },
  "language_info": {
   "codemirror_mode": {
    "name": "ipython",
    "version": 3
   },
   "file_extension": ".py",
   "mimetype": "text/x-python",
   "name": "python",
   "nbconvert_exporter": "python",
   "pygments_lexer": "ipython3",
   "version": "3.9.7"
  }
 },
 "nbformat": 4,
 "nbformat_minor": 5
}
