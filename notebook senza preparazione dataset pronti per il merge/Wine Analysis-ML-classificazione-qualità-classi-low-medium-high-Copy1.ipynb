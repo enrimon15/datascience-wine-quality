{
 "cells": [
  {
   "cell_type": "markdown",
   "id": "74b50dee",
   "metadata": {},
   "source": [
    "### Modelli supervisionati di classificazione per *colore* del vino"
   ]
  },
  {
   "cell_type": "markdown",
   "id": "672bc581",
   "metadata": {},
   "source": [
    "### Preparazione dei dataset"
   ]
  },
  {
   "cell_type": "code",
   "execution_count": 14,
   "id": "7b8090b8",
   "metadata": {},
   "outputs": [],
   "source": [
    "#Divido le features dalla label\n",
    "#Deinifisco features e label per il dataset di vini bianchi e rossi\n",
    "df_wines_quality_step_classification = df_wines.copy().drop(columns=['wine color','quality'])\n",
    "y_step_quality = df_wines_quality_step_classification.pop('quality description')\n",
    "X_step_quality = df_wines_quality_step_classification"
   ]
  },
  {
   "cell_type": "markdown",
   "id": "a3fc6267",
   "metadata": {},
   "source": [
    "### Classificazione K-Neighbors"
   ]
  },
  {
   "cell_type": "markdown",
   "id": "27ea1ffa",
   "metadata": {},
   "source": [
    "#### Normalizzazione dei dati"
   ]
  },
  {
   "cell_type": "code",
   "execution_count": 15,
   "id": "2d30d057",
   "metadata": {},
   "outputs": [],
   "source": [
    "#Normalizzatoredei dati\n",
    "step_quality_scaler = MinMaxScaler(feature_range = (0,1))"
   ]
  },
  {
   "cell_type": "code",
   "execution_count": 16,
   "id": "c45731c7",
   "metadata": {},
   "outputs": [],
   "source": [
    "#Effettuo la normalizzazione\n",
    "X_step_quality = step_quality_scaler.fit_transform(X_step_quality)"
   ]
  },
  {
   "cell_type": "markdown",
   "id": "c818f915",
   "metadata": {},
   "source": [
    "#### Inizializzazione del classificatore"
   ]
  },
  {
   "cell_type": "code",
   "execution_count": 17,
   "id": "01ad61b7",
   "metadata": {},
   "outputs": [],
   "source": [
    "#Preparo il classificatore\n",
    "step_quality_neighbors_classifier = neighbors.KNeighborsClassifier(n_neighbors = 1)"
   ]
  },
  {
   "cell_type": "markdown",
   "id": "3b289dd0",
   "metadata": {},
   "source": [
    "#### Validazione HoldOut"
   ]
  },
  {
   "cell_type": "code",
   "execution_count": 18,
   "id": "039f125a",
   "metadata": {},
   "outputs": [],
   "source": [
    "#Preparo i dataset per validazione con holdout\n",
    "X_step_quality_train,X_step_quality_test,y_step_quality_train,y_step_quality_test = \\\n",
    "train_test_split(X_step_quality,y_step_quality,test_size=0.3)"
   ]
  },
  {
   "cell_type": "code",
   "execution_count": 19,
   "id": "e83b073c",
   "metadata": {},
   "outputs": [
    {
     "data": {
      "text/plain": [
       "KNeighborsClassifier(n_neighbors=1)"
      ]
     },
     "execution_count": 19,
     "metadata": {},
     "output_type": "execute_result"
    }
   ],
   "source": [
    "#Addestro il modello\n",
    "step_quality_neighbors_classifier.fit(X_step_quality_train,y_step_quality_train)"
   ]
  },
  {
   "cell_type": "code",
   "execution_count": 20,
   "id": "47211201",
   "metadata": {},
   "outputs": [],
   "source": [
    "#Effettuo la predizione sui dati di test\n",
    "y_step_quality_prediction = step_quality_neighbors_classifier.predict(X_step_quality_test)"
   ]
  },
  {
   "cell_type": "code",
   "execution_count": 21,
   "id": "5b010c08",
   "metadata": {},
   "outputs": [
    {
     "data": {
      "text/plain": [
       "array(['low', 'medium', 'low', ..., 'low', 'low', 'low'], dtype=object)"
      ]
     },
     "execution_count": 21,
     "metadata": {},
     "output_type": "execute_result"
    }
   ],
   "source": [
    "#Visualizzo la predizione\n",
    "y_step_quality_prediction"
   ]
  },
  {
   "cell_type": "code",
   "execution_count": 22,
   "id": "6dfe5a28",
   "metadata": {},
   "outputs": [
    {
     "data": {
      "text/plain": [
       "0.7456410256410256"
      ]
     },
     "execution_count": 22,
     "metadata": {},
     "output_type": "execute_result"
    }
   ],
   "source": [
    "#Calcolo l'accouracy\n",
    "accuracy_score(y_step_quality_test,y_step_quality_prediction)"
   ]
  },
  {
   "cell_type": "markdown",
   "id": "bdaf7d3a",
   "metadata": {},
   "source": [
    "#### Validazione 5 Fold Cross"
   ]
  },
  {
   "cell_type": "code",
   "execution_count": 23,
   "id": "94967f6f",
   "metadata": {},
   "outputs": [],
   "source": [
    "y_step_quality_prediction_leave_5_fold = \\\n",
    "cross_val_score(step_quality_neighbors_classifier,X_step_quality,y_step_quality,cv=5)"
   ]
  },
  {
   "cell_type": "code",
   "execution_count": 24,
   "id": "222e3ffe",
   "metadata": {},
   "outputs": [
    {
     "data": {
      "text/plain": [
       "0.7551168354355422"
      ]
     },
     "execution_count": 24,
     "metadata": {},
     "output_type": "execute_result"
    }
   ],
   "source": [
    "y_step_quality_prediction_leave_5_fold.mean()"
   ]
  },
  {
   "cell_type": "markdown",
   "id": "69848bf9",
   "metadata": {},
   "source": [
    "#### Validazione Leave One out"
   ]
  },
  {
   "cell_type": "code",
   "execution_count": 25,
   "id": "fa246e00",
   "metadata": {},
   "outputs": [],
   "source": [
    "#Provo con tecnica Leave One Out\n",
    "y_step_quality_prediction_leave_one_out = \\\n",
    "cross_val_score(step_quality_neighbors_classifier,X_step_quality,y_step_quality,cv=LeaveOneOut())"
   ]
  },
  {
   "cell_type": "code",
   "execution_count": 26,
   "id": "d1f35979",
   "metadata": {},
   "outputs": [
    {
     "data": {
      "text/plain": [
       "0.7791288286901646"
      ]
     },
     "execution_count": 26,
     "metadata": {},
     "output_type": "execute_result"
    }
   ],
   "source": [
    "y_step_quality_prediction_leave_one_out.mean()"
   ]
  },
  {
   "cell_type": "markdown",
   "id": "121e146e",
   "metadata": {},
   "source": [
    "#### Grid Search CV per cercare di migliorare il modello"
   ]
  },
  {
   "cell_type": "code",
   "execution_count": 27,
   "id": "378daf47",
   "metadata": {},
   "outputs": [],
   "source": [
    "#Cerco di calibrare il modello variando gli iper parametri con tecnica Grid Search CV\n",
    "step_quality_param_grid = {'n_neighbors' : np.arange(1,10), 'weights' : ['uniform','distance']}"
   ]
  },
  {
   "cell_type": "code",
   "execution_count": 28,
   "id": "669d5958",
   "metadata": {},
   "outputs": [],
   "source": [
    "#Prepare il Grid e lo eseguo su\n",
    "step_quality_grid = GridSearchCV(step_quality_neighbors_classifier,step_quality_param_grid,cv=5)"
   ]
  },
  {
   "cell_type": "code",
   "execution_count": 29,
   "id": "e94059bd",
   "metadata": {},
   "outputs": [],
   "source": [
    "#Addestro il modello sulle varue combinazioni degli iperparametri\n",
    "step_quality_grid.fit(X_step_quality_train,y_step_quality_train);"
   ]
  },
  {
   "cell_type": "code",
   "execution_count": 30,
   "id": "dd258cb3",
   "metadata": {},
   "outputs": [
    {
     "data": {
      "text/plain": [
       "{'n_neighbors': 9, 'weights': 'distance'}"
      ]
     },
     "execution_count": 30,
     "metadata": {},
     "output_type": "execute_result"
    }
   ],
   "source": [
    "#Iperparametri migliori\n",
    "step_quality_grid.best_params_"
   ]
  },
  {
   "cell_type": "code",
   "execution_count": 31,
   "id": "e463182f",
   "metadata": {},
   "outputs": [],
   "source": [
    "#Effettuo una verifica\n",
    "y_step_quality_prediction_by_grid = step_quality_grid.best_estimator_.predict(X_step_quality_test)"
   ]
  },
  {
   "cell_type": "code",
   "execution_count": 32,
   "id": "51c4a69f",
   "metadata": {},
   "outputs": [
    {
     "data": {
      "text/plain": [
       "0.7897435897435897"
      ]
     },
     "execution_count": 32,
     "metadata": {},
     "output_type": "execute_result"
    }
   ],
   "source": [
    "#Verifico l'accuratezza\n",
    "accuracy_score(y_step_quality_test,y_step_quality_prediction_by_grid)"
   ]
  },
  {
   "cell_type": "code",
   "execution_count": 33,
   "id": "d488230f",
   "metadata": {},
   "outputs": [
    {
     "data": {
      "image/png": "[encoded data removed]",
      "text/plain": [
       "<Figure size 576x396 with 2 Axes>"
      ]
     },
     "metadata": {},
     "output_type": "display_data"
    }
   ],
   "source": [
    "np.set_printoptions()\n",
    "\n",
    "# Plot non-normalized confusion matrix\n",
    "titles_options = [\n",
    "    (\"Confusion matrix, without normalization\", None),\n",
    "    ##(\"Normalized confusion matrix\", \"true\"),\n",
    "]\n",
    "for title, normalize in titles_options:\n",
    "    disp = ConfusionMatrixDisplay.from_estimator(\n",
    "        step_quality_grid.best_estimator_,\n",
    "        X_step_quality_test,\n",
    "        y_step_quality_test,\n",
    "        display_labels= ['LOW',\"MEDIUM\",'HIGH'],\n",
    "        cmap=plt.cm.Blues,\n",
    "        normalize=normalize,\n",
    "    )\n",
    "    disp.ax_.set_title(title)\n",
    "    plt.grid(False)\n",
    "plt.show()"
   ]
  },
  {
   "cell_type": "markdown",
   "id": "63329386",
   "metadata": {},
   "source": [
    "### Classificazoine con SVC"
   ]
  },
  {
   "cell_type": "markdown",
   "id": "7df8e8ea",
   "metadata": {},
   "source": [
    "#### Inizializzazione del classificatore"
   ]
  },
  {
   "cell_type": "code",
   "execution_count": 34,
   "id": "907ee336",
   "metadata": {},
   "outputs": [],
   "source": [
    "step_quality_svc_classifier = SVC(kernel= 'linear')"
   ]
  },
  {
   "cell_type": "markdown",
   "id": "c9dfbaad",
   "metadata": {},
   "source": [
    "#### Holdout Validazione"
   ]
  },
  {
   "cell_type": "code",
   "execution_count": 35,
   "id": "fcffadcb",
   "metadata": {},
   "outputs": [
    {
     "data": {
      "text/plain": [
       "SVC(kernel='linear')"
      ]
     },
     "execution_count": 35,
     "metadata": {},
     "output_type": "execute_result"
    }
   ],
   "source": [
    "step_quality_svc_classifier.fit(X_step_quality_train,y_step_quality_train)"
   ]
  },
  {
   "cell_type": "code",
   "execution_count": 36,
   "id": "25e6e62b",
   "metadata": {},
   "outputs": [],
   "source": [
    "y_step_quality_prediction_svc = step_quality_svc_classifier.predict(X_step_quality_test)"
   ]
  },
  {
   "cell_type": "code",
   "execution_count": 37,
   "id": "d6b2d47a",
   "metadata": {},
   "outputs": [
    {
     "data": {
      "text/plain": [
       "0.7194871794871794"
      ]
     },
     "execution_count": 37,
     "metadata": {},
     "output_type": "execute_result"
    }
   ],
   "source": [
    "accuracy_score(y_step_quality_test,y_step_quality_prediction_svc)"
   ]
  },
  {
   "cell_type": "markdown",
   "id": "ad025e59",
   "metadata": {},
   "source": [
    "#### 5 fold cross validation"
   ]
  },
  {
   "cell_type": "code",
   "execution_count": 38,
   "id": "011bf0a8",
   "metadata": {},
   "outputs": [],
   "source": [
    "y_step_quality_prediction_svc_5_fold = \\\n",
    "cross_val_score(step_quality_svc_classifier,X_step_quality,y_step_quality,cv=5)"
   ]
  },
  {
   "cell_type": "code",
   "execution_count": 39,
   "id": "25ecf700",
   "metadata": {},
   "outputs": [
    {
     "data": {
      "text/plain": [
       "0.7551168354355422"
      ]
     },
     "execution_count": 39,
     "metadata": {},
     "output_type": "execute_result"
    }
   ],
   "source": [
    "y_step_quality_prediction_leave_5_fold.mean()"
   ]
  },
  {
   "cell_type": "markdown",
   "id": "260c6afe",
   "metadata": {},
   "source": [
    "#### Grid search CV"
   ]
  },
  {
   "cell_type": "code",
   "execution_count": 40,
   "id": "e46ecc39",
   "metadata": {},
   "outputs": [],
   "source": [
    "#Cerco di calibrare il modello variando gli iper parametri con tecnica Grid Search CV\n",
    "param_grid = {'kernel' : ['linear', 'poly', 'rbf', 'sigmoid'], 'C' : [1,30,33]}"
   ]
  },
  {
   "cell_type": "code",
   "execution_count": 41,
   "id": "fc037cb8",
   "metadata": {},
   "outputs": [],
   "source": [
    "#Prepare il Grid e lo eseguo su\n",
    "grid = GridSearchCV(step_quality_svc_classifier,param_grid,cv=5)"
   ]
  },
  {
   "cell_type": "code",
   "execution_count": 42,
   "id": "1fed73b1",
   "metadata": {},
   "outputs": [],
   "source": [
    "#Addestro il modello sulle varue combinazioni degli iperparametri\n",
    "grid.fit(X_step_quality_train,y_step_quality_train);"
   ]
  },
  {
   "cell_type": "code",
   "execution_count": 43,
   "id": "56e3bfd9",
   "metadata": {},
   "outputs": [
    {
     "data": {
      "text/plain": [
       "{'C': 33, 'kernel': 'rbf'}"
      ]
     },
     "execution_count": 43,
     "metadata": {},
     "output_type": "execute_result"
    }
   ],
   "source": [
    "#Iperparametri migliori\n",
    "grid.best_params_"
   ]
  },
  {
   "cell_type": "code",
   "execution_count": 44,
   "id": "d6ddd7bc",
   "metadata": {},
   "outputs": [],
   "source": [
    "#Effettuo una verifica\n",
    "y_step_quality_prediction_by_grid = grid.best_estimator_.predict(X_step_quality_test)"
   ]
  },
  {
   "cell_type": "code",
   "execution_count": 45,
   "id": "4d1cb8e4",
   "metadata": {},
   "outputs": [
    {
     "data": {
      "text/plain": [
       "0.74"
      ]
     },
     "execution_count": 45,
     "metadata": {},
     "output_type": "execute_result"
    }
   ],
   "source": [
    "#Verifico l'accuratezza\n",
    "accuracy_score(y_step_quality_test,y_step_quality_prediction_by_grid)"
   ]
  },
  {
   "cell_type": "code",
   "execution_count": 46,
   "id": "4b715abf",
   "metadata": {},
   "outputs": [
    {
     "data": {
      "image/png": "[encoded data removed]",
      "text/plain": [
       "<Figure size 576x396 with 2 Axes>"
      ]
     },
     "metadata": {},
     "output_type": "display_data"
    }
   ],
   "source": [
    "np.set_printoptions()\n",
    "\n",
    "# Plot non-normalized confusion matrix\n",
    "titles_options = [\n",
    "    (\"Confusion matrix, without normalization\", None),\n",
    "    ##(\"Normalized confusion matrix\", \"true\"),\n",
    "]\n",
    "for title, normalize in titles_options:\n",
    "    disp = ConfusionMatrixDisplay.from_estimator(\n",
    "        grid.best_estimator_,\n",
    "        X_step_quality_test,\n",
    "        y_step_quality_test,\n",
    "        display_labels= ['LOW',\"MEDIUM\",'HIGH'],\n",
    "        cmap=plt.cm.Blues,\n",
    "        normalize=normalize,\n",
    "    )\n",
    "    disp.ax_.set_title(title)\n",
    "    plt.grid(False)\n",
    "plt.show()"
   ]
  }
 ],
 "metadata": {
  "kernelspec": {
   "display_name": "Python 3 (ipykernel)",
   "language": "python",
   "name": "python3"
  },
  "language_info": {
   "codemirror_mode": {
    "name": "ipython",
    "version": 3
   },
   "file_extension": ".py",
   "mimetype": "text/x-python",
   "name": "python",
   "nbconvert_exporter": "python",
   "pygments_lexer": "ipython3",
   "version": "3.9.7"
  }
 },
 "nbformat": 4,
 "nbformat_minor": 5
}
