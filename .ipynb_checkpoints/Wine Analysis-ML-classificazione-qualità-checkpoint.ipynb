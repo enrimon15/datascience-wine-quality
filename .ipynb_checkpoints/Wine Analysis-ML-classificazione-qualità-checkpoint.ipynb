{
 "cells": [
  {
   "cell_type": "markdown",
   "id": "1fc3a826",
   "metadata": {},
   "source": [
    "# Notebook - Analisi della qualità del vino \n",
    "\n",
    "Il dataset sulla qualità del vino contiene informazioni su varie proprietà fisico-chimiche dei vini. É associato un set di dati alla sua varietà di colore: vino rosso e vino bianco. Ad ogni vino è assegnata un'etichetta riguardante la qualità.\n",
    "\n",
    "![](http://pasticceriedelite.it/wp-content/uploads/2021/02/rossibianchi.jpg)"
   ]
  },
  {
   "cell_type": "markdown",
   "id": "79d2f02c",
   "metadata": {},
   "source": [
    "### Indice:\n",
    "1. <a href=\"http://localhost:8888/notebooks/Wine%20Analysis.ipynb#1---Manipolazioni-dei-Dati\">Manipolazione dei Dati</a> \n",
    "2. <a href=\"http://localhost:8888/notebooks/Wine%20Analysis.ipynb#Statistica-Descrittiva-e-Analisi-Esplorativa-tramite-Tecniche-di-Visualizzazione\">Analisi Statistica Descrittiva e Visualizzazione</a>  \n",
    "3. <a href=\"http://localhost:8888/notebooks/Wine%20Analysis.ipynb#Machine-learnging\">Machine Learning</a>"
   ]
  },
  {
   "cell_type": "markdown",
   "id": "098dba2f",
   "metadata": {},
   "source": [
    "### Import delle librerie necessarie"
   ]
  },
  {
   "cell_type": "code",
   "execution_count": 98,
   "id": "71bbbe7e",
   "metadata": {},
   "outputs": [],
   "source": [
    "import numpy as np\n",
    "import pandas as pd\n",
    "import matplotlib.pyplot as plt\n",
    "import seaborn as sns\n",
    "from sklearn.model_selection import train_test_split\n",
    "from sklearn.preprocessing import MinMaxScaler\n",
    "from sklearn.linear_model import LinearRegression\n",
    "from sklearn.metrics import accuracy_score\n",
    "from sklearn.model_selection import cross_val_score\n",
    "from sklearn.preprocessing import MinMaxScaler\n",
    "from sklearn import neighbors\n",
    "from sklearn.metrics import mean_squared_error\n",
    "from sklearn.model_selection import LeaveOneOut\n",
    "from sklearn.model_selection import GridSearchCV\n",
    "from sklearn.svm import SVC\n",
    "from sklearn.metrics import confusion_matrix\n",
    "from sklearn.metrics import ConfusionMatrixDisplay\n",
    "\n",
    "plt.style.use('seaborn')"
   ]
  },
  {
   "cell_type": "markdown",
   "id": "d44624df",
   "metadata": {},
   "source": [
    "### Caricamento dei dataset <a href=\"https://archive.ics.uci.edu/ml/datasets/Wine+Quality\" target=\"_blank\">LINK</a>"
   ]
  },
  {
   "cell_type": "code",
   "execution_count": 2,
   "id": "c530b7da",
   "metadata": {},
   "outputs": [],
   "source": [
    "# utilizzo il separatore ';'\n",
    "df_white_wine = pd.read_csv('./winequality-white.csv', sep=';')\n",
    "df_red_wine = pd.read_csv('./winequality-red.csv', sep=';')"
   ]
  },
  {
   "cell_type": "markdown",
   "id": "6003dd2c",
   "metadata": {},
   "source": [
    "## 1 - Manipolazioni dei dati"
   ]
  },
  {
   "cell_type": "code",
   "execution_count": 3,
   "id": "9d64aec4",
   "metadata": {},
   "outputs": [
    {
     "data": {
      "text/html": [
       "<div>\n",
       "<style scoped>\n",
       "    .dataframe tbody tr th:only-of-type {\n",
       "        vertical-align: middle;\n",
       "    }\n",
       "\n",
       "    .dataframe tbody tr th {\n",
       "        vertical-align: top;\n",
       "    }\n",
       "\n",
       "    .dataframe thead th {\n",
       "        text-align: right;\n",
       "    }\n",
       "</style>\n",
       "<table border=\"1\" class=\"dataframe\">\n",
       "  <thead>\n",
       "    <tr style=\"text-align: right;\">\n",
       "      <th></th>\n",
       "      <th>fixed acidity</th>\n",
       "      <th>volatile acidity</th>\n",
       "      <th>citric acid</th>\n",
       "      <th>residual sugar</th>\n",
       "      <th>chlorides</th>\n",
       "      <th>free sulfur dioxide</th>\n",
       "      <th>total sulfur dioxide</th>\n",
       "      <th>density</th>\n",
       "      <th>pH</th>\n",
       "      <th>sulphates</th>\n",
       "      <th>alcohol</th>\n",
       "      <th>quality</th>\n",
       "    </tr>\n",
       "  </thead>\n",
       "  <tbody>\n",
       "    <tr>\n",
       "      <th>0</th>\n",
       "      <td>7.4</td>\n",
       "      <td>0.700</td>\n",
       "      <td>0.00</td>\n",
       "      <td>1.9</td>\n",
       "      <td>0.076</td>\n",
       "      <td>11.0</td>\n",
       "      <td>34.0</td>\n",
       "      <td>0.99780</td>\n",
       "      <td>3.51</td>\n",
       "      <td>0.56</td>\n",
       "      <td>9.4</td>\n",
       "      <td>5</td>\n",
       "    </tr>\n",
       "    <tr>\n",
       "      <th>1</th>\n",
       "      <td>7.8</td>\n",
       "      <td>0.880</td>\n",
       "      <td>0.00</td>\n",
       "      <td>2.6</td>\n",
       "      <td>0.098</td>\n",
       "      <td>25.0</td>\n",
       "      <td>67.0</td>\n",
       "      <td>0.99680</td>\n",
       "      <td>3.20</td>\n",
       "      <td>0.68</td>\n",
       "      <td>9.8</td>\n",
       "      <td>5</td>\n",
       "    </tr>\n",
       "    <tr>\n",
       "      <th>2</th>\n",
       "      <td>7.8</td>\n",
       "      <td>0.760</td>\n",
       "      <td>0.04</td>\n",
       "      <td>2.3</td>\n",
       "      <td>0.092</td>\n",
       "      <td>15.0</td>\n",
       "      <td>54.0</td>\n",
       "      <td>0.99700</td>\n",
       "      <td>3.26</td>\n",
       "      <td>0.65</td>\n",
       "      <td>9.8</td>\n",
       "      <td>5</td>\n",
       "    </tr>\n",
       "    <tr>\n",
       "      <th>3</th>\n",
       "      <td>11.2</td>\n",
       "      <td>0.280</td>\n",
       "      <td>0.56</td>\n",
       "      <td>1.9</td>\n",
       "      <td>0.075</td>\n",
       "      <td>17.0</td>\n",
       "      <td>60.0</td>\n",
       "      <td>0.99800</td>\n",
       "      <td>3.16</td>\n",
       "      <td>0.58</td>\n",
       "      <td>9.8</td>\n",
       "      <td>6</td>\n",
       "    </tr>\n",
       "    <tr>\n",
       "      <th>4</th>\n",
       "      <td>7.4</td>\n",
       "      <td>0.700</td>\n",
       "      <td>0.00</td>\n",
       "      <td>1.9</td>\n",
       "      <td>0.076</td>\n",
       "      <td>11.0</td>\n",
       "      <td>34.0</td>\n",
       "      <td>0.99780</td>\n",
       "      <td>3.51</td>\n",
       "      <td>0.56</td>\n",
       "      <td>9.4</td>\n",
       "      <td>5</td>\n",
       "    </tr>\n",
       "    <tr>\n",
       "      <th>...</th>\n",
       "      <td>...</td>\n",
       "      <td>...</td>\n",
       "      <td>...</td>\n",
       "      <td>...</td>\n",
       "      <td>...</td>\n",
       "      <td>...</td>\n",
       "      <td>...</td>\n",
       "      <td>...</td>\n",
       "      <td>...</td>\n",
       "      <td>...</td>\n",
       "      <td>...</td>\n",
       "      <td>...</td>\n",
       "    </tr>\n",
       "    <tr>\n",
       "      <th>1594</th>\n",
       "      <td>6.2</td>\n",
       "      <td>0.600</td>\n",
       "      <td>0.08</td>\n",
       "      <td>2.0</td>\n",
       "      <td>0.090</td>\n",
       "      <td>32.0</td>\n",
       "      <td>44.0</td>\n",
       "      <td>0.99490</td>\n",
       "      <td>3.45</td>\n",
       "      <td>0.58</td>\n",
       "      <td>10.5</td>\n",
       "      <td>5</td>\n",
       "    </tr>\n",
       "    <tr>\n",
       "      <th>1595</th>\n",
       "      <td>5.9</td>\n",
       "      <td>0.550</td>\n",
       "      <td>0.10</td>\n",
       "      <td>2.2</td>\n",
       "      <td>0.062</td>\n",
       "      <td>39.0</td>\n",
       "      <td>51.0</td>\n",
       "      <td>0.99512</td>\n",
       "      <td>3.52</td>\n",
       "      <td>0.76</td>\n",
       "      <td>11.2</td>\n",
       "      <td>6</td>\n",
       "    </tr>\n",
       "    <tr>\n",
       "      <th>1596</th>\n",
       "      <td>6.3</td>\n",
       "      <td>0.510</td>\n",
       "      <td>0.13</td>\n",
       "      <td>2.3</td>\n",
       "      <td>0.076</td>\n",
       "      <td>29.0</td>\n",
       "      <td>40.0</td>\n",
       "      <td>0.99574</td>\n",
       "      <td>3.42</td>\n",
       "      <td>0.75</td>\n",
       "      <td>11.0</td>\n",
       "      <td>6</td>\n",
       "    </tr>\n",
       "    <tr>\n",
       "      <th>1597</th>\n",
       "      <td>5.9</td>\n",
       "      <td>0.645</td>\n",
       "      <td>0.12</td>\n",
       "      <td>2.0</td>\n",
       "      <td>0.075</td>\n",
       "      <td>32.0</td>\n",
       "      <td>44.0</td>\n",
       "      <td>0.99547</td>\n",
       "      <td>3.57</td>\n",
       "      <td>0.71</td>\n",
       "      <td>10.2</td>\n",
       "      <td>5</td>\n",
       "    </tr>\n",
       "    <tr>\n",
       "      <th>1598</th>\n",
       "      <td>6.0</td>\n",
       "      <td>0.310</td>\n",
       "      <td>0.47</td>\n",
       "      <td>3.6</td>\n",
       "      <td>0.067</td>\n",
       "      <td>18.0</td>\n",
       "      <td>42.0</td>\n",
       "      <td>0.99549</td>\n",
       "      <td>3.39</td>\n",
       "      <td>0.66</td>\n",
       "      <td>11.0</td>\n",
       "      <td>6</td>\n",
       "    </tr>\n",
       "  </tbody>\n",
       "</table>\n",
       "<p>1599 rows × 12 columns</p>\n",
       "</div>"
      ],
      "text/plain": [
       "      fixed acidity  volatile acidity  citric acid  residual sugar  chlorides  \\\n",
       "0               7.4             0.700         0.00             1.9      0.076   \n",
       "1               7.8             0.880         0.00             2.6      0.098   \n",
       "2               7.8             0.760         0.04             2.3      0.092   \n",
       "3              11.2             0.280         0.56             1.9      0.075   \n",
       "4               7.4             0.700         0.00             1.9      0.076   \n",
       "...             ...               ...          ...             ...        ...   \n",
       "1594            6.2             0.600         0.08             2.0      0.090   \n",
       "1595            5.9             0.550         0.10             2.2      0.062   \n",
       "1596            6.3             0.510         0.13             2.3      0.076   \n",
       "1597            5.9             0.645         0.12             2.0      0.075   \n",
       "1598            6.0             0.310         0.47             3.6      0.067   \n",
       "\n",
       "      free sulfur dioxide  total sulfur dioxide  density    pH  sulphates  \\\n",
       "0                    11.0                  34.0  0.99780  3.51       0.56   \n",
       "1                    25.0                  67.0  0.99680  3.20       0.68   \n",
       "2                    15.0                  54.0  0.99700  3.26       0.65   \n",
       "3                    17.0                  60.0  0.99800  3.16       0.58   \n",
       "4                    11.0                  34.0  0.99780  3.51       0.56   \n",
       "...                   ...                   ...      ...   ...        ...   \n",
       "1594                 32.0                  44.0  0.99490  3.45       0.58   \n",
       "1595                 39.0                  51.0  0.99512  3.52       0.76   \n",
       "1596                 29.0                  40.0  0.99574  3.42       0.75   \n",
       "1597                 32.0                  44.0  0.99547  3.57       0.71   \n",
       "1598                 18.0                  42.0  0.99549  3.39       0.66   \n",
       "\n",
       "      alcohol  quality  \n",
       "0         9.4        5  \n",
       "1         9.8        5  \n",
       "2         9.8        5  \n",
       "3         9.8        6  \n",
       "4         9.4        5  \n",
       "...       ...      ...  \n",
       "1594     10.5        5  \n",
       "1595     11.2        6  \n",
       "1596     11.0        6  \n",
       "1597     10.2        5  \n",
       "1598     11.0        6  \n",
       "\n",
       "[1599 rows x 12 columns]"
      ]
     },
     "execution_count": 3,
     "metadata": {},
     "output_type": "execute_result"
    }
   ],
   "source": [
    "df_red_wine"
   ]
  },
  {
   "cell_type": "code",
   "execution_count": 4,
   "id": "b08dc2b1",
   "metadata": {},
   "outputs": [
    {
     "data": {
      "text/html": [
       "<div>\n",
       "<style scoped>\n",
       "    .dataframe tbody tr th:only-of-type {\n",
       "        vertical-align: middle;\n",
       "    }\n",
       "\n",
       "    .dataframe tbody tr th {\n",
       "        vertical-align: top;\n",
       "    }\n",
       "\n",
       "    .dataframe thead th {\n",
       "        text-align: right;\n",
       "    }\n",
       "</style>\n",
       "<table border=\"1\" class=\"dataframe\">\n",
       "  <thead>\n",
       "    <tr style=\"text-align: right;\">\n",
       "      <th></th>\n",
       "      <th>fixed acidity</th>\n",
       "      <th>volatile acidity</th>\n",
       "      <th>citric acid</th>\n",
       "      <th>residual sugar</th>\n",
       "      <th>chlorides</th>\n",
       "      <th>free sulfur dioxide</th>\n",
       "      <th>total sulfur dioxide</th>\n",
       "      <th>density</th>\n",
       "      <th>pH</th>\n",
       "      <th>sulphates</th>\n",
       "      <th>alcohol</th>\n",
       "      <th>quality</th>\n",
       "    </tr>\n",
       "  </thead>\n",
       "  <tbody>\n",
       "    <tr>\n",
       "      <th>0</th>\n",
       "      <td>7.0</td>\n",
       "      <td>0.27</td>\n",
       "      <td>0.36</td>\n",
       "      <td>20.7</td>\n",
       "      <td>0.045</td>\n",
       "      <td>45.0</td>\n",
       "      <td>170.0</td>\n",
       "      <td>1.00100</td>\n",
       "      <td>3.00</td>\n",
       "      <td>0.45</td>\n",
       "      <td>8.8</td>\n",
       "      <td>6</td>\n",
       "    </tr>\n",
       "    <tr>\n",
       "      <th>1</th>\n",
       "      <td>6.3</td>\n",
       "      <td>0.30</td>\n",
       "      <td>0.34</td>\n",
       "      <td>1.6</td>\n",
       "      <td>0.049</td>\n",
       "      <td>14.0</td>\n",
       "      <td>132.0</td>\n",
       "      <td>0.99400</td>\n",
       "      <td>3.30</td>\n",
       "      <td>0.49</td>\n",
       "      <td>9.5</td>\n",
       "      <td>6</td>\n",
       "    </tr>\n",
       "    <tr>\n",
       "      <th>2</th>\n",
       "      <td>8.1</td>\n",
       "      <td>0.28</td>\n",
       "      <td>0.40</td>\n",
       "      <td>6.9</td>\n",
       "      <td>0.050</td>\n",
       "      <td>30.0</td>\n",
       "      <td>97.0</td>\n",
       "      <td>0.99510</td>\n",
       "      <td>3.26</td>\n",
       "      <td>0.44</td>\n",
       "      <td>10.1</td>\n",
       "      <td>6</td>\n",
       "    </tr>\n",
       "    <tr>\n",
       "      <th>3</th>\n",
       "      <td>7.2</td>\n",
       "      <td>0.23</td>\n",
       "      <td>0.32</td>\n",
       "      <td>8.5</td>\n",
       "      <td>0.058</td>\n",
       "      <td>47.0</td>\n",
       "      <td>186.0</td>\n",
       "      <td>0.99560</td>\n",
       "      <td>3.19</td>\n",
       "      <td>0.40</td>\n",
       "      <td>9.9</td>\n",
       "      <td>6</td>\n",
       "    </tr>\n",
       "    <tr>\n",
       "      <th>4</th>\n",
       "      <td>7.2</td>\n",
       "      <td>0.23</td>\n",
       "      <td>0.32</td>\n",
       "      <td>8.5</td>\n",
       "      <td>0.058</td>\n",
       "      <td>47.0</td>\n",
       "      <td>186.0</td>\n",
       "      <td>0.99560</td>\n",
       "      <td>3.19</td>\n",
       "      <td>0.40</td>\n",
       "      <td>9.9</td>\n",
       "      <td>6</td>\n",
       "    </tr>\n",
       "    <tr>\n",
       "      <th>...</th>\n",
       "      <td>...</td>\n",
       "      <td>...</td>\n",
       "      <td>...</td>\n",
       "      <td>...</td>\n",
       "      <td>...</td>\n",
       "      <td>...</td>\n",
       "      <td>...</td>\n",
       "      <td>...</td>\n",
       "      <td>...</td>\n",
       "      <td>...</td>\n",
       "      <td>...</td>\n",
       "      <td>...</td>\n",
       "    </tr>\n",
       "    <tr>\n",
       "      <th>4893</th>\n",
       "      <td>6.2</td>\n",
       "      <td>0.21</td>\n",
       "      <td>0.29</td>\n",
       "      <td>1.6</td>\n",
       "      <td>0.039</td>\n",
       "      <td>24.0</td>\n",
       "      <td>92.0</td>\n",
       "      <td>0.99114</td>\n",
       "      <td>3.27</td>\n",
       "      <td>0.50</td>\n",
       "      <td>11.2</td>\n",
       "      <td>6</td>\n",
       "    </tr>\n",
       "    <tr>\n",
       "      <th>4894</th>\n",
       "      <td>6.6</td>\n",
       "      <td>0.32</td>\n",
       "      <td>0.36</td>\n",
       "      <td>8.0</td>\n",
       "      <td>0.047</td>\n",
       "      <td>57.0</td>\n",
       "      <td>168.0</td>\n",
       "      <td>0.99490</td>\n",
       "      <td>3.15</td>\n",
       "      <td>0.46</td>\n",
       "      <td>9.6</td>\n",
       "      <td>5</td>\n",
       "    </tr>\n",
       "    <tr>\n",
       "      <th>4895</th>\n",
       "      <td>6.5</td>\n",
       "      <td>0.24</td>\n",
       "      <td>0.19</td>\n",
       "      <td>1.2</td>\n",
       "      <td>0.041</td>\n",
       "      <td>30.0</td>\n",
       "      <td>111.0</td>\n",
       "      <td>0.99254</td>\n",
       "      <td>2.99</td>\n",
       "      <td>0.46</td>\n",
       "      <td>9.4</td>\n",
       "      <td>6</td>\n",
       "    </tr>\n",
       "    <tr>\n",
       "      <th>4896</th>\n",
       "      <td>5.5</td>\n",
       "      <td>0.29</td>\n",
       "      <td>0.30</td>\n",
       "      <td>1.1</td>\n",
       "      <td>0.022</td>\n",
       "      <td>20.0</td>\n",
       "      <td>110.0</td>\n",
       "      <td>0.98869</td>\n",
       "      <td>3.34</td>\n",
       "      <td>0.38</td>\n",
       "      <td>12.8</td>\n",
       "      <td>7</td>\n",
       "    </tr>\n",
       "    <tr>\n",
       "      <th>4897</th>\n",
       "      <td>6.0</td>\n",
       "      <td>0.21</td>\n",
       "      <td>0.38</td>\n",
       "      <td>0.8</td>\n",
       "      <td>0.020</td>\n",
       "      <td>22.0</td>\n",
       "      <td>98.0</td>\n",
       "      <td>0.98941</td>\n",
       "      <td>3.26</td>\n",
       "      <td>0.32</td>\n",
       "      <td>11.8</td>\n",
       "      <td>6</td>\n",
       "    </tr>\n",
       "  </tbody>\n",
       "</table>\n",
       "<p>4898 rows × 12 columns</p>\n",
       "</div>"
      ],
      "text/plain": [
       "      fixed acidity  volatile acidity  citric acid  residual sugar  chlorides  \\\n",
       "0               7.0              0.27         0.36            20.7      0.045   \n",
       "1               6.3              0.30         0.34             1.6      0.049   \n",
       "2               8.1              0.28         0.40             6.9      0.050   \n",
       "3               7.2              0.23         0.32             8.5      0.058   \n",
       "4               7.2              0.23         0.32             8.5      0.058   \n",
       "...             ...               ...          ...             ...        ...   \n",
       "4893            6.2              0.21         0.29             1.6      0.039   \n",
       "4894            6.6              0.32         0.36             8.0      0.047   \n",
       "4895            6.5              0.24         0.19             1.2      0.041   \n",
       "4896            5.5              0.29         0.30             1.1      0.022   \n",
       "4897            6.0              0.21         0.38             0.8      0.020   \n",
       "\n",
       "      free sulfur dioxide  total sulfur dioxide  density    pH  sulphates  \\\n",
       "0                    45.0                 170.0  1.00100  3.00       0.45   \n",
       "1                    14.0                 132.0  0.99400  3.30       0.49   \n",
       "2                    30.0                  97.0  0.99510  3.26       0.44   \n",
       "3                    47.0                 186.0  0.99560  3.19       0.40   \n",
       "4                    47.0                 186.0  0.99560  3.19       0.40   \n",
       "...                   ...                   ...      ...   ...        ...   \n",
       "4893                 24.0                  92.0  0.99114  3.27       0.50   \n",
       "4894                 57.0                 168.0  0.99490  3.15       0.46   \n",
       "4895                 30.0                 111.0  0.99254  2.99       0.46   \n",
       "4896                 20.0                 110.0  0.98869  3.34       0.38   \n",
       "4897                 22.0                  98.0  0.98941  3.26       0.32   \n",
       "\n",
       "      alcohol  quality  \n",
       "0         8.8        6  \n",
       "1         9.5        6  \n",
       "2        10.1        6  \n",
       "3         9.9        6  \n",
       "4         9.9        6  \n",
       "...       ...      ...  \n",
       "4893     11.2        6  \n",
       "4894      9.6        5  \n",
       "4895      9.4        6  \n",
       "4896     12.8        7  \n",
       "4897     11.8        6  \n",
       "\n",
       "[4898 rows x 12 columns]"
      ]
     },
     "execution_count": 4,
     "metadata": {},
     "output_type": "execute_result"
    }
   ],
   "source": [
    "df_white_wine"
   ]
  },
  {
   "cell_type": "code",
   "execution_count": 5,
   "id": "1f9d93cf",
   "metadata": {},
   "outputs": [],
   "source": [
    "df_red_wine['wine color'] = 'red'   \n",
    "df_white_wine['wine color'] = 'white'"
   ]
  },
  {
   "cell_type": "markdown",
   "id": "8eff9109",
   "metadata": {},
   "source": [
    "### Modifica dei dataset aggiungendo la colonna relativa al colore del vino"
   ]
  },
  {
   "cell_type": "code",
   "execution_count": 6,
   "id": "78da32f6",
   "metadata": {},
   "outputs": [
    {
     "data": {
      "text/html": [
       "<div>\n",
       "<style scoped>\n",
       "    .dataframe tbody tr th:only-of-type {\n",
       "        vertical-align: middle;\n",
       "    }\n",
       "\n",
       "    .dataframe tbody tr th {\n",
       "        vertical-align: top;\n",
       "    }\n",
       "\n",
       "    .dataframe thead th {\n",
       "        text-align: right;\n",
       "    }\n",
       "</style>\n",
       "<table border=\"1\" class=\"dataframe\">\n",
       "  <thead>\n",
       "    <tr style=\"text-align: right;\">\n",
       "      <th></th>\n",
       "      <th>fixed acidity</th>\n",
       "      <th>volatile acidity</th>\n",
       "      <th>citric acid</th>\n",
       "      <th>residual sugar</th>\n",
       "      <th>chlorides</th>\n",
       "      <th>free sulfur dioxide</th>\n",
       "      <th>total sulfur dioxide</th>\n",
       "      <th>density</th>\n",
       "      <th>pH</th>\n",
       "      <th>sulphates</th>\n",
       "      <th>alcohol</th>\n",
       "      <th>quality</th>\n",
       "      <th>wine color</th>\n",
       "    </tr>\n",
       "  </thead>\n",
       "  <tbody>\n",
       "    <tr>\n",
       "      <th>0</th>\n",
       "      <td>7.4</td>\n",
       "      <td>0.70</td>\n",
       "      <td>0.00</td>\n",
       "      <td>1.9</td>\n",
       "      <td>0.076</td>\n",
       "      <td>11.0</td>\n",
       "      <td>34.0</td>\n",
       "      <td>0.9978</td>\n",
       "      <td>3.51</td>\n",
       "      <td>0.56</td>\n",
       "      <td>9.4</td>\n",
       "      <td>5</td>\n",
       "      <td>red</td>\n",
       "    </tr>\n",
       "    <tr>\n",
       "      <th>1</th>\n",
       "      <td>7.8</td>\n",
       "      <td>0.88</td>\n",
       "      <td>0.00</td>\n",
       "      <td>2.6</td>\n",
       "      <td>0.098</td>\n",
       "      <td>25.0</td>\n",
       "      <td>67.0</td>\n",
       "      <td>0.9968</td>\n",
       "      <td>3.20</td>\n",
       "      <td>0.68</td>\n",
       "      <td>9.8</td>\n",
       "      <td>5</td>\n",
       "      <td>red</td>\n",
       "    </tr>\n",
       "    <tr>\n",
       "      <th>2</th>\n",
       "      <td>7.8</td>\n",
       "      <td>0.76</td>\n",
       "      <td>0.04</td>\n",
       "      <td>2.3</td>\n",
       "      <td>0.092</td>\n",
       "      <td>15.0</td>\n",
       "      <td>54.0</td>\n",
       "      <td>0.9970</td>\n",
       "      <td>3.26</td>\n",
       "      <td>0.65</td>\n",
       "      <td>9.8</td>\n",
       "      <td>5</td>\n",
       "      <td>red</td>\n",
       "    </tr>\n",
       "    <tr>\n",
       "      <th>3</th>\n",
       "      <td>11.2</td>\n",
       "      <td>0.28</td>\n",
       "      <td>0.56</td>\n",
       "      <td>1.9</td>\n",
       "      <td>0.075</td>\n",
       "      <td>17.0</td>\n",
       "      <td>60.0</td>\n",
       "      <td>0.9980</td>\n",
       "      <td>3.16</td>\n",
       "      <td>0.58</td>\n",
       "      <td>9.8</td>\n",
       "      <td>6</td>\n",
       "      <td>red</td>\n",
       "    </tr>\n",
       "    <tr>\n",
       "      <th>4</th>\n",
       "      <td>7.4</td>\n",
       "      <td>0.70</td>\n",
       "      <td>0.00</td>\n",
       "      <td>1.9</td>\n",
       "      <td>0.076</td>\n",
       "      <td>11.0</td>\n",
       "      <td>34.0</td>\n",
       "      <td>0.9978</td>\n",
       "      <td>3.51</td>\n",
       "      <td>0.56</td>\n",
       "      <td>9.4</td>\n",
       "      <td>5</td>\n",
       "      <td>red</td>\n",
       "    </tr>\n",
       "  </tbody>\n",
       "</table>\n",
       "</div>"
      ],
      "text/plain": [
       "   fixed acidity  volatile acidity  citric acid  residual sugar  chlorides  \\\n",
       "0            7.4              0.70         0.00             1.9      0.076   \n",
       "1            7.8              0.88         0.00             2.6      0.098   \n",
       "2            7.8              0.76         0.04             2.3      0.092   \n",
       "3           11.2              0.28         0.56             1.9      0.075   \n",
       "4            7.4              0.70         0.00             1.9      0.076   \n",
       "\n",
       "   free sulfur dioxide  total sulfur dioxide  density    pH  sulphates  \\\n",
       "0                 11.0                  34.0   0.9978  3.51       0.56   \n",
       "1                 25.0                  67.0   0.9968  3.20       0.68   \n",
       "2                 15.0                  54.0   0.9970  3.26       0.65   \n",
       "3                 17.0                  60.0   0.9980  3.16       0.58   \n",
       "4                 11.0                  34.0   0.9978  3.51       0.56   \n",
       "\n",
       "   alcohol  quality wine color  \n",
       "0      9.4        5        red  \n",
       "1      9.8        5        red  \n",
       "2      9.8        5        red  \n",
       "3      9.8        6        red  \n",
       "4      9.4        5        red  "
      ]
     },
     "execution_count": 6,
     "metadata": {},
     "output_type": "execute_result"
    }
   ],
   "source": [
    "df_red_wine.head()"
   ]
  },
  {
   "cell_type": "code",
   "execution_count": 7,
   "id": "922d69b8",
   "metadata": {},
   "outputs": [
    {
     "data": {
      "text/html": [
       "<div>\n",
       "<style scoped>\n",
       "    .dataframe tbody tr th:only-of-type {\n",
       "        vertical-align: middle;\n",
       "    }\n",
       "\n",
       "    .dataframe tbody tr th {\n",
       "        vertical-align: top;\n",
       "    }\n",
       "\n",
       "    .dataframe thead th {\n",
       "        text-align: right;\n",
       "    }\n",
       "</style>\n",
       "<table border=\"1\" class=\"dataframe\">\n",
       "  <thead>\n",
       "    <tr style=\"text-align: right;\">\n",
       "      <th></th>\n",
       "      <th>fixed acidity</th>\n",
       "      <th>volatile acidity</th>\n",
       "      <th>citric acid</th>\n",
       "      <th>residual sugar</th>\n",
       "      <th>chlorides</th>\n",
       "      <th>free sulfur dioxide</th>\n",
       "      <th>total sulfur dioxide</th>\n",
       "      <th>density</th>\n",
       "      <th>pH</th>\n",
       "      <th>sulphates</th>\n",
       "      <th>alcohol</th>\n",
       "      <th>quality</th>\n",
       "      <th>wine color</th>\n",
       "    </tr>\n",
       "  </thead>\n",
       "  <tbody>\n",
       "    <tr>\n",
       "      <th>0</th>\n",
       "      <td>7.0</td>\n",
       "      <td>0.27</td>\n",
       "      <td>0.36</td>\n",
       "      <td>20.7</td>\n",
       "      <td>0.045</td>\n",
       "      <td>45.0</td>\n",
       "      <td>170.0</td>\n",
       "      <td>1.0010</td>\n",
       "      <td>3.00</td>\n",
       "      <td>0.45</td>\n",
       "      <td>8.8</td>\n",
       "      <td>6</td>\n",
       "      <td>white</td>\n",
       "    </tr>\n",
       "    <tr>\n",
       "      <th>1</th>\n",
       "      <td>6.3</td>\n",
       "      <td>0.30</td>\n",
       "      <td>0.34</td>\n",
       "      <td>1.6</td>\n",
       "      <td>0.049</td>\n",
       "      <td>14.0</td>\n",
       "      <td>132.0</td>\n",
       "      <td>0.9940</td>\n",
       "      <td>3.30</td>\n",
       "      <td>0.49</td>\n",
       "      <td>9.5</td>\n",
       "      <td>6</td>\n",
       "      <td>white</td>\n",
       "    </tr>\n",
       "    <tr>\n",
       "      <th>2</th>\n",
       "      <td>8.1</td>\n",
       "      <td>0.28</td>\n",
       "      <td>0.40</td>\n",
       "      <td>6.9</td>\n",
       "      <td>0.050</td>\n",
       "      <td>30.0</td>\n",
       "      <td>97.0</td>\n",
       "      <td>0.9951</td>\n",
       "      <td>3.26</td>\n",
       "      <td>0.44</td>\n",
       "      <td>10.1</td>\n",
       "      <td>6</td>\n",
       "      <td>white</td>\n",
       "    </tr>\n",
       "    <tr>\n",
       "      <th>3</th>\n",
       "      <td>7.2</td>\n",
       "      <td>0.23</td>\n",
       "      <td>0.32</td>\n",
       "      <td>8.5</td>\n",
       "      <td>0.058</td>\n",
       "      <td>47.0</td>\n",
       "      <td>186.0</td>\n",
       "      <td>0.9956</td>\n",
       "      <td>3.19</td>\n",
       "      <td>0.40</td>\n",
       "      <td>9.9</td>\n",
       "      <td>6</td>\n",
       "      <td>white</td>\n",
       "    </tr>\n",
       "    <tr>\n",
       "      <th>4</th>\n",
       "      <td>7.2</td>\n",
       "      <td>0.23</td>\n",
       "      <td>0.32</td>\n",
       "      <td>8.5</td>\n",
       "      <td>0.058</td>\n",
       "      <td>47.0</td>\n",
       "      <td>186.0</td>\n",
       "      <td>0.9956</td>\n",
       "      <td>3.19</td>\n",
       "      <td>0.40</td>\n",
       "      <td>9.9</td>\n",
       "      <td>6</td>\n",
       "      <td>white</td>\n",
       "    </tr>\n",
       "  </tbody>\n",
       "</table>\n",
       "</div>"
      ],
      "text/plain": [
       "   fixed acidity  volatile acidity  citric acid  residual sugar  chlorides  \\\n",
       "0            7.0              0.27         0.36            20.7      0.045   \n",
       "1            6.3              0.30         0.34             1.6      0.049   \n",
       "2            8.1              0.28         0.40             6.9      0.050   \n",
       "3            7.2              0.23         0.32             8.5      0.058   \n",
       "4            7.2              0.23         0.32             8.5      0.058   \n",
       "\n",
       "   free sulfur dioxide  total sulfur dioxide  density    pH  sulphates  \\\n",
       "0                 45.0                 170.0   1.0010  3.00       0.45   \n",
       "1                 14.0                 132.0   0.9940  3.30       0.49   \n",
       "2                 30.0                  97.0   0.9951  3.26       0.44   \n",
       "3                 47.0                 186.0   0.9956  3.19       0.40   \n",
       "4                 47.0                 186.0   0.9956  3.19       0.40   \n",
       "\n",
       "   alcohol  quality wine color  \n",
       "0      8.8        6      white  \n",
       "1      9.5        6      white  \n",
       "2     10.1        6      white  \n",
       "3      9.9        6      white  \n",
       "4      9.9        6      white  "
      ]
     },
     "execution_count": 7,
     "metadata": {},
     "output_type": "execute_result"
    }
   ],
   "source": [
    "df_white_wine.head()"
   ]
  },
  {
   "cell_type": "markdown",
   "id": "eb66d974",
   "metadata": {},
   "source": [
    "### Verifica preliminare di righe e colonna per unire i due dataset"
   ]
  },
  {
   "cell_type": "code",
   "execution_count": 8,
   "id": "c9b32930",
   "metadata": {},
   "outputs": [
    {
     "name": "stdout",
     "output_type": "stream",
     "text": [
      "fixed acidity           1599\n",
      "volatile acidity        1599\n",
      "citric acid             1599\n",
      "residual sugar          1599\n",
      "chlorides               1599\n",
      "free sulfur dioxide     1599\n",
      "total sulfur dioxide    1599\n",
      "density                 1599\n",
      "pH                      1599\n",
      "sulphates               1599\n",
      "alcohol                 1599\n",
      "quality                 1599\n",
      "wine color              1599\n",
      "dtype: int64\n",
      "\n",
      "fixed acidity           4898\n",
      "volatile acidity        4898\n",
      "citric acid             4898\n",
      "residual sugar          4898\n",
      "chlorides               4898\n",
      "free sulfur dioxide     4898\n",
      "total sulfur dioxide    4898\n",
      "density                 4898\n",
      "pH                      4898\n",
      "sulphates               4898\n",
      "alcohol                 4898\n",
      "quality                 4898\n",
      "wine color              4898\n",
      "dtype: int64\n"
     ]
    }
   ],
   "source": [
    "print(df_red_wine.count())\n",
    "print()\n",
    "print(df_white_wine.count())"
   ]
  },
  {
   "cell_type": "markdown",
   "id": "051f3566",
   "metadata": {},
   "source": [
    "***\n",
    "\n",
    "*I vini rossi sono 1599 mentre i vini bianchi sono 4898. Da una prima analisi notiamo che non ci sono anomalie su valori nulli. Inoltre, hanno le stesse colonne quindi sono concatenabili*"
   ]
  },
  {
   "cell_type": "markdown",
   "id": "d0439749",
   "metadata": {},
   "source": [
    "### Concatenamento dei due dataset in un unico dataset (orizzontalmente)"
   ]
  },
  {
   "cell_type": "code",
   "execution_count": 9,
   "id": "58197843",
   "metadata": {},
   "outputs": [
    {
     "name": "stdout",
     "output_type": "stream",
     "text": [
      "<class 'pandas.core.frame.DataFrame'>\n",
      "RangeIndex: 6497 entries, 0 to 6496\n",
      "Data columns (total 13 columns):\n",
      " #   Column                Non-Null Count  Dtype  \n",
      "---  ------                --------------  -----  \n",
      " 0   fixed acidity         6497 non-null   float64\n",
      " 1   volatile acidity      6497 non-null   float64\n",
      " 2   citric acid           6497 non-null   float64\n",
      " 3   residual sugar        6497 non-null   float64\n",
      " 4   chlorides             6497 non-null   float64\n",
      " 5   free sulfur dioxide   6497 non-null   float64\n",
      " 6   total sulfur dioxide  6497 non-null   float64\n",
      " 7   density               6497 non-null   float64\n",
      " 8   pH                    6497 non-null   float64\n",
      " 9   sulphates             6497 non-null   float64\n",
      " 10  alcohol               6497 non-null   float64\n",
      " 11  quality               6497 non-null   int64  \n",
      " 12  wine color            6497 non-null   object \n",
      "dtypes: float64(11), int64(1), object(1)\n",
      "memory usage: 660.0+ KB\n"
     ]
    }
   ],
   "source": [
    "df_wines = pd.concat([df_red_wine, df_white_wine], axis=0)\n",
    "\n",
    "# mescolamento delle righe (axis = 0), ritorna tutte le righe (frac = 1)\n",
    "df_wines = df_wines.sample(frac=1, axis=0)\n",
    "\n",
    "# reset degli indici, elimina la colonna degli indici precedente (drop=true)\n",
    "# lavora sullo stesso DF (inplace=true)\n",
    "df_wines.reset_index(inplace=True, drop=True)\n",
    "\n",
    "# verifichiamo le operazioni\n",
    "df_wines.info()"
   ]
  },
  {
   "cell_type": "markdown",
   "id": "e056c538",
   "metadata": {},
   "source": [
    "***\n",
    "\n",
    "*Si ottengono 6497 entries con indici che vanno da 0 a 6496*"
   ]
  },
  {
   "cell_type": "code",
   "execution_count": 10,
   "id": "96981134",
   "metadata": {},
   "outputs": [
    {
     "data": {
      "text/html": [
       "<div>\n",
       "<style scoped>\n",
       "    .dataframe tbody tr th:only-of-type {\n",
       "        vertical-align: middle;\n",
       "    }\n",
       "\n",
       "    .dataframe tbody tr th {\n",
       "        vertical-align: top;\n",
       "    }\n",
       "\n",
       "    .dataframe thead th {\n",
       "        text-align: right;\n",
       "    }\n",
       "</style>\n",
       "<table border=\"1\" class=\"dataframe\">\n",
       "  <thead>\n",
       "    <tr style=\"text-align: right;\">\n",
       "      <th></th>\n",
       "      <th>fixed acidity</th>\n",
       "      <th>volatile acidity</th>\n",
       "      <th>citric acid</th>\n",
       "      <th>residual sugar</th>\n",
       "      <th>chlorides</th>\n",
       "      <th>free sulfur dioxide</th>\n",
       "      <th>total sulfur dioxide</th>\n",
       "      <th>density</th>\n",
       "      <th>pH</th>\n",
       "      <th>sulphates</th>\n",
       "      <th>alcohol</th>\n",
       "      <th>quality</th>\n",
       "      <th>wine color</th>\n",
       "    </tr>\n",
       "  </thead>\n",
       "  <tbody>\n",
       "    <tr>\n",
       "      <th>6492</th>\n",
       "      <td>6.4</td>\n",
       "      <td>0.18</td>\n",
       "      <td>0.74</td>\n",
       "      <td>11.90</td>\n",
       "      <td>0.046</td>\n",
       "      <td>54.0</td>\n",
       "      <td>168.0</td>\n",
       "      <td>0.99780</td>\n",
       "      <td>3.58</td>\n",
       "      <td>0.68</td>\n",
       "      <td>10.10</td>\n",
       "      <td>5</td>\n",
       "      <td>white</td>\n",
       "    </tr>\n",
       "    <tr>\n",
       "      <th>6493</th>\n",
       "      <td>7.9</td>\n",
       "      <td>0.30</td>\n",
       "      <td>0.60</td>\n",
       "      <td>1.85</td>\n",
       "      <td>0.048</td>\n",
       "      <td>13.0</td>\n",
       "      <td>106.0</td>\n",
       "      <td>0.99331</td>\n",
       "      <td>3.24</td>\n",
       "      <td>0.49</td>\n",
       "      <td>11.85</td>\n",
       "      <td>5</td>\n",
       "      <td>white</td>\n",
       "    </tr>\n",
       "    <tr>\n",
       "      <th>6494</th>\n",
       "      <td>7.7</td>\n",
       "      <td>0.15</td>\n",
       "      <td>0.29</td>\n",
       "      <td>1.30</td>\n",
       "      <td>0.029</td>\n",
       "      <td>10.0</td>\n",
       "      <td>64.0</td>\n",
       "      <td>0.99320</td>\n",
       "      <td>3.35</td>\n",
       "      <td>0.39</td>\n",
       "      <td>10.10</td>\n",
       "      <td>5</td>\n",
       "      <td>white</td>\n",
       "    </tr>\n",
       "    <tr>\n",
       "      <th>6495</th>\n",
       "      <td>7.2</td>\n",
       "      <td>0.39</td>\n",
       "      <td>0.62</td>\n",
       "      <td>11.00</td>\n",
       "      <td>0.047</td>\n",
       "      <td>66.0</td>\n",
       "      <td>178.0</td>\n",
       "      <td>0.99760</td>\n",
       "      <td>3.16</td>\n",
       "      <td>0.50</td>\n",
       "      <td>8.70</td>\n",
       "      <td>5</td>\n",
       "      <td>white</td>\n",
       "    </tr>\n",
       "    <tr>\n",
       "      <th>6496</th>\n",
       "      <td>6.7</td>\n",
       "      <td>0.37</td>\n",
       "      <td>0.25</td>\n",
       "      <td>2.50</td>\n",
       "      <td>0.028</td>\n",
       "      <td>24.0</td>\n",
       "      <td>84.0</td>\n",
       "      <td>0.99090</td>\n",
       "      <td>3.14</td>\n",
       "      <td>0.36</td>\n",
       "      <td>11.70</td>\n",
       "      <td>6</td>\n",
       "      <td>white</td>\n",
       "    </tr>\n",
       "  </tbody>\n",
       "</table>\n",
       "</div>"
      ],
      "text/plain": [
       "      fixed acidity  volatile acidity  citric acid  residual sugar  chlorides  \\\n",
       "6492            6.4              0.18         0.74           11.90      0.046   \n",
       "6493            7.9              0.30         0.60            1.85      0.048   \n",
       "6494            7.7              0.15         0.29            1.30      0.029   \n",
       "6495            7.2              0.39         0.62           11.00      0.047   \n",
       "6496            6.7              0.37         0.25            2.50      0.028   \n",
       "\n",
       "      free sulfur dioxide  total sulfur dioxide  density    pH  sulphates  \\\n",
       "6492                 54.0                 168.0  0.99780  3.58       0.68   \n",
       "6493                 13.0                 106.0  0.99331  3.24       0.49   \n",
       "6494                 10.0                  64.0  0.99320  3.35       0.39   \n",
       "6495                 66.0                 178.0  0.99760  3.16       0.50   \n",
       "6496                 24.0                  84.0  0.99090  3.14       0.36   \n",
       "\n",
       "      alcohol  quality wine color  \n",
       "6492    10.10        5      white  \n",
       "6493    11.85        5      white  \n",
       "6494    10.10        5      white  \n",
       "6495     8.70        5      white  \n",
       "6496    11.70        6      white  "
      ]
     },
     "execution_count": 10,
     "metadata": {},
     "output_type": "execute_result"
    }
   ],
   "source": [
    "df_wines.tail()"
   ]
  },
  {
   "cell_type": "markdown",
   "id": "2937c18a",
   "metadata": {},
   "source": [
    "***\n",
    "\n",
    "*Notiamo come gli indici vengono resettato in modo predefinito dopo la concatenazione ed il mescolamento*"
   ]
  },
  {
   "cell_type": "markdown",
   "id": "bf86e98b",
   "metadata": {},
   "source": [
    "### Verifica dei valori null sul nuovo dataset"
   ]
  },
  {
   "cell_type": "code",
   "execution_count": 11,
   "id": "8a97afcf",
   "metadata": {},
   "outputs": [
    {
     "data": {
      "text/plain": [
       "fixed acidity           False\n",
       "volatile acidity        False\n",
       "citric acid             False\n",
       "residual sugar          False\n",
       "chlorides               False\n",
       "free sulfur dioxide     False\n",
       "total sulfur dioxide    False\n",
       "density                 False\n",
       "pH                      False\n",
       "sulphates               False\n",
       "alcohol                 False\n",
       "quality                 False\n",
       "wine color              False\n",
       "dtype: bool"
      ]
     },
     "execution_count": 11,
     "metadata": {},
     "output_type": "execute_result"
    }
   ],
   "source": [
    "df_wines.isnull().any()"
   ]
  },
  {
   "cell_type": "markdown",
   "id": "83a4a8c2",
   "metadata": {},
   "source": [
    "***\n",
    "\n",
    "*Non ci sono valori mancanti/nulli e tutte le colonne (al netto della colonna descrittive aggiunta: colore) hanno un valore numerico*"
   ]
  },
  {
   "cell_type": "markdown",
   "id": "74b50dee",
   "metadata": {},
   "source": [
    "## Machine Learning"
   ]
  },
  {
   "cell_type": "markdown",
   "id": "672bc581",
   "metadata": {},
   "source": [
    "### Preparazione dei dataset"
   ]
  },
  {
   "cell_type": "code",
   "execution_count": 12,
   "id": "7b8090b8",
   "metadata": {},
   "outputs": [],
   "source": [
    "#Divido le features dalla label\n",
    "#Deinifisco features e label per il dataset di vini bianchi e rossi\n",
    "df_wines = df_wines.drop(columns=['wine color'])\n",
    "y = df_wines.pop('quality')\n",
    "X = df_wines"
   ]
  },
  {
   "cell_type": "code",
   "execution_count": 13,
   "id": "416655ef",
   "metadata": {},
   "outputs": [
    {
     "name": "stdout",
     "output_type": "stream",
     "text": [
      "<class 'pandas.core.frame.DataFrame'>\n",
      "RangeIndex: 6497 entries, 0 to 6496\n",
      "Data columns (total 11 columns):\n",
      " #   Column                Non-Null Count  Dtype  \n",
      "---  ------                --------------  -----  \n",
      " 0   fixed acidity         6497 non-null   float64\n",
      " 1   volatile acidity      6497 non-null   float64\n",
      " 2   citric acid           6497 non-null   float64\n",
      " 3   residual sugar        6497 non-null   float64\n",
      " 4   chlorides             6497 non-null   float64\n",
      " 5   free sulfur dioxide   6497 non-null   float64\n",
      " 6   total sulfur dioxide  6497 non-null   float64\n",
      " 7   density               6497 non-null   float64\n",
      " 8   pH                    6497 non-null   float64\n",
      " 9   sulphates             6497 non-null   float64\n",
      " 10  alcohol               6497 non-null   float64\n",
      "dtypes: float64(11)\n",
      "memory usage: 558.5 KB\n"
     ]
    }
   ],
   "source": [
    "X.info()"
   ]
  },
  {
   "cell_type": "code",
   "execution_count": 14,
   "id": "e562ff11",
   "metadata": {},
   "outputs": [
    {
     "data": {
      "text/html": [
       "<div>\n",
       "<style scoped>\n",
       "    .dataframe tbody tr th:only-of-type {\n",
       "        vertical-align: middle;\n",
       "    }\n",
       "\n",
       "    .dataframe tbody tr th {\n",
       "        vertical-align: top;\n",
       "    }\n",
       "\n",
       "    .dataframe thead th {\n",
       "        text-align: right;\n",
       "    }\n",
       "</style>\n",
       "<table border=\"1\" class=\"dataframe\">\n",
       "  <thead>\n",
       "    <tr style=\"text-align: right;\">\n",
       "      <th></th>\n",
       "      <th>fixed acidity</th>\n",
       "      <th>volatile acidity</th>\n",
       "      <th>citric acid</th>\n",
       "      <th>residual sugar</th>\n",
       "      <th>chlorides</th>\n",
       "      <th>free sulfur dioxide</th>\n",
       "      <th>total sulfur dioxide</th>\n",
       "      <th>density</th>\n",
       "      <th>pH</th>\n",
       "      <th>sulphates</th>\n",
       "      <th>alcohol</th>\n",
       "    </tr>\n",
       "  </thead>\n",
       "  <tbody>\n",
       "    <tr>\n",
       "      <th>0</th>\n",
       "      <td>6.1</td>\n",
       "      <td>0.44</td>\n",
       "      <td>0.28</td>\n",
       "      <td>4.25</td>\n",
       "      <td>0.032</td>\n",
       "      <td>43.0</td>\n",
       "      <td>132.0</td>\n",
       "      <td>0.99160</td>\n",
       "      <td>3.26</td>\n",
       "      <td>0.47</td>\n",
       "      <td>11.3</td>\n",
       "    </tr>\n",
       "    <tr>\n",
       "      <th>1</th>\n",
       "      <td>7.4</td>\n",
       "      <td>0.38</td>\n",
       "      <td>0.27</td>\n",
       "      <td>7.50</td>\n",
       "      <td>0.041</td>\n",
       "      <td>24.0</td>\n",
       "      <td>160.0</td>\n",
       "      <td>0.99535</td>\n",
       "      <td>3.17</td>\n",
       "      <td>0.43</td>\n",
       "      <td>10.0</td>\n",
       "    </tr>\n",
       "    <tr>\n",
       "      <th>2</th>\n",
       "      <td>7.2</td>\n",
       "      <td>0.19</td>\n",
       "      <td>0.39</td>\n",
       "      <td>1.20</td>\n",
       "      <td>0.036</td>\n",
       "      <td>32.0</td>\n",
       "      <td>85.0</td>\n",
       "      <td>0.99180</td>\n",
       "      <td>3.16</td>\n",
       "      <td>0.50</td>\n",
       "      <td>10.5</td>\n",
       "    </tr>\n",
       "    <tr>\n",
       "      <th>3</th>\n",
       "      <td>9.4</td>\n",
       "      <td>0.50</td>\n",
       "      <td>0.34</td>\n",
       "      <td>3.60</td>\n",
       "      <td>0.082</td>\n",
       "      <td>5.0</td>\n",
       "      <td>14.0</td>\n",
       "      <td>0.99870</td>\n",
       "      <td>3.29</td>\n",
       "      <td>0.52</td>\n",
       "      <td>10.7</td>\n",
       "    </tr>\n",
       "    <tr>\n",
       "      <th>4</th>\n",
       "      <td>6.2</td>\n",
       "      <td>0.45</td>\n",
       "      <td>0.26</td>\n",
       "      <td>4.40</td>\n",
       "      <td>0.063</td>\n",
       "      <td>63.0</td>\n",
       "      <td>206.0</td>\n",
       "      <td>0.99400</td>\n",
       "      <td>3.27</td>\n",
       "      <td>0.52</td>\n",
       "      <td>9.8</td>\n",
       "    </tr>\n",
       "  </tbody>\n",
       "</table>\n",
       "</div>"
      ],
      "text/plain": [
       "   fixed acidity  volatile acidity  citric acid  residual sugar  chlorides  \\\n",
       "0            6.1              0.44         0.28            4.25      0.032   \n",
       "1            7.4              0.38         0.27            7.50      0.041   \n",
       "2            7.2              0.19         0.39            1.20      0.036   \n",
       "3            9.4              0.50         0.34            3.60      0.082   \n",
       "4            6.2              0.45         0.26            4.40      0.063   \n",
       "\n",
       "   free sulfur dioxide  total sulfur dioxide  density    pH  sulphates  \\\n",
       "0                 43.0                 132.0  0.99160  3.26       0.47   \n",
       "1                 24.0                 160.0  0.99535  3.17       0.43   \n",
       "2                 32.0                  85.0  0.99180  3.16       0.50   \n",
       "3                  5.0                  14.0  0.99870  3.29       0.52   \n",
       "4                 63.0                 206.0  0.99400  3.27       0.52   \n",
       "\n",
       "   alcohol  \n",
       "0     11.3  \n",
       "1     10.0  \n",
       "2     10.5  \n",
       "3     10.7  \n",
       "4      9.8  "
      ]
     },
     "execution_count": 14,
     "metadata": {},
     "output_type": "execute_result"
    }
   ],
   "source": [
    "X.head()"
   ]
  },
  {
   "cell_type": "markdown",
   "id": "a3fc6267",
   "metadata": {},
   "source": [
    "### Classificazione K-Neighbors"
   ]
  },
  {
   "cell_type": "markdown",
   "id": "27ea1ffa",
   "metadata": {},
   "source": [
    "#### Normalizzazione dei dati"
   ]
  },
  {
   "cell_type": "code",
   "execution_count": 15,
   "id": "2d30d057",
   "metadata": {},
   "outputs": [],
   "source": [
    "#Normalizzatoredei dati\n",
    "scaler = MinMaxScaler(feature_range = (0,1))"
   ]
  },
  {
   "cell_type": "code",
   "execution_count": 16,
   "id": "c45731c7",
   "metadata": {},
   "outputs": [],
   "source": [
    "#Effettuo la normalizzazione\n",
    "X = scaler.fit_transform(X)"
   ]
  },
  {
   "cell_type": "markdown",
   "id": "c818f915",
   "metadata": {},
   "source": [
    "#### Inizializzazione del classificatore"
   ]
  },
  {
   "cell_type": "code",
   "execution_count": 17,
   "id": "01ad61b7",
   "metadata": {},
   "outputs": [],
   "source": [
    "#Preparo il classificatore\n",
    "classificator = neighbors.KNeighborsClassifier(n_neighbors = 1)"
   ]
  },
  {
   "cell_type": "markdown",
   "id": "3b289dd0",
   "metadata": {},
   "source": [
    "#### Validazione HoldOut"
   ]
  },
  {
   "cell_type": "code",
   "execution_count": 18,
   "id": "039f125a",
   "metadata": {},
   "outputs": [],
   "source": [
    "#Preparo i dataset per validazione con holdout\n",
    "X_train,X_test,y_train,y_test=train_test_split(X,y,test_size=0.3)"
   ]
  },
  {
   "cell_type": "code",
   "execution_count": 19,
   "id": "e83b073c",
   "metadata": {},
   "outputs": [
    {
     "data": {
      "text/plain": [
       "KNeighborsClassifier(n_neighbors=1)"
      ]
     },
     "execution_count": 19,
     "metadata": {},
     "output_type": "execute_result"
    }
   ],
   "source": [
    "#Addestro il modello\n",
    "classificator.fit(X_train,y_train)"
   ]
  },
  {
   "cell_type": "code",
   "execution_count": 20,
   "id": "47211201",
   "metadata": {},
   "outputs": [],
   "source": [
    "#Effettuo la predizione sui dati di test\n",
    "y_predict = classificator.predict(X_test)"
   ]
  },
  {
   "cell_type": "code",
   "execution_count": 21,
   "id": "5b010c08",
   "metadata": {},
   "outputs": [
    {
     "data": {
      "text/plain": [
       "array([8, 6, 6, ..., 6, 6, 5])"
      ]
     },
     "execution_count": 21,
     "metadata": {},
     "output_type": "execute_result"
    }
   ],
   "source": [
    "#Visualizzo la predizione\n",
    "y_predict"
   ]
  },
  {
   "cell_type": "code",
   "execution_count": 22,
   "id": "6dfe5a28",
   "metadata": {},
   "outputs": [
    {
     "data": {
      "text/plain": [
       "0.597948717948718"
      ]
     },
     "execution_count": 22,
     "metadata": {},
     "output_type": "execute_result"
    }
   ],
   "source": [
    "#Calcolo l'accouracy\n",
    "accuracy_score(y_test,y_predict)"
   ]
  },
  {
   "cell_type": "markdown",
   "id": "bdaf7d3a",
   "metadata": {},
   "source": [
    "#### Validazione 5 Fold Cross"
   ]
  },
  {
   "cell_type": "code",
   "execution_count": 23,
   "id": "94967f6f",
   "metadata": {},
   "outputs": [],
   "source": [
    "y_predict_leave_5_fold = cross_val_score(classificator,X,y,cv=5)"
   ]
  },
  {
   "cell_type": "code",
   "execution_count": 24,
   "id": "222e3ffe",
   "metadata": {},
   "outputs": [
    {
     "data": {
      "text/plain": [
       "0.6330598685379286"
      ]
     },
     "execution_count": 24,
     "metadata": {},
     "output_type": "execute_result"
    }
   ],
   "source": [
    "y_predict_leave_5_fold.mean()"
   ]
  },
  {
   "cell_type": "markdown",
   "id": "69848bf9",
   "metadata": {},
   "source": [
    "#### Validazione Leave One out"
   ]
  },
  {
   "cell_type": "code",
   "execution_count": 25,
   "id": "fa246e00",
   "metadata": {},
   "outputs": [],
   "source": [
    "#Provo con tecnica Leave One Out\n",
    "y_predict_leave_one_out = cross_val_score(classificator,X,y,cv=LeaveOneOut())"
   ]
  },
  {
   "cell_type": "code",
   "execution_count": 26,
   "id": "d1f35979",
   "metadata": {},
   "outputs": [
    {
     "data": {
      "text/plain": [
       "0.6616900107742035"
      ]
     },
     "execution_count": 26,
     "metadata": {},
     "output_type": "execute_result"
    }
   ],
   "source": [
    "y_predict_leave_one_out.mean()"
   ]
  },
  {
   "cell_type": "markdown",
   "id": "121e146e",
   "metadata": {},
   "source": [
    "#### Grid Search CV per cercare di migliorare il modello"
   ]
  },
  {
   "cell_type": "code",
   "execution_count": 27,
   "id": "378daf47",
   "metadata": {},
   "outputs": [],
   "source": [
    "#Cerco di calibrare il modello variando gli iper parametri con tecnica Grid Search CV\n",
    "param_grid = {'n_neighbors' : np.arange(1,10), 'weights' : ['uniform','distance']}"
   ]
  },
  {
   "cell_type": "code",
   "execution_count": 28,
   "id": "669d5958",
   "metadata": {},
   "outputs": [],
   "source": [
    "#Prepare il Grid e lo eseguo su\n",
    "grid = GridSearchCV(classificator,param_grid,cv=5)"
   ]
  },
  {
   "cell_type": "code",
   "execution_count": 29,
   "id": "e94059bd",
   "metadata": {},
   "outputs": [
    {
     "name": "stderr",
     "output_type": "stream",
     "text": [
      "/opt/homebrew/Caskroom/miniconda/base/envs/MWT/lib/python3.9/site-packages/sklearn/model_selection/_split.py:676: UserWarning: The least populated class in y has only 2 members, which is less than n_splits=5.\n",
      "  warnings.warn(\n"
     ]
    }
   ],
   "source": [
    "#Addestro il modello sulle varue combinazioni degli iperparametri\n",
    "grid.fit(X_train,y_train);"
   ]
  },
  {
   "cell_type": "code",
   "execution_count": 30,
   "id": "dd258cb3",
   "metadata": {},
   "outputs": [
    {
     "data": {
      "text/plain": [
       "{'n_neighbors': 9, 'weights': 'distance'}"
      ]
     },
     "execution_count": 30,
     "metadata": {},
     "output_type": "execute_result"
    }
   ],
   "source": [
    "#Iperparametri migliori\n",
    "grid.best_params_"
   ]
  },
  {
   "cell_type": "code",
   "execution_count": 31,
   "id": "e463182f",
   "metadata": {},
   "outputs": [],
   "source": [
    "#Effettuo una verifica\n",
    "y_predicted_by_grid = grid.best_estimator_.predict(X_test)"
   ]
  },
  {
   "cell_type": "code",
   "execution_count": 32,
   "id": "51c4a69f",
   "metadata": {},
   "outputs": [
    {
     "data": {
      "text/plain": [
       "0.6384615384615384"
      ]
     },
     "execution_count": 32,
     "metadata": {},
     "output_type": "execute_result"
    }
   ],
   "source": [
    "#Verifico l'accuratezza\n",
    "accuracy_score(y_test,y_predicted_by_grid)"
   ]
  },
  {
   "cell_type": "code",
   "execution_count": 33,
   "id": "8f25041c",
   "metadata": {},
   "outputs": [
    {
     "data": {
      "text/plain": [
       "0.005401669923609798"
      ]
     },
     "execution_count": 33,
     "metadata": {},
     "output_type": "execute_result"
    }
   ],
   "source": [
    "#Abbiamo migliorato il modello rispetto al 5 fold senza peso sugli archi\n",
    "accuracy_score(y_test,y_predicted_by_grid) - y_predict_leave_5_fold.mean()"
   ]
  },
  {
   "cell_type": "markdown",
   "id": "63329386",
   "metadata": {},
   "source": [
    "### Classificazoine con SVC"
   ]
  },
  {
   "cell_type": "markdown",
   "id": "7df8e8ea",
   "metadata": {},
   "source": [
    "#### Inizializzazione del classificatore"
   ]
  },
  {
   "cell_type": "code",
   "execution_count": 34,
   "id": "907ee336",
   "metadata": {},
   "outputs": [],
   "source": [
    "svc_classifier = SVC(kernel= 'linear')"
   ]
  },
  {
   "cell_type": "markdown",
   "id": "c9dfbaad",
   "metadata": {},
   "source": [
    "#### Holdout Validazione"
   ]
  },
  {
   "cell_type": "code",
   "execution_count": 35,
   "id": "fcffadcb",
   "metadata": {},
   "outputs": [
    {
     "data": {
      "text/plain": [
       "SVC(kernel='linear')"
      ]
     },
     "execution_count": 35,
     "metadata": {},
     "output_type": "execute_result"
    }
   ],
   "source": [
    "svc_classifier.fit(X_train,y_train)"
   ]
  },
  {
   "cell_type": "code",
   "execution_count": 36,
   "id": "25e6e62b",
   "metadata": {},
   "outputs": [],
   "source": [
    "y_predict_svc = svc_classifier.predict(X_test)"
   ]
  },
  {
   "cell_type": "code",
   "execution_count": 37,
   "id": "d6b2d47a",
   "metadata": {},
   "outputs": [
    {
     "data": {
      "text/plain": [
       "0.5169230769230769"
      ]
     },
     "execution_count": 37,
     "metadata": {},
     "output_type": "execute_result"
    }
   ],
   "source": [
    "accuracy_score(y_test,y_predict_svc)"
   ]
  },
  {
   "cell_type": "markdown",
   "id": "ad025e59",
   "metadata": {},
   "source": [
    "#### 5 fold cross validation"
   ]
  },
  {
   "cell_type": "code",
   "execution_count": 38,
   "id": "011bf0a8",
   "metadata": {},
   "outputs": [],
   "source": [
    "y_predict_svc_5_fold = cross_val_score(svc_classifier,X,y,cv=5)"
   ]
  },
  {
   "cell_type": "code",
   "execution_count": 39,
   "id": "25ecf700",
   "metadata": {},
   "outputs": [
    {
     "data": {
      "text/plain": [
       "0.6330598685379286"
      ]
     },
     "execution_count": 39,
     "metadata": {},
     "output_type": "execute_result"
    }
   ],
   "source": [
    "y_predict_leave_5_fold.mean()"
   ]
  },
  {
   "cell_type": "markdown",
   "id": "260c6afe",
   "metadata": {},
   "source": [
    "#### Grid search CV"
   ]
  },
  {
   "cell_type": "code",
   "execution_count": 84,
   "id": "e46ecc39",
   "metadata": {},
   "outputs": [],
   "source": [
    "#Cerco di calibrare il modello variando gli iper parametri con tecnica Grid Search CV\n",
    "param_grid = {'kernel' : ['linear', 'poly', 'rbf', 'sigmoid'], 'C' : [1,30,33]}"
   ]
  },
  {
   "cell_type": "code",
   "execution_count": 85,
   "id": "fc037cb8",
   "metadata": {},
   "outputs": [],
   "source": [
    "#Prepare il Grid e lo eseguo su\n",
    "grid = GridSearchCV(svc_classifier,param_grid,cv=5)"
   ]
  },
  {
   "cell_type": "code",
   "execution_count": 86,
   "id": "1fed73b1",
   "metadata": {},
   "outputs": [
    {
     "name": "stderr",
     "output_type": "stream",
     "text": [
      "/opt/homebrew/Caskroom/miniconda/base/envs/MWT/lib/python3.9/site-packages/sklearn/model_selection/_split.py:676: UserWarning: The least populated class in y has only 2 members, which is less than n_splits=5.\n",
      "  warnings.warn(\n"
     ]
    }
   ],
   "source": [
    "#Addestro il modello sulle varue combinazioni degli iperparametri\n",
    "grid.fit(X_train,y_train);"
   ]
  },
  {
   "cell_type": "code",
   "execution_count": 87,
   "id": "56e3bfd9",
   "metadata": {},
   "outputs": [
    {
     "data": {
      "text/plain": [
       "{'C': 30, 'kernel': 'rbf'}"
      ]
     },
     "execution_count": 87,
     "metadata": {},
     "output_type": "execute_result"
    }
   ],
   "source": [
    "#Iperparametri migliori\n",
    "grid.best_params_"
   ]
  },
  {
   "cell_type": "code",
   "execution_count": 88,
   "id": "d6ddd7bc",
   "metadata": {},
   "outputs": [],
   "source": [
    "#Effettuo una verifica\n",
    "y_predicted_by_grid = grid.best_estimator_.predict(X_test)"
   ]
  },
  {
   "cell_type": "code",
   "execution_count": 89,
   "id": "4d1cb8e4",
   "metadata": {},
   "outputs": [
    {
     "data": {
      "text/plain": [
       "0.5743589743589743"
      ]
     },
     "execution_count": 89,
     "metadata": {},
     "output_type": "execute_result"
    }
   ],
   "source": [
    "#Verifico l'accuratezza\n",
    "accuracy_score(y_test,y_predicted_by_grid)"
   ]
  },
  {
   "cell_type": "code",
   "execution_count": 95,
   "id": "d4d2310a",
   "metadata": {},
   "outputs": [],
   "source": [
    "matrix = confusion_matrix(y_test,y_predicted_by_grid)"
   ]
  },
  {
   "cell_type": "code",
   "execution_count": 96,
   "id": "e3bd4c4d",
   "metadata": {},
   "outputs": [
    {
     "data": {
      "text/plain": [
       "array([0.1       , 0.05714286, 0.60436137, 0.72473868, 0.32903226,\n",
       "       0.01851852, 0.        ])"
      ]
     },
     "execution_count": 96,
     "metadata": {},
     "output_type": "execute_result"
    }
   ],
   "source": [
    "matrix.diagonal()/matrix.sum(axis=1)"
   ]
  },
  {
   "cell_type": "code",
   "execution_count": 111,
   "id": "4b715abf",
   "metadata": {},
   "outputs": [
    {
     "data": {
      "image/png": "[encoded data removed]",
      "text/plain": [
       "<Figure size 576x396 with 2 Axes>"
      ]
     },
     "metadata": {},
     "output_type": "display_data"
    },
    {
     "data": {
      "image/png": "[encoded data removed]",
      "text/plain": [
       "<Figure size 576x396 with 2 Axes>"
      ]
     },
     "metadata": {},
     "output_type": "display_data"
    }
   ],
   "source": [
    "np.set_printoptions()\n",
    "\n",
    "# Plot non-normalized confusion matrix\n",
    "titles_options = [\n",
    "    (\"Confusion matrix, without normalization\", None),\n",
    "    (\"Normalized confusion matrix\", \"true\"),\n",
    "]\n",
    "for title, normalize in titles_options:\n",
    "    disp = ConfusionMatrixDisplay.from_estimator(\n",
    "        grid.best_estimator_,\n",
    "        X_test,\n",
    "        y_test,\n",
    "        display_labels= np.arange(3,10),\n",
    "        cmap=plt.cm.Blues,\n",
    "        normalize=normalize,\n",
    "    )\n",
    "    disp.ax_.set_title(title)\n",
    "    plt.grid(False)\n",
    "plt.show()"
   ]
  },
  {
   "cell_type": "code",
   "execution_count": null,
   "id": "8ff67e9c",
   "metadata": {},
   "outputs": [],
   "source": []
  }
 ],
 "metadata": {
  "kernelspec": {
   "display_name": "Python 3 (ipykernel)",
   "language": "python",
   "name": "python3"
  },
  "language_info": {
   "codemirror_mode": {
    "name": "ipython",
    "version": 3
   },
   "file_extension": ".py",
   "mimetype": "text/x-python",
   "name": "python",
   "nbconvert_exporter": "python",
   "pygments_lexer": "ipython3",
   "version": "3.9.7"
  }
 },
 "nbformat": 4,
 "nbformat_minor": 5
}
